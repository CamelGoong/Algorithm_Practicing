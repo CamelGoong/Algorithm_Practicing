{
  "nbformat": 4,
  "nbformat_minor": 0,
  "metadata": {
    "colab": {
      "name": "200_DataStructure1.ipynb",
      "provenance": [],
      "toc_visible": true,
      "authorship_tag": "ABX9TyMgJO8NVvTQ2QTfH5E4NLYq",
      "include_colab_link": true
    },
    "kernelspec": {
      "name": "python3",
      "display_name": "Python 3"
    },
    "language_info": {
      "name": "python"
    }
  },
  "cells": [
    {
      "cell_type": "markdown",
      "metadata": {
        "id": "view-in-github",
        "colab_type": "text"
      },
      "source": [
        "<a href=\"https://colab.research.google.com/github/CamelGoong/Algorithm_Practicing/blob/main/200_DataStructure1.ipynb\" target=\"_parent\"><img src=\"https://colab.research.google.com/assets/colab-badge.svg\" alt=\"Open In Colab\"/></a>"
      ]
    },
    {
      "cell_type": "markdown",
      "source": [
        "#1. 가장 큰 수 (스택)"
      ],
      "metadata": {
        "id": "OcPuSDQYgWOt"
      }
    },
    {
      "cell_type": "code",
      "execution_count": null,
      "metadata": {
        "colab": {
          "base_uri": "https://localhost:8080/"
        },
        "id": "9r2H_fSiZ64L",
        "outputId": "036a59de-4332-4990-e996-c48c305f6cdf"
      },
      "outputs": [
        {
          "output_type": "stream",
          "name": "stdout",
          "text": [
            "5276823 3\n",
            "7823\n"
          ]
        }
      ],
      "source": [
        "num, m = map(int, input().split())\n",
        "num = list(map(int, str(num))) # num을 string으로 바꿔놔야, map이 하나하나 접근해서 int로 만들 수 있게 됨. 그리고 그것들이 하나의 원소가 되어서 리스트의 원소로 들어감.\n",
        "\n",
        "stack= []\n",
        "\n",
        "for x in num:\n",
        "  while stack and m > 0 and stack[-1]<x: # stack이 비어있지 않고, 나보다 작으면 끄집어내라.\n",
        "    stack.pop()\n",
        "    m -= 1 # 하나 pop시켰으니까 감소시켜줘야 됨.\n",
        "  stack.append(x) # 그리고 없앴으면, 마지막으로 지가 들어가면 됨. # 이 부분이 while문 안에 있지 않다는 것에 유의!!\n",
        "\n",
        "if m!=0:\n",
        "  stack = stack[:-m] # 없애지 못한 갯수 전까지만 잘라서 저장ㄹ해서 갱신해주기\n",
        "\n",
        "res = \"\".join(map(str, stack)) # join이라는 함수를 쓰기 위해서는 str으로 바꿔준다음 붙일 수 있음.\n",
        "print(res)"
      ]
    },
    {
      "cell_type": "markdown",
      "source": [
        "# 2. 쇠막대기(스택)"
      ],
      "metadata": {
        "id": "LDxi5SbMgobj"
      }
    },
    {
      "cell_type": "code",
      "source": [
        ""
      ],
      "metadata": {
        "id": "UiRq8ckAgn74"
      },
      "execution_count": null,
      "outputs": []
    },
    {
      "cell_type": "markdown",
      "source": [
        "# deque를 활용한 queue"
      ],
      "metadata": {
        "id": "fHed5uTfomzr"
      }
    },
    {
      "cell_type": "code",
      "source": [
        "from collections import deque\n",
        "\n",
        "queue = deque([1,2,3])\n",
        "print(queue)\n",
        "\n",
        "queue.append(4)\n",
        "\n",
        "print(queue)\n",
        "\n",
        "print(queue.popleft()) # 그냥 pop이 아니고, 왼쪽 출구로 내보낸다는 의미로 .popleft()\n",
        "print(queue)\n",
        "\n"
      ],
      "metadata": {
        "colab": {
          "base_uri": "https://localhost:8080/"
        },
        "id": "1TIl96tXnRzk",
        "outputId": "b2144c85-1eb8-4667-db87-c17c67556826"
      },
      "execution_count": null,
      "outputs": [
        {
          "output_type": "stream",
          "name": "stdout",
          "text": [
            "deque([1, 2, 3])\n",
            "deque([1, 2, 3, 4])\n",
            "1\n",
            "deque([2, 3, 4])\n"
          ]
        }
      ]
    },
    {
      "cell_type": "markdown",
      "source": [
        "#200 - 자료구조"
      ],
      "metadata": {
        "id": "JmAbQY9GB0Pr"
      }
    },
    {
      "cell_type": "markdown",
      "source": [
        "**10828번 : 스택** (이렇게 푸는 맞나....) 처음 풀었을 때 시간초과"
      ],
      "metadata": {
        "id": "_9cSUyjYIohZ"
      }
    },
    {
      "cell_type": "markdown",
      "source": [
        "한 두줄 입력받는 문제들과 다르게. **반복문**으로 여러줄을 입력받아야 할 때는 input()으로 입력을 받는다면 시간초과가 발생할 수 있음.\n",
        "\n",
        "그러나, 반복문으로 여러 줄을 입력 받는 상황에서는 **sys.stdin.readline()**을 사용해야 시간 초과가 발생하지 않음."
      ],
      "metadata": {
        "id": "jb6hX8iYLVi5"
      }
    },
    {
      "cell_type": "markdown",
      "source": [
        "sys.stdin.readline()으로 입력받는 방법\n",
        "[설명 출처](https://velog.io/@ecvheo1/%EC%9E%85%EB%A0%A5-%EB%B0%9B%EB%8A%94-%EB%B0%A9%EB%B2%95-sys.stdin.readline)"
      ],
      "metadata": {
        "id": "u2MtmFp6Ora3"
      }
    },
    {
      "cell_type": "markdown",
      "source": [
        "sys.stdin.readline()의 return값은 문자열"
      ],
      "metadata": {
        "id": "Jkw25NzOO5tl"
      }
    },
    {
      "cell_type": "code",
      "source": [
        "import sys\n",
        "\n",
        "n = int(sys.stdin.readline()) # 이 부분을 주피터에서 돌려서 확인해볼 때는 n = int(input())으로 바꿔서 하면 될듯.\n",
        "#n = int(input())\n",
        "\n",
        "\n",
        "stack = []\n",
        "\n",
        "for i in range(n):\n",
        "  command = sys.stdin.readline().split() # 이 부분을 주피터에서 돌려서 확인해볼 때는 n = int(input().split())으로 바꿔서 하면 될듯.\n",
        "  #command = input().split()\n",
        "  if command[0] == \"push\":\n",
        "    stack.append(command[1])\n",
        "  \n",
        "  elif command[0] == \"pop\":\n",
        "    if stack:\n",
        "      print(stack.pop())\n",
        "    else:\n",
        "      print(-1)\n",
        "    \n",
        "\n",
        "  elif command[0] == \"size\":\n",
        "    print(len(stack))\n",
        "  \n",
        "  elif command[0] == \"empty\":\n",
        "    if stack:\n",
        "      print(0)\n",
        "    else:\n",
        "      print(1)\n",
        "  \n",
        "  elif command[0] == \"top\":\n",
        "    if stack:\n",
        "      print(stack[-1])\n",
        "    else:\n",
        "      print(-1)\n",
        "\n",
        "\n"
      ],
      "metadata": {
        "colab": {
          "base_uri": "https://localhost:8080/"
        },
        "id": "e3livn64B41c",
        "outputId": "9366d1e7-1614-4c58-c7e3-3ffcd4ded3aa"
      },
      "execution_count": 23,
      "outputs": [
        {
          "output_type": "stream",
          "name": "stdout",
          "text": [
            "7\n",
            "pop\n",
            "-1\n",
            "top\n",
            "-1\n",
            "push 123\n",
            "top\n",
            "123\n",
            "pop\n",
            "123\n",
            "top\n",
            "-1\n",
            "pop\n",
            "-1\n"
          ]
        }
      ]
    },
    {
      "cell_type": "markdown",
      "source": [
        "**9093번 :  단어 뒤집기**"
      ],
      "metadata": {
        "id": "9R7wfRXuP_8b"
      }
    },
    {
      "cell_type": "code",
      "source": [
        "import sys\n",
        "\n",
        "T = int(sys.stdin.readline())\n",
        "# T = int(input())\n",
        "\n",
        "stack = []\n",
        "\n",
        "for i in range(T):\n",
        "  sentence = sys.stdin.readline().split()\n",
        "  #sentence = input().split()\n",
        "\n",
        "  for j in range(len(sentence)):\n",
        "    print(\"\".join(reversed(sentence[j])), end = \" \")\n",
        "     \n"
      ],
      "metadata": {
        "colab": {
          "base_uri": "https://localhost:8080/"
        },
        "id": "ZIIwba4uPvVG",
        "outputId": "5bf40733-4162-44ef-8b26-2a7b8aa228fb"
      },
      "execution_count": 40,
      "outputs": [
        {
          "output_type": "stream",
          "name": "stdout",
          "text": [
            "2\n",
            "I am happy today\n",
            "I ma yppah yadot We want to win the first prize\n",
            "eW tnaw ot niw eht tsrif ezirp "
          ]
        }
      ]
    },
    {
      "cell_type": "markdown",
      "source": [
        "**9012번 : 괄호 (VPS)** "
      ],
      "metadata": {
        "id": "6D_f2tOVU7gt"
      }
    },
    {
      "cell_type": "markdown",
      "source": [
        "이 문제에서는 sys.stdin.readline()을 사용했을 때, 안되었음... 이유를 모르겠네 ㅜ"
      ],
      "metadata": {
        "id": "DGbQ3CnIlqqX"
      }
    },
    {
      "cell_type": "code",
      "source": [
        "import sys\n",
        "\n",
        "#n = int(sys.stdin.readline()) \n",
        "n = int(input())\n",
        "\n",
        "for i in range(n):\n",
        "  #paren = sys.stdin.readline().rstrip() # readline으로 받는 경우는 뒤에 개행문자(\\n)가 붙을 수 있으니. rstrip()으로 제거해야 함.\n",
        "  paren = input()\n",
        "  vps = 0 # 판단 근거: vps\n",
        "  \n",
        "  \n",
        "  #paren = input()\n",
        "\n",
        "\n",
        "  for j in paren:\n",
        "    if j == \"(\":\n",
        "      vps += 1\n",
        "    else:\n",
        "      vps -= 1\n",
        "    \n",
        "    if vps < 0:\n",
        "      print(\"NO\")\n",
        "      break\n",
        "\n",
        "  if vps > 0:\n",
        "    print(\"NO\")\n",
        "  elif vps == 0:\n",
        "    print(\"YES\")\n",
        "\n",
        "  \n"
      ],
      "metadata": {
        "colab": {
          "base_uri": "https://localhost:8080/"
        },
        "id": "gVG-rBDuRIMn",
        "outputId": "d0eff732-2a3a-4728-c8c7-021ac19dc7ac"
      },
      "execution_count": 64,
      "outputs": [
        {
          "output_type": "stream",
          "name": "stdout",
          "text": [
            "2\n",
            "(()))\n",
            "NO\n",
            "()\n",
            "YES\n"
          ]
        }
      ]
    },
    {
      "cell_type": "markdown",
      "source": [
        "**1874번 : 스택 수열** "
      ],
      "metadata": {
        "id": "YeV_dMFxsE28"
      }
    },
    {
      "cell_type": "code",
      "source": [
        "n = int(input())\n",
        "\n",
        "stack = []\n",
        "result = []\n",
        "j = 1\n",
        "\n",
        "judge = 0 # 수열 구현 가능여부 판단기준\n",
        "\n",
        "for i in range(n):\n",
        "  seq = int(input())\n",
        " \n",
        "  while j <= seq: # 수열로 주어진 수랑 같아질 때까지, stack에 계속 append\n",
        "    stack.append(j)\n",
        "    result.append(\"+\")\n",
        "\n",
        "    j += 1\n",
        "\n",
        "  if stack[-1] == seq: # stack의 TOP이 seq와 같다면, POP\n",
        "    stack.pop()\n",
        "    result.append(\"-\")\n",
        "  else:\n",
        "    print(\"NO\")\n",
        "    judge = 1\n",
        "    break\n",
        "  \n",
        "if not judge:\n",
        "  for i in result:\n",
        "    print(i) \n",
        "\n",
        "\n",
        "  "
      ],
      "metadata": {
        "colab": {
          "base_uri": "https://localhost:8080/"
        },
        "id": "CT_XySYyocmS",
        "outputId": "e26947a7-962b-4417-8160-a54da8c08484"
      },
      "execution_count": 94,
      "outputs": [
        {
          "name": "stdout",
          "output_type": "stream",
          "text": [
            "5\n",
            "1\n",
            "2\n",
            "5\n",
            "3\n",
            "NO\n",
            "4\n"
          ]
        }
      ]
    },
    {
      "cell_type": "markdown",
      "source": [
        "**1406번 : 에디터**"
      ],
      "metadata": {
        "id": "KRjFlVshFfDb"
      }
    },
    {
      "cell_type": "markdown",
      "source": [
        "나만의 이상한 풀이로 풀다보니까, 계속 \"시간초과\"가 발생해서 다른 방식으로 풀어보고자 함."
      ],
      "metadata": {
        "id": "IJ_Roj6HX3gq"
      }
    },
    {
      "cell_type": "code",
      "source": [
        "import sys\n",
        "\n",
        "string_list = list(input())\n",
        "n = int(input()) # 명령어의 갯수 입력\n",
        "cursor = len(string_list) # 커서의 위치\n",
        "\n",
        "for i in range(n):\n",
        "  #command = sys.stdin.readline().rstrip().split()\n",
        "  \n",
        "  command = input().split()\n",
        "  \n",
        "  if command[0] == \"L\":\n",
        "    if cursor != 0:\n",
        "      cursor -= 1\n",
        "\n",
        "  elif command[0] == \"D\":\n",
        "    if cursor != len(string_list):\n",
        "      cursor += 1  \n",
        "\n",
        "  elif command[0] == \"B\":\n",
        "    if cursor != 0:\n",
        "      string_list.pop(cursor - 1)\n",
        "      cursor -= 1\n",
        "\n",
        "  else:\n",
        "    string_list.insert(cursor, command[1])\n",
        "    cursor += 1\n",
        "    \n",
        "print(\"\".join(string_list))\n",
        "    \n"
      ],
      "metadata": {
        "colab": {
          "base_uri": "https://localhost:8080/"
        },
        "id": "GQbqLGdqFiqS",
        "outputId": "6155dfcd-c839-4b9f-923f-04276436f879"
      },
      "execution_count": 20,
      "outputs": [
        {
          "output_type": "stream",
          "name": "stdout",
          "text": [
            "abc\n",
            "9\n",
            "L\n",
            "L\n",
            "L\n",
            "L\n",
            "L\n",
            "P x\n",
            "L\n",
            "B\n",
            "P y\n",
            "yxabc\n"
          ]
        }
      ]
    },
    {
      "cell_type": "markdown",
      "source": [
        "stack으로 다시 풀이하니까 성공! ㅠ.ㅠ"
      ],
      "metadata": {
        "id": "H6i2SlhWaPuK"
      }
    },
    {
      "cell_type": "code",
      "source": [
        "import sys\n",
        "\n",
        "stack1 = list(sys.stdin.readline().strip())\n",
        "#stack1 = list(input())\n",
        "stack2 = []\n",
        "n = int(input()) # 명령어의 갯수 입력\n",
        "\n",
        "for i in range(n):\n",
        "  command = sys.stdin.readline().strip().split()\n",
        "  #command = input().strip().split()\n",
        "  if command[0] == \"L\":\n",
        "    if stack1:\n",
        "      stack2.append(stack1.pop())\n",
        "\n",
        "  elif command[0] == \"D\":\n",
        "    if stack2:\n",
        "      stack1.append(stack2.pop())\n",
        "\n",
        "  elif command[0] == \"B\":\n",
        "    if stack1:\n",
        "      stack1.pop()\n",
        "\n",
        "  elif command[0] ==\"P\":\n",
        "    stack1.append(command[1])\n",
        "\n",
        "print(\"\".join(stack1 + list(reversed(stack2)))) # reversed를 적용해버리면, 그 객체? 가 반환되는 것이기 때문에, 이를 다시 list로 씌어줘야 함."
      ],
      "metadata": {
        "colab": {
          "base_uri": "https://localhost:8080/"
        },
        "id": "zgY6-ih5XiCO",
        "outputId": "87996e75-3333-48df-b911-f09bbbbdc32c"
      },
      "execution_count": 21,
      "outputs": [
        {
          "output_type": "stream",
          "name": "stdout",
          "text": [
            "abcd\n",
            "3\n",
            "P x\n",
            "L\n",
            "P y\n",
            "abcdyx\n"
          ]
        }
      ]
    },
    {
      "cell_type": "markdown",
      "source": [
        "**10845번 : 큐**"
      ],
      "metadata": {
        "id": "awTxGPdHaTSi"
      }
    },
    {
      "cell_type": "code",
      "source": [
        "import sys\n",
        "\n",
        "n = int(input())\n",
        "queue = []\n",
        "\n",
        "for i in range(n):\n",
        "  #command = input().split()\n",
        "  command = sys.stdin.readline().strip().split()\n",
        "\n",
        "  if command[0] == \"push\":\n",
        "    queue.append(command[1])\n",
        "\n",
        "  elif command[0] == \"pop\":\n",
        "    if queue:\n",
        "      print(queue.pop(0))\n",
        "    else:\n",
        "      print(-1)\n",
        "\n",
        "  elif command[0] == \"size\":\n",
        "    print(len(queue))\n",
        "\n",
        "  elif command[0] == \"empty\":\n",
        "    if queue:\n",
        "      print(0)\n",
        "    else:\n",
        "      print(1)\n",
        "\n",
        "  elif command[0] == \"front\":\n",
        "    if queue:\n",
        "      print(queue[0])\n",
        "    else:\n",
        "      print(-1)\n",
        "\n",
        "  elif command[0] == \"back\":\n",
        "    if queue:\n",
        "      print(queue[-1])\n",
        "    else:\n",
        "      print(-1)"
      ],
      "metadata": {
        "colab": {
          "base_uri": "https://localhost:8080/"
        },
        "id": "JQ9nZxXcXDou",
        "outputId": "f2c0e9a2-3984-4579-806e-70212d287935"
      },
      "execution_count": 24,
      "outputs": [
        {
          "output_type": "stream",
          "name": "stdout",
          "text": [
            "15\n",
            "push 1\n",
            "push 2\n",
            "front\n",
            "1\n",
            "back\n",
            "2\n",
            "size\n",
            "2\n",
            "empty\n",
            "0\n",
            "pop\n",
            "1\n",
            "pop\n",
            "2\n",
            "pop\n",
            "-1\n",
            "size\n",
            "0\n",
            "empty\n",
            "1\n",
            "pop\n",
            "-1\n",
            "push 3\n",
            "empty\n",
            "0\n",
            "front\n",
            "3\n"
          ]
        }
      ]
    },
    {
      "cell_type": "markdown",
      "source": [
        "**1158번 : 요세푸스 문제**"
      ],
      "metadata": {
        "id": "gVegB0G8fCsi"
      }
    },
    {
      "cell_type": "code",
      "source": [
        "N, K = map(int, input().split())\n",
        "result = []\n",
        "num = [i for i in range(1, N+1)]\n",
        "\n",
        "cursor = 0\n",
        "\n",
        "for i in range(N):\n",
        "  cursor += K-1\n",
        "  \n",
        "  if  cursor >= len(num):\n",
        "    cursor = cursor % len(num)\n",
        "  \n",
        "  result.append(num.pop(cursor))\n",
        "\n",
        "print( \"<\" + ', '.join(map(str, result)) + \">\")"
      ],
      "metadata": {
        "colab": {
          "base_uri": "https://localhost:8080/"
        },
        "id": "QBkFylWFfLSw",
        "outputId": "cffacd5d-087f-462b-9e4f-e5844f2dbc36"
      },
      "execution_count": 51,
      "outputs": [
        {
          "output_type": "stream",
          "name": "stdout",
          "text": [
            "7 3\n",
            "<3, 6, 2, 7, 5, 1, 4>\n"
          ]
        }
      ]
    },
    {
      "cell_type": "markdown",
      "source": [
        "**10866 : 덱**"
      ],
      "metadata": {
        "id": "2SWmNqH5vd8S"
      }
    },
    {
      "cell_type": "markdown",
      "source": [
        "덱 문제를 풀기 전에 구글링을 통해서 Python의 **collections.deque**를 연습해보았다..."
      ],
      "metadata": {
        "id": "0pRbQo251EN5"
      }
    },
    {
      "cell_type": "markdown",
      "source": [
        "deque.append()"
      ],
      "metadata": {
        "id": "U8DKeeMN150Q"
      }
    },
    {
      "cell_type": "code",
      "source": [
        "from collections import deque\n",
        "\n",
        "dq = deque([1, 2, 3, 4])\n",
        "dq.append(\"a\")\n",
        "print(dq)"
      ],
      "metadata": {
        "colab": {
          "base_uri": "https://localhost:8080/"
        },
        "id": "5sxcXLEAvlyV",
        "outputId": "0d4640af-3a5d-4c19-9971-dedb71936f72"
      },
      "execution_count": 57,
      "outputs": [
        {
          "output_type": "stream",
          "name": "stdout",
          "text": [
            "deque([1, 2, 3, 4, 'a'])\n"
          ]
        }
      ]
    },
    {
      "cell_type": "markdown",
      "source": [
        "deque.appendleft()"
      ],
      "metadata": {
        "id": "QeBMYBEm2RJJ"
      }
    },
    {
      "cell_type": "code",
      "source": [
        "dq.appendleft(0)\n",
        "print(dq)"
      ],
      "metadata": {
        "colab": {
          "base_uri": "https://localhost:8080/"
        },
        "id": "yIY79hLj2Txf",
        "outputId": "4af208f0-eac6-476b-a7d8-068b88539195"
      },
      "execution_count": 58,
      "outputs": [
        {
          "output_type": "stream",
          "name": "stdout",
          "text": [
            "deque([0, 1, 2, 3, 4, 'a'])\n"
          ]
        }
      ]
    },
    {
      "cell_type": "markdown",
      "source": [
        "deque.clear()"
      ],
      "metadata": {
        "id": "l-MKOX6p19my"
      }
    },
    {
      "cell_type": "code",
      "source": [
        "dq.clear()\n",
        "print(dq)"
      ],
      "metadata": {
        "colab": {
          "base_uri": "https://localhost:8080/"
        },
        "id": "me9mUg9214-x",
        "outputId": "e2f5dd14-67e3-48d5-8f63-6db8baa619a0"
      },
      "execution_count": 56,
      "outputs": [
        {
          "output_type": "stream",
          "name": "stdout",
          "text": [
            "deque([])\n"
          ]
        }
      ]
    },
    {
      "cell_type": "markdown",
      "source": [
        "deque.insert()"
      ],
      "metadata": {
        "id": "es-aEu1F2hsB"
      }
    },
    {
      "cell_type": "code",
      "source": [
        "dq.insert(3, 100)\n",
        "print(dq)"
      ],
      "metadata": {
        "colab": {
          "base_uri": "https://localhost:8080/"
        },
        "id": "rqqF2OIo1wfo",
        "outputId": "6b98a128-fad3-44c0-9ba7-ce0aa5fc4940"
      },
      "execution_count": 60,
      "outputs": [
        {
          "output_type": "stream",
          "name": "stdout",
          "text": [
            "deque([0, 1, 2, 100, 3, 4, 'a'])\n"
          ]
        }
      ]
    },
    {
      "cell_type": "markdown",
      "source": [
        "deque.pop()"
      ],
      "metadata": {
        "id": "fGbdZKaq2sRQ"
      }
    },
    {
      "cell_type": "code",
      "source": [
        "print(dq)\n",
        "print(dq.pop())\n",
        "print(dq)"
      ],
      "metadata": {
        "colab": {
          "base_uri": "https://localhost:8080/"
        },
        "id": "4jUO8ZpZ2pHw",
        "outputId": "47464ebe-acd2-452b-b64f-c11c29bcfe83"
      },
      "execution_count": 62,
      "outputs": [
        {
          "output_type": "stream",
          "name": "stdout",
          "text": [
            "deque([0, 1, 2, 100, 3, 4])\n",
            "4\n",
            "deque([0, 1, 2, 100, 3])\n"
          ]
        }
      ]
    },
    {
      "cell_type": "markdown",
      "source": [
        "deque.popleft()"
      ],
      "metadata": {
        "id": "S7OaMONF21i_"
      }
    },
    {
      "cell_type": "code",
      "source": [
        "print(dq)\n",
        "print(dq.popleft())\n",
        "print(dq)"
      ],
      "metadata": {
        "colab": {
          "base_uri": "https://localhost:8080/"
        },
        "id": "tHWY3stu2yDY",
        "outputId": "93829b9b-2832-4727-e964-bfdacf8f97a9"
      },
      "execution_count": 63,
      "outputs": [
        {
          "output_type": "stream",
          "name": "stdout",
          "text": [
            "deque([0, 1, 2, 100, 3])\n",
            "0\n",
            "deque([1, 2, 100, 3])\n"
          ]
        }
      ]
    },
    {
      "cell_type": "markdown",
      "source": [
        "자, 여기가 이제 진짜 **10866번 '덱' 문제**다!!!"
      ],
      "metadata": {
        "id": "OaU9xpsZ3cin"
      }
    },
    {
      "cell_type": "code",
      "source": [
        "from collections import deque\n",
        "import sys\n",
        "\n",
        "Deque = deque([])\n",
        "\n",
        "n = int(input())\n",
        "\n",
        "for i in range(n):\n",
        "  command = sys.stdin.readline().rstrip().split()\n",
        "  #command = input().rstrip().split()\n",
        "  if command[0] == \"push_front\":\n",
        "    Deque.appendleft(command[1])\n",
        "\n",
        "  elif command[0] == \"push_back\":\n",
        "    Deque.append(command[1])\n",
        "\n",
        "  elif command[0] == \"pop_front\":\n",
        "    if Deque:\n",
        "      print(Deque.popleft())\n",
        "    else:\n",
        "      print(-1)\n",
        "  \n",
        "  elif command[0] == \"pop_back\":\n",
        "    if Deque:\n",
        "      print(Deque.pop())\n",
        "    else:\n",
        "      print(-1)\n",
        "\n",
        "  elif command[0] == \"size\":\n",
        "    print(len(Deque))\n",
        "\n",
        "  elif command[0] == \"empty\":\n",
        "    if Deque:\n",
        "      print(0)\n",
        "    else:\n",
        "      print(1)\n",
        "\n",
        "  elif command[0] == \"front\":\n",
        "    if Deque:\n",
        "      print(Deque[0])\n",
        "    else:\n",
        "      print(-1)\n",
        "\n",
        "  elif command[0] == \"back\":\n",
        "    if Deque:\n",
        "      print(Deque[-1])\n",
        "    else:\n",
        "      print(-1)"
      ],
      "metadata": {
        "colab": {
          "base_uri": "https://localhost:8080/"
        },
        "id": "FEuvn-ft2-CY",
        "outputId": "4071f667-276e-43b9-f22d-d0b6a1d60fda"
      },
      "execution_count": 73,
      "outputs": [
        {
          "output_type": "stream",
          "name": "stdout",
          "text": [
            "15\n",
            "push_back 1\n",
            "push_front 2\n",
            "front\n",
            "2\n",
            "back\n",
            "1\n",
            "size\n",
            "2\n",
            "empty\n",
            "0\n",
            "pop_front\n",
            "2\n",
            "pop_back\n",
            "1\n",
            "size\n",
            "0\n",
            "empty\n",
            "1\n",
            "pop_back\n",
            "-1\n",
            "push_front 3\n",
            "empty\n",
            "0\n",
            "front\n",
            "3\n",
            "front\n",
            "3\n"
          ]
        }
      ]
    },
    {
      "cell_type": "code",
      "source": [
        ""
      ],
      "metadata": {
        "id": "84wVfxj19UkP"
      },
      "execution_count": null,
      "outputs": []
    }
  ]
}