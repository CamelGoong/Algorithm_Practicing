{
  "nbformat": 4,
  "nbformat_minor": 0,
  "metadata": {
    "colab": {
      "name": "[Chapter11]Py_Algorithm Interview.ipynb",
      "provenance": [],
      "collapsed_sections": [],
      "authorship_tag": "ABX9TyPlLwooU1Za/5+Txw8Hawnn",
      "include_colab_link": true
    },
    "kernelspec": {
      "name": "python3",
      "display_name": "Python 3"
    },
    "language_info": {
      "name": "python"
    },
    "accelerator": "GPU",
    "gpuClass": "standard"
  },
  "cells": [
    {
      "cell_type": "markdown",
      "metadata": {
        "id": "view-in-github",
        "colab_type": "text"
      },
      "source": [
        "<a href=\"https://colab.research.google.com/github/CamelGoong/Algorithm_Practicing/blob/main/%5BChapter11%5DPy_Algorithm_Interview.ipynb\" target=\"_parent\"><img src=\"https://colab.research.google.com/assets/colab-badge.svg\" alt=\"Open In Colab\"/></a>"
      ]
    },
    {
      "cell_type": "markdown",
      "source": [
        "# 29 보석과 돌"
      ],
      "metadata": {
        "id": "fM2GjZbfIGqA"
      }
    },
    {
      "cell_type": "markdown",
      "source": [
        "풀이 1 : 해시 테이블을 이용한 풀이"
      ],
      "metadata": {
        "id": "W-oDZvG6IKTf"
      }
    },
    {
      "cell_type": "code",
      "execution_count": null,
      "metadata": {
        "id": "DiEfStD5IpoG"
      },
      "outputs": [],
      "source": [
        "J = \"aA\"\n",
        "S = \"aAAbbbb\"\n",
        "\n",
        "def numJewelsInStones(J, S):\n",
        "  S_dict = {}\n",
        "  for alphabet in S:\n",
        "    if alphabet not in S_dict:\n",
        "      S_dict[alphabet] = 1\n",
        "    else:\n",
        "      S_dict[alphabet] += 1\n",
        "\n",
        "  sum = 0\n",
        "  for alphabet in J:\n",
        "    sum += S_dict[alphabet]\n",
        "\n",
        "  return sum"
      ]
    },
    {
      "cell_type": "code",
      "source": [
        "numJewelsInStones(J, S)"
      ],
      "metadata": {
        "colab": {
          "base_uri": "https://localhost:8080/"
        },
        "id": "IM5iCQucJ3r4",
        "outputId": "9ee66bf5-ad03-4290-8323-3defce7c1f99"
      },
      "execution_count": null,
      "outputs": [
        {
          "output_type": "execute_result",
          "data": {
            "text/plain": [
              "3"
            ]
          },
          "metadata": {},
          "execution_count": 7
        }
      ]
    },
    {
      "cell_type": "markdown",
      "source": [
        " 풀이 2 : defaultdict를 이용한 비교 생략"
      ],
      "metadata": {
        "id": "JHAbAxx0KAkf"
      }
    },
    {
      "cell_type": "code",
      "source": [
        "import collections\n",
        "\n",
        "def numJewelsInStones(J, S):\n",
        "  S_dict = collections.defaultdict(int)\n",
        "  sum = 0\n",
        "\n",
        "  for alphabet in S:\n",
        "    S_dict[alphabet] += 1\n",
        "\n",
        "  for alphabet in J:\n",
        "    sum += S_dict[alphabet]\n",
        "  return sum"
      ],
      "metadata": {
        "id": "6FM6ZL_1KDnY"
      },
      "execution_count": null,
      "outputs": []
    },
    {
      "cell_type": "code",
      "source": [
        "numJewelsInStones(J,S)"
      ],
      "metadata": {
        "colab": {
          "base_uri": "https://localhost:8080/"
        },
        "id": "DG1NuxckLMV_",
        "outputId": "7194b44e-4242-4f96-a731-d8c3b957f1b6"
      },
      "execution_count": null,
      "outputs": [
        {
          "output_type": "execute_result",
          "data": {
            "text/plain": [
              "3"
            ]
          },
          "metadata": {},
          "execution_count": 15
        }
      ]
    },
    {
      "cell_type": "markdown",
      "source": [
        "풀이 3 : Counter로 계산 생략"
      ],
      "metadata": {
        "id": "5KEAgsY1LRX3"
      }
    },
    {
      "cell_type": "code",
      "source": [
        "from collections import Counter\n",
        "\n",
        "def numJewelsInStones(J, S):\n",
        "  S_dict = Counter(S)\n",
        "\n",
        "  sum = 0\n",
        "  for alphabet in J:\n",
        "    sum += S_dict[alphabet]\n",
        "\n",
        "  return sum"
      ],
      "metadata": {
        "id": "nWaoS9liLPrd"
      },
      "execution_count": null,
      "outputs": []
    },
    {
      "cell_type": "code",
      "source": [
        "numJewelsInStones(J,S)"
      ],
      "metadata": {
        "colab": {
          "base_uri": "https://localhost:8080/"
        },
        "id": "8j00PfIeMAaX",
        "outputId": "4e3dd3a9-c475-4e4d-f3b4-d0077955cf0c"
      },
      "execution_count": null,
      "outputs": [
        {
          "output_type": "execute_result",
          "data": {
            "text/plain": [
              "3"
            ]
          },
          "metadata": {},
          "execution_count": 22
        }
      ]
    },
    {
      "cell_type": "markdown",
      "source": [
        "풀이 4 : 파이썬다운 방식"
      ],
      "metadata": {
        "id": "IzoTns0hMsEf"
      }
    },
    {
      "cell_type": "code",
      "source": [
        "def numJewelsInStones(J, S):\n",
        "  return sum([s in J for s in S])"
      ],
      "metadata": {
        "id": "yzkRT-mmMEXk"
      },
      "execution_count": 36,
      "outputs": []
    },
    {
      "cell_type": "code",
      "source": [
        "numJewelsInStones(J,S)"
      ],
      "metadata": {
        "id": "5pqh6VBpRtr1",
        "outputId": "45b41bb7-7d84-4a0c-9676-ab6ef0896101",
        "colab": {
          "base_uri": "https://localhost:8080/"
        }
      },
      "execution_count": 37,
      "outputs": [
        {
          "output_type": "execute_result",
          "data": {
            "text/plain": [
              "3"
            ]
          },
          "metadata": {},
          "execution_count": 37
        }
      ]
    },
    {
      "cell_type": "markdown",
      "source": [
        "# 30 중복 문자 없는 가장 긴 부분 문자열"
      ],
      "metadata": {
        "id": "Jp7j5HpIRx6N"
      }
    },
    {
      "cell_type": "markdown",
      "source": [
        "풀이 1 : 스라이딩 윈도우와 투 포인터로 사이즈 조절"
      ],
      "metadata": {
        "id": "e3iEgD6FZff8"
      }
    },
    {
      "cell_type": "code",
      "source": [
        "s = \"abcabcbb\""
      ],
      "metadata": {
        "id": "huc22ef1R-eP"
      },
      "execution_count": 43,
      "outputs": []
    },
    {
      "cell_type": "code",
      "source": [
        "def lengthOfLongestSubstring(s):\n",
        "  used = {}\n",
        "  max_length = start = 0\n",
        "  for index, char in enumerate(s):\n",
        "    # 이미 등장했던 문자라면 start위치 갱신\n",
        "    if char in used and start <= used[char]:\n",
        "      start = used[char] + 1\n",
        "    else: # 최대 부분 문자열 길이 갱신\n",
        "      max_length = max(max_length, index - start + 1)\n",
        "\n",
        "      # 현재 문자의 위치 삽입\n",
        "      used[char] = index\n",
        "  return max_length"
      ],
      "metadata": {
        "id": "ADCQeqr3SFdd"
      },
      "execution_count": 45,
      "outputs": []
    },
    {
      "cell_type": "code",
      "source": [
        "lengthOfLongestSubstring(s)"
      ],
      "metadata": {
        "id": "Ea4PpEsQSZEu",
        "outputId": "f3d97586-93d9-4f37-a205-74ecf15fec6e",
        "colab": {
          "base_uri": "https://localhost:8080/"
        }
      },
      "execution_count": 46,
      "outputs": [
        {
          "output_type": "execute_result",
          "data": {
            "text/plain": [
              "4"
            ]
          },
          "metadata": {},
          "execution_count": 46
        }
      ]
    },
    {
      "cell_type": "markdown",
      "source": [
        "# 31 상위 K 빈도 요소"
      ],
      "metadata": {
        "id": "POIheMqDdEqk"
      }
    },
    {
      "cell_type": "markdown",
      "source": [
        "풀이 1 : Counter를 이용한 음수 순 추출"
      ],
      "metadata": {
        "id": "lzEbsjkTdUdj"
      }
    },
    {
      "cell_type": "code",
      "source": [
        "import heapq\n",
        "\n",
        "nums = [1,1,1,2,2,3]\n",
        "k = 2\n",
        "freqs = collections.Counter(nums)\n",
        "freqs_heap = []\n",
        "\n",
        "for f in freqs:\n",
        "  heapq.heappush(freqs_heap, (-freqs[f], f))\n",
        "\n",
        "topk = list()\n",
        "\n",
        "for _ in range(k):\n",
        "  topk.append(heapq.heappop(freqs_heap)[1])\n",
        "topk"
      ],
      "metadata": {
        "id": "2w2gWwrUdGr6",
        "outputId": "51a36bb2-242e-458c-8202-b912acd3a18d",
        "colab": {
          "base_uri": "https://localhost:8080/"
        }
      },
      "execution_count": 54,
      "outputs": [
        {
          "output_type": "execute_result",
          "data": {
            "text/plain": [
              "[1, 2]"
            ]
          },
          "metadata": {},
          "execution_count": 54
        }
      ]
    },
    {
      "cell_type": "markdown",
      "source": [
        "풀이 2 : 파이썬다운 방식"
      ],
      "metadata": {
        "id": "4Qv8QXS3fLvs"
      }
    },
    {
      "cell_type": "code",
      "source": [
        "from collections import Counter\n",
        "\n",
        "def topKFrequent(nums, k):\n",
        "  return list(zip(*Counter(nums).most_common(k)))[0]"
      ],
      "metadata": {
        "id": "VEcknuZffNjT"
      },
      "execution_count": 59,
      "outputs": []
    },
    {
      "cell_type": "code",
      "source": [
        ""
      ],
      "metadata": {
        "id": "eHfjs73afqCz"
      },
      "execution_count": null,
      "outputs": []
    }
  ]
}