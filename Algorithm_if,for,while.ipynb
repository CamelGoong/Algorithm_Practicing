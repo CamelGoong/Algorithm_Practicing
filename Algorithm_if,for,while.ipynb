{
  "nbformat": 4,
  "nbformat_minor": 0,
  "metadata": {
    "colab": {
      "name": "Algorithm_if,for,while.ipynb",
      "provenance": [],
      "authorship_tag": "ABX9TyOnxFD+a4IkgHPYWQNIeWB+",
      "include_colab_link": true
    },
    "kernelspec": {
      "name": "python3",
      "display_name": "Python 3"
    },
    "language_info": {
      "name": "python"
    }
  },
  "cells": [
    {
      "cell_type": "markdown",
      "metadata": {
        "id": "view-in-github",
        "colab_type": "text"
      },
      "source": [
        "<a href=\"https://colab.research.google.com/github/CamelGoong/Algorithm_Practicing/blob/main/Algorithm_if%2Cfor%2Cwhile.ipynb\" target=\"_parent\"><img src=\"https://colab.research.google.com/assets/colab-badge.svg\" alt=\"Open In Colab\"/></a>"
      ]
    },
    {
      "cell_type": "markdown",
      "source": [
        "# 1단계: 입출력과 사칙연산"
      ],
      "metadata": {
        "id": "QMrX_DN2RjhI"
      }
    },
    {
      "cell_type": "markdown",
      "source": [
        "10171번_고양이"
      ],
      "metadata": {
        "id": "L5RNEuOdRn2r"
      }
    },
    {
      "cell_type": "code",
      "source": [
        "print(\"\\\\    /\\\\\")\n",
        "print(\" )  ( \\')\")\n",
        "print(\"(  /  )\")\n",
        "print(\" \\\\(__)|\")"
      ],
      "metadata": {
        "colab": {
          "base_uri": "https://localhost:8080/"
        },
        "id": "H5vwQVFERqCs",
        "outputId": "fb29a3a3-9004-41af-c31a-f8099b4816e0"
      },
      "execution_count": null,
      "outputs": [
        {
          "output_type": "stream",
          "name": "stdout",
          "text": [
            "\\    /\\\n",
            " )  ( ')\n",
            "(  /  )\n",
            " \\(__)|\n"
          ]
        }
      ]
    },
    {
      "cell_type": "markdown",
      "source": [
        "10172번_개"
      ],
      "metadata": {
        "id": "W5PzNeDoS82N"
      }
    },
    {
      "cell_type": "code",
      "source": [
        "print(\"|\\\\_/|\")\n",
        "print(\"|q p|   /}\")\n",
        "print('( 0 )\\\"\\\"\\\"\\\\')\n",
        "print('|\\\"^\\\"`    |')\n",
        "print('||_/=\\\\\\\\__|')"
      ],
      "metadata": {
        "colab": {
          "base_uri": "https://localhost:8080/"
        },
        "id": "anWdyyXIS76h",
        "outputId": "184f4169-8d47-4d00-8f6f-03c7308e335b"
      },
      "execution_count": null,
      "outputs": [
        {
          "output_type": "stream",
          "name": "stdout",
          "text": [
            "|\\_/|\n",
            "|q p|   /}\n",
            "( 0 )\"\"\"\\\n",
            "|\"^\"`    |\n",
            "||_/=\\\\__|\n"
          ]
        }
      ]
    },
    {
      "cell_type": "markdown",
      "source": [
        "1001번_A-B"
      ],
      "metadata": {
        "id": "gN4qjNKGUMxi"
      }
    },
    {
      "cell_type": "code",
      "source": [
        "A, B = map(int, input().split())\n",
        "print(A-B)"
      ],
      "metadata": {
        "colab": {
          "base_uri": "https://localhost:8080/"
        },
        "id": "PrZHzV1oUPZE",
        "outputId": "c5d63b56-3540-4d88-d15a-eb31ad95e922"
      },
      "execution_count": null,
      "outputs": [
        {
          "output_type": "stream",
          "name": "stdout",
          "text": [
            "3 2\n",
            "1\n"
          ]
        }
      ]
    },
    {
      "cell_type": "markdown",
      "source": [
        "10998번_A*B"
      ],
      "metadata": {
        "id": "N8KmwbIyUa6e"
      }
    },
    {
      "cell_type": "code",
      "source": [
        "A, B = map(int, input().split())\n",
        "print(A*B)"
      ],
      "metadata": {
        "colab": {
          "base_uri": "https://localhost:8080/"
        },
        "id": "MHSzEkhTUfur",
        "outputId": "6488ebeb-34c7-4da1-9adb-1ece679246f5"
      },
      "execution_count": null,
      "outputs": [
        {
          "output_type": "stream",
          "name": "stdout",
          "text": [
            "1 2\n",
            "2\n"
          ]
        }
      ]
    },
    {
      "cell_type": "markdown",
      "source": [
        "1008번_A/B"
      ],
      "metadata": {
        "id": "2lAG3P40Unvv"
      }
    },
    {
      "cell_type": "code",
      "source": [
        "A, B = map(int, input().split())\n",
        "print(A/B)"
      ],
      "metadata": {
        "colab": {
          "base_uri": "https://localhost:8080/"
        },
        "id": "EMqglVgSUaDS",
        "outputId": "3c80da0c-4d63-4bf7-b9d1-905814277981"
      },
      "execution_count": null,
      "outputs": [
        {
          "output_type": "stream",
          "name": "stdout",
          "text": [
            "4 5\n",
            "0.8\n"
          ]
        }
      ]
    },
    {
      "cell_type": "markdown",
      "source": [
        "10869번_사칙연산"
      ],
      "metadata": {
        "id": "9Ur2Hp2-U7NF"
      }
    },
    {
      "cell_type": "code",
      "source": [
        "A, B = map(int, input().split())\n",
        "print(A+B)\n",
        "print(A-B)\n",
        "print(A*B)\n",
        "print(int(A/B))\n",
        "print(A%B)"
      ],
      "metadata": {
        "colab": {
          "base_uri": "https://localhost:8080/"
        },
        "id": "nd_5fYxEU_sc",
        "outputId": "2b23e8de-d335-457e-af0b-a3c96bfebd19"
      },
      "execution_count": null,
      "outputs": [
        {
          "output_type": "stream",
          "name": "stdout",
          "text": [
            "7 3\n",
            "10\n",
            "4\n",
            "21\n",
            "2.3333333333333335\n",
            "1\n"
          ]
        }
      ]
    },
    {
      "cell_type": "markdown",
      "source": [
        "10926번_??!"
      ],
      "metadata": {
        "id": "yw8yT3l1WBOx"
      }
    },
    {
      "cell_type": "code",
      "source": [
        "id = input()\n",
        "print(id+\"??!\")"
      ],
      "metadata": {
        "colab": {
          "base_uri": "https://localhost:8080/"
        },
        "id": "Wg2Qi6-KWHUi",
        "outputId": "0ad35167-2e85-4911-b0d1-161a2423a223"
      },
      "execution_count": null,
      "outputs": [
        {
          "output_type": "stream",
          "name": "stdout",
          "text": [
            "joonas\n",
            "joonas??!\n"
          ]
        }
      ]
    },
    {
      "cell_type": "markdown",
      "source": [
        "18108번_1998년생인 내가 태국에서는 2541년생?!"
      ],
      "metadata": {
        "id": "4uVkONPMWa3k"
      }
    },
    {
      "cell_type": "code",
      "source": [
        "y = int(input())\n",
        "print(y -543)"
      ],
      "metadata": {
        "colab": {
          "base_uri": "https://localhost:8080/"
        },
        "id": "860a07VyWeon",
        "outputId": "78d1fb35-3cbf-445c-8479-5754414a3e1b"
      },
      "execution_count": null,
      "outputs": [
        {
          "output_type": "stream",
          "name": "stdout",
          "text": [
            "2541\n",
            "1998\n"
          ]
        }
      ]
    },
    {
      "cell_type": "markdown",
      "source": [
        "10430번_나머지"
      ],
      "metadata": {
        "id": "8CDm77rbW1io"
      }
    },
    {
      "cell_type": "code",
      "source": [
        "A,B,C = map(int, input().split())\n",
        "\n",
        "print((A+B)%C)\n",
        "print(((A%C) + (B%C))%C)\n",
        "print((A*B)%C)\n",
        "print(((A%C) * (B%C))%C)"
      ],
      "metadata": {
        "colab": {
          "base_uri": "https://localhost:8080/"
        },
        "id": "s-qfrV2bW3rE",
        "outputId": "0ffc8109-1806-4341-ed60-6573394f9300"
      },
      "execution_count": null,
      "outputs": [
        {
          "output_type": "stream",
          "name": "stdout",
          "text": [
            "5 8 4\n",
            "1\n",
            "1\n",
            "0\n",
            "0\n"
          ]
        }
      ]
    },
    {
      "cell_type": "markdown",
      "source": [
        "2588번_곱셈"
      ],
      "metadata": {
        "id": "yXOPIViyXbax"
      }
    },
    {
      "cell_type": "code",
      "source": [
        "num1 = int(input())\n",
        "num2 = input()\n",
        "\n",
        "result1 = num1*int(num2[-1])\n",
        "result2 = num1*int(num2[-2])\n",
        "result3 = num1*int(num2[-3])\n",
        "\n",
        "print(result1)\n",
        "print(result2)\n",
        "print(result3)\n",
        "print(result1 + result2 * 10 + result3 * 100)"
      ],
      "metadata": {
        "colab": {
          "base_uri": "https://localhost:8080/"
        },
        "id": "AeGNqIEiWaYC",
        "outputId": "663f563b-aa41-4fcf-e62e-e6a4a3d21384"
      },
      "execution_count": null,
      "outputs": [
        {
          "output_type": "stream",
          "name": "stdout",
          "text": [
            "472\n",
            "385\n",
            "2360\n",
            "3776\n",
            "1416\n",
            "181720\n"
          ]
        }
      ]
    },
    {
      "cell_type": "markdown",
      "source": [
        "#2단계: 반복문"
      ],
      "metadata": {
        "id": "CaKDKz-PZL9p"
      }
    },
    {
      "cell_type": "markdown",
      "source": [
        "1330번_두 수 비교하기"
      ],
      "metadata": {
        "id": "AppwWwDlZUgZ"
      }
    },
    {
      "cell_type": "code",
      "execution_count": null,
      "metadata": {
        "colab": {
          "base_uri": "https://localhost:8080/"
        },
        "id": "OLxNuQOWO5qE",
        "outputId": "6dac3443-599f-4431-fb2c-52fdb6ce698a"
      },
      "outputs": [
        {
          "output_type": "stream",
          "name": "stdout",
          "text": [
            "2 2\n",
            "==\n"
          ]
        }
      ],
      "source": [
        "A, B = map(int, input().split())\n",
        "\n",
        "dif = A-B\n",
        "result = \"\"\n",
        "\n",
        "if dif > 0:\n",
        "  result = \">\"\n",
        "\n",
        "elif dif < 0:\n",
        "  result = \"<\"\n",
        "\n",
        "else:\n",
        "  result = \"==\"\n",
        "\n",
        "print(result)"
      ]
    },
    {
      "cell_type": "markdown",
      "source": [
        "9498번_시험 성적"
      ],
      "metadata": {
        "id": "PLkjm191ZYWn"
      }
    },
    {
      "cell_type": "code",
      "source": [
        "score = int(input())\n",
        "\n",
        "if score >= 90:\n",
        "  print(\"A\")\n",
        "elif score >= 80:\n",
        "  print(\"B\")\n",
        "elif score >= 70:\n",
        "  print(\"C\")\n",
        "elif score >= 60:\n",
        "  print(\"D\")\n",
        "else:\n",
        "  print(\"F\")"
      ],
      "metadata": {
        "colab": {
          "base_uri": "https://localhost:8080/"
        },
        "id": "8uJK7EEuZauh",
        "outputId": "54d3e551-39d4-4f98-8804-af3fb667eea0"
      },
      "execution_count": null,
      "outputs": [
        {
          "output_type": "stream",
          "name": "stdout",
          "text": [
            "61\n",
            "D\n"
          ]
        }
      ]
    },
    {
      "cell_type": "markdown",
      "source": [
        "2753번_윤년"
      ],
      "metadata": {
        "id": "yltWBBlTZ8ag"
      }
    },
    {
      "cell_type": "code",
      "source": [
        "year = int(input())\n",
        "\n",
        "if year % 4 == 0:\n",
        "  if year % 100 != 0:\n",
        "    print(1)\n",
        "  elif year % 400 == 0:\n",
        "    print(1)\n",
        "  else:\n",
        "    print(0)\n",
        "else:\n",
        "  print(0)"
      ],
      "metadata": {
        "colab": {
          "base_uri": "https://localhost:8080/"
        },
        "id": "ey3JxW5FZ72J",
        "outputId": "71043609-d598-4bba-ec22-d73d2862d88f"
      },
      "execution_count": null,
      "outputs": [
        {
          "output_type": "stream",
          "name": "stdout",
          "text": [
            "1999\n",
            "0\n"
          ]
        }
      ]
    },
    {
      "cell_type": "markdown",
      "source": [
        "14681번_사분면 고르기"
      ],
      "metadata": {
        "id": "Qe4dT0qva5jZ"
      }
    },
    {
      "cell_type": "code",
      "source": [
        "x = int(input())\n",
        "y = int(input())\n",
        "\n",
        "if x*y > 0:\n",
        "  if x > 0:\n",
        "    print(1)\n",
        "  else:\n",
        "    print(3)\n",
        "\n",
        "else:\n",
        "  if x > 0:\n",
        "    print(4)\n",
        "  else:\n",
        "    print(2)"
      ],
      "metadata": {
        "colab": {
          "base_uri": "https://localhost:8080/"
        },
        "id": "biuC-Wrga8R9",
        "outputId": "a732afc2-7014-4d1f-d972-1e987743eb17"
      },
      "execution_count": null,
      "outputs": [
        {
          "output_type": "stream",
          "name": "stdout",
          "text": [
            "9\n",
            "-13\n",
            "4\n"
          ]
        }
      ]
    },
    {
      "cell_type": "markdown",
      "source": [
        "2884번_알람 시계"
      ],
      "metadata": {
        "id": "M_RKGUl3NrBF"
      }
    },
    {
      "cell_type": "code",
      "source": [
        "H, M = map(int, input().split())\n",
        "\n",
        "# H가 바뀌지 않는 경우\n",
        "if M - 45 >= 0:\n",
        "  M = M - 45\n",
        "\n",
        "# H가 바뀌는 경우(받아내림)\n",
        "else:\n",
        "  M = (M-45) + 60\n",
        "  \n",
        "  if H-1 >= 0:\n",
        "    H -= 1\n",
        "  else:\n",
        "    H = 23\n",
        "\n",
        "print(H, M)\n"
      ],
      "metadata": {
        "colab": {
          "base_uri": "https://localhost:8080/"
        },
        "id": "DnXfke-uNuAs",
        "outputId": "1679bb10-a6a6-40a9-b779-d3cc15c700a2"
      },
      "execution_count": null,
      "outputs": [
        {
          "output_type": "stream",
          "name": "stdout",
          "text": [
            "23 40\n",
            "22 55\n"
          ]
        }
      ]
    },
    {
      "cell_type": "markdown",
      "source": [
        "2525번_오븐 시계"
      ],
      "metadata": {
        "id": "en-3uTTRX7eM"
      }
    },
    {
      "cell_type": "code",
      "source": [
        "A, B = map(int, input().split())\n",
        "C = int(input())\n",
        "\n",
        "# '시간' 계산\n",
        "C_to_A = C // 60\n",
        "# '분 ' 계산\n",
        "C_to_B = C % 60\n",
        "\n",
        "A += C_to_A\n",
        "\n",
        "# A(시간)단위가 바뀔 때,(받아올림)\n",
        "if B + C_to_B >= 60:\n",
        "  B = (B + C_to_B) % 60\n",
        "  A += 1\n",
        "\n",
        "# A(시간)단위가 안바뀔 때,\n",
        "else:\n",
        "  B += C_to_B\n",
        "\n",
        "\n",
        "# A(시간)단위가 23을 벗어났다면\n",
        "if A > 23:\n",
        "  A = A % 24\n",
        "\n",
        "\n",
        "print(A, B)"
      ],
      "metadata": {
        "colab": {
          "base_uri": "https://localhost:8080/"
        },
        "id": "qmsv0GnIX69k",
        "outputId": "25f703f7-6ce4-4b05-ae1c-35741afce329"
      },
      "execution_count": null,
      "outputs": [
        {
          "output_type": "stream",
          "name": "stdout",
          "text": [
            "14 30\n",
            "20\n",
            "14 50\n"
          ]
        }
      ]
    },
    {
      "cell_type": "markdown",
      "source": [
        "2480번_주사위 세개"
      ],
      "metadata": {
        "id": "52159V2Vf8Z_"
      }
    },
    {
      "cell_type": "code",
      "source": [
        "a, b, c = map(int, input().split())\n",
        "\n",
        "# 같은 눈이 3개 나오는 경우\n",
        "if a == b == c:\n",
        "  print(10000 + 1000 * a)\n",
        "\n",
        "# 같은 눈이 2개만 나오는 경우\n",
        "elif a == b:\n",
        "  print(1000 + a * 100)\n",
        "elif b == c:\n",
        "  print(1000 + b * 100)\n",
        "elif c == a:\n",
        "  print(1000 + c * 100)\n",
        "\n",
        "# 모두 다른 눈이 나오는 경우\n",
        "else:\n",
        "  print(max(a, b, c) * 100)"
      ],
      "metadata": {
        "colab": {
          "base_uri": "https://localhost:8080/"
        },
        "id": "21-o4Pf8fvCZ",
        "outputId": "23b56a8b-fa37-4484-f09f-921cc4e04d02"
      },
      "execution_count": null,
      "outputs": [
        {
          "output_type": "stream",
          "name": "stdout",
          "text": [
            "6 2 5\n",
            "600\n"
          ]
        }
      ]
    },
    {
      "cell_type": "markdown",
      "source": [
        "# 3단계: 반복문"
      ],
      "metadata": {
        "id": "VneFOY5RkrYd"
      }
    },
    {
      "cell_type": "markdown",
      "source": [
        "2739번_구구단"
      ],
      "metadata": {
        "id": "dDLtur9Hkwez"
      }
    },
    {
      "cell_type": "code",
      "source": [
        "N = int(input())\n",
        "\n",
        "for i in range(1,10):\n",
        "  print(N, \"*\", i, \"=\", N * i )"
      ],
      "metadata": {
        "colab": {
          "base_uri": "https://localhost:8080/"
        },
        "id": "rk73NwPciSLw",
        "outputId": "a4fa77e3-ebf2-4b7b-d47b-4305e1b619ae"
      },
      "execution_count": null,
      "outputs": [
        {
          "output_type": "stream",
          "name": "stdout",
          "text": [
            "2\n",
            "2 * 1 = 2\n",
            "2 * 2 = 4\n",
            "2 * 3 = 6\n",
            "2 * 4 = 8\n",
            "2 * 5 = 10\n",
            "2 * 6 = 12\n",
            "2 * 7 = 14\n",
            "2 * 8 = 16\n",
            "2 * 9 = 18\n"
          ]
        }
      ]
    },
    {
      "cell_type": "markdown",
      "source": [
        "10950번_A+B-3"
      ],
      "metadata": {
        "id": "ECEAQZoXlcaQ"
      }
    },
    {
      "cell_type": "code",
      "source": [
        "n = int(input())\n",
        "\n",
        "for i in range(n):\n",
        "  A, B = map(int, input().split())\n",
        "  print(A + B)"
      ],
      "metadata": {
        "colab": {
          "base_uri": "https://localhost:8080/"
        },
        "id": "v3sm9X-kle2X",
        "outputId": "d26ed043-9f29-4073-a45d-353c4fa4e1ab"
      },
      "execution_count": null,
      "outputs": [
        {
          "output_type": "stream",
          "name": "stdout",
          "text": [
            "2\n",
            "1 1\n",
            "2\n",
            "2 5\n",
            "7\n"
          ]
        }
      ]
    },
    {
      "cell_type": "markdown",
      "source": [
        "8393번_합"
      ],
      "metadata": {
        "id": "rhJvXDQiLn3I"
      }
    },
    {
      "cell_type": "code",
      "source": [
        "n = int(input())\n",
        "sum = 0\n",
        "\n",
        "for i in range(1,n+1):\n",
        "  sum += i\n",
        "\n",
        "print(sum)"
      ],
      "metadata": {
        "id": "b3sKsGMNl_p5",
        "colab": {
          "base_uri": "https://localhost:8080/",
          "height": 0
        },
        "outputId": "bb587ef2-f785-4cf8-bc70-344f0009acf6"
      },
      "execution_count": 1,
      "outputs": [
        {
          "output_type": "stream",
          "name": "stdout",
          "text": [
            "3\n",
            "6\n"
          ]
        }
      ]
    },
    {
      "cell_type": "markdown",
      "source": [
        "15552번_빠른 A+B"
      ],
      "metadata": {
        "id": "pX-H0RVHL6i4"
      }
    },
    {
      "cell_type": "code",
      "source": [
        "import sys\n",
        "\n",
        "T = int(input())\n",
        "\n",
        "for i in range(T):\n",
        "  A, B = map(int, sys.stdin.readline().rstrip().split())\n",
        "  print(A + B)"
      ],
      "metadata": {
        "id": "geFLTUnQMoxA"
      },
      "execution_count": null,
      "outputs": []
    },
    {
      "cell_type": "markdown",
      "source": [
        "2741번_N 찍기"
      ],
      "metadata": {
        "id": "0kmxZ41pNHRg"
      }
    },
    {
      "cell_type": "code",
      "source": [
        "N = int(input())\n",
        "\n",
        "for i in range(1, N+1):\n",
        "  print(i)"
      ],
      "metadata": {
        "colab": {
          "base_uri": "https://localhost:8080/",
          "height": 0
        },
        "id": "AphccLmXMDN4",
        "outputId": "b337ba16-b37b-485c-f4b4-20a269bdc01c"
      },
      "execution_count": 3,
      "outputs": [
        {
          "output_type": "stream",
          "name": "stdout",
          "text": [
            "5\n",
            "1\n",
            "2\n",
            "3\n",
            "4\n",
            "5\n"
          ]
        }
      ]
    },
    {
      "cell_type": "markdown",
      "source": [
        "2742번_기찍 N"
      ],
      "metadata": {
        "id": "Tb5YnrrwNqGg"
      }
    },
    {
      "cell_type": "code",
      "source": [
        "N = int(input())\n",
        "\n",
        "for i in range(N, 0, -1):\n",
        "  print(i)"
      ],
      "metadata": {
        "colab": {
          "base_uri": "https://localhost:8080/",
          "height": 0
        },
        "id": "Xde8B_YHNm8M",
        "outputId": "67453203-91e2-463a-c83d-fe69f8da6fd2"
      },
      "execution_count": 4,
      "outputs": [
        {
          "output_type": "stream",
          "name": "stdout",
          "text": [
            "5\n",
            "5\n",
            "4\n",
            "3\n",
            "2\n",
            "1\n"
          ]
        }
      ]
    },
    {
      "cell_type": "markdown",
      "source": [
        "11021번_A+B-7"
      ],
      "metadata": {
        "id": "S7kC94oIN31P"
      }
    },
    {
      "cell_type": "code",
      "source": [
        "import sys\n",
        "\n",
        "T = int(input())\n",
        "\n",
        "for i in range(1, T+1):\n",
        "  #A, B = map(int, input().rstrip().split())\n",
        "  A, B = map(int, sys.stdin.readline().rstrip().split())\n",
        "  print(\"Case #{}: {}\".format(i, A+B))"
      ],
      "metadata": {
        "colab": {
          "base_uri": "https://localhost:8080/",
          "height": 0
        },
        "id": "RDPhplV8N-0d",
        "outputId": "1e85c40f-093a-43b0-a426-51eb4589d0db"
      },
      "execution_count": 9,
      "outputs": [
        {
          "output_type": "stream",
          "name": "stdout",
          "text": [
            "5\n",
            "1 1\n",
            "Case #1: 2\n",
            "2 3\n",
            "Case #2: 5\n",
            "3 4\n",
            "Case #3: 7\n",
            "9 8\n",
            "Case #4: 17\n",
            "5 2\n",
            "Case #5: 7\n"
          ]
        }
      ]
    },
    {
      "cell_type": "markdown",
      "source": [
        "11022번_A+B-8"
      ],
      "metadata": {
        "id": "md2fI0JaPNV2"
      }
    },
    {
      "cell_type": "code",
      "source": [
        "import sys\n",
        "\n",
        "T = int(input())\n",
        "\n",
        "for i in range(1, T+1):\n",
        "  #A, B = map(int, input().rstrip().split())\n",
        "  A, B = map(int, sys.stdin.readline().rstrip().split())\n",
        "  print(\"Case #{}: {} + {} = {}\".format(i, A, B, A+B))"
      ],
      "metadata": {
        "colab": {
          "base_uri": "https://localhost:8080/",
          "height": 0
        },
        "id": "od3woDQUPPfc",
        "outputId": "ce1f9337-30e4-4077-ff36-0a5bd69117d6"
      },
      "execution_count": 10,
      "outputs": [
        {
          "output_type": "stream",
          "name": "stdout",
          "text": [
            "5\n",
            "1 1\n",
            "Case #1: 1 + 1 = 2\n",
            "2 3\n",
            "Case #2: 2 + 3 = 5\n",
            "3 4\n",
            "Case #3: 3 + 4 = 7\n",
            "9 8\n",
            "Case #4: 9 + 8 = 17\n",
            "5 2\n",
            "Case #5: 5 + 2 = 7\n"
          ]
        }
      ]
    },
    {
      "cell_type": "markdown",
      "source": [
        "2438번_별 찍기 - 1"
      ],
      "metadata": {
        "id": "wkdU7GpmP_84"
      }
    },
    {
      "cell_type": "code",
      "source": [
        "N = int(input())\n",
        "\n",
        "for i in range(N):\n",
        "  print(\"*\"*(i+1))"
      ],
      "metadata": {
        "colab": {
          "base_uri": "https://localhost:8080/",
          "height": 0
        },
        "id": "Ho75lQh5P_bB",
        "outputId": "315724f0-3391-49e2-b340-113e3aca8830"
      },
      "execution_count": 12,
      "outputs": [
        {
          "output_type": "stream",
          "name": "stdout",
          "text": [
            "3\n",
            "*\n",
            "**\n",
            "***\n"
          ]
        }
      ]
    },
    {
      "cell_type": "markdown",
      "source": [
        "2439번_별 찍기 - 2"
      ],
      "metadata": {
        "id": "u38sUov0QveO"
      }
    },
    {
      "cell_type": "code",
      "source": [
        "N = int(input())\n",
        "\n",
        "for i in range(1, N+1):\n",
        "  print(\" \"*(N-i), \"*\"*(i), sep = \"\")"
      ],
      "metadata": {
        "colab": {
          "base_uri": "https://localhost:8080/",
          "height": 0
        },
        "id": "BQvF5dqJQyM8",
        "outputId": "3be2e055-3c68-4331-b130-041e97e3a658"
      },
      "execution_count": 14,
      "outputs": [
        {
          "output_type": "stream",
          "name": "stdout",
          "text": [
            "5\n",
            "    *\n",
            "   **\n",
            "  ***\n",
            " ****\n",
            "*****\n"
          ]
        }
      ]
    },
    {
      "cell_type": "markdown",
      "source": [
        "10871번_x보다 작은 수"
      ],
      "metadata": {
        "id": "6kXvMNEDRWq2"
      }
    },
    {
      "cell_type": "code",
      "source": [
        "N, X = map(int, input().split())\n",
        "\n",
        "A = list(map(int, input().split()))\n",
        "\n",
        "for i in range(N):\n",
        "  if A[i] < X:\n",
        "    print(A[i], end = \" \") \n"
      ],
      "metadata": {
        "colab": {
          "base_uri": "https://localhost:8080/",
          "height": 0
        },
        "id": "63n92afDRZsl",
        "outputId": "004dfb1d-414b-45e6-be95-a14b00394afe"
      },
      "execution_count": 23,
      "outputs": [
        {
          "output_type": "stream",
          "name": "stdout",
          "text": [
            "10 5\n",
            "1 10 4 9 2 3 8 5 7 6\n",
            "1 4 2 3 "
          ]
        }
      ]
    },
    {
      "cell_type": "markdown",
      "source": [
        "10952번_A+B-5"
      ],
      "metadata": {
        "id": "vuZga-NuUccl"
      }
    },
    {
      "cell_type": "code",
      "source": [
        "while True:\n",
        "  A,B = map(int, input().split())\n",
        "\n",
        "  if not(A == 0 and B == 0):\n",
        "    print(A+B)\n",
        "  else:\n",
        "    break"
      ],
      "metadata": {
        "colab": {
          "base_uri": "https://localhost:8080/",
          "height": 0
        },
        "id": "exX4g7pbR1ug",
        "outputId": "38e80b40-3e6c-4a62-f926-23668ae70dc4"
      },
      "execution_count": 29,
      "outputs": [
        {
          "name": "stdout",
          "output_type": "stream",
          "text": [
            "1 1\n",
            "2\n",
            "2 3\n",
            "5\n",
            "0 0\n"
          ]
        }
      ]
    },
    {
      "cell_type": "markdown",
      "source": [
        "10951번_A+B-4"
      ],
      "metadata": {
        "id": "n4IpopnvVvKE"
      }
    },
    {
      "cell_type": "code",
      "source": [
        "while True:\n",
        "  try:\n",
        "    A, B = map(int, input().split())\n",
        "    print(A + B)\n",
        "\n",
        "  except:\n",
        "    break \n"
      ],
      "metadata": {
        "colab": {
          "base_uri": "https://localhost:8080/",
          "height": 0
        },
        "id": "_GAy94TZVWbL",
        "outputId": "d35bee3d-9ae3-4684-d1ab-929aa81ba529"
      },
      "execution_count": 33,
      "outputs": [
        {
          "name": "stdout",
          "output_type": "stream",
          "text": [
            "1 2\n",
            "3\n",
            "2 3\n",
            "5\n",
            "dfds\n"
          ]
        }
      ]
    },
    {
      "cell_type": "markdown",
      "source": [
        "1110번_더하기 사이클"
      ],
      "metadata": {
        "id": "65rVPOaIVzGE"
      }
    },
    {
      "cell_type": "code",
      "source": [
        "N = int(input())\n",
        "cycle = 0\n",
        "num = N\n",
        "\n",
        "while True:\n",
        "  left_num = num%10\n",
        "  right_num = (num//10 + num%10) % 10\n",
        "\n",
        "  num = left_num*10 + right_num\n",
        "  cycle += 1\n",
        "\n",
        "  if num == N:\n",
        "    break\n",
        "\n",
        "print(cycle)"
      ],
      "metadata": {
        "colab": {
          "base_uri": "https://localhost:8080/"
        },
        "id": "5KsduHBhV09W",
        "outputId": "02e8fe2e-d806-4cba-8349-dbc87dff76fd"
      },
      "execution_count": 54,
      "outputs": [
        {
          "output_type": "stream",
          "name": "stdout",
          "text": [
            "55\n",
            "3\n"
          ]
        }
      ]
    }
  ]
}