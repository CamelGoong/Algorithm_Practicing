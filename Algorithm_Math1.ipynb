{
  "nbformat": 4,
  "nbformat_minor": 0,
  "metadata": {
    "colab": {
      "name": "Algorithm_Math1.ipynb",
      "provenance": [],
      "collapsed_sections": [],
      "authorship_tag": "ABX9TyMraJYm/TUIufNH4vogXIeK",
      "include_colab_link": true
    },
    "kernelspec": {
      "name": "python3",
      "display_name": "Python 3"
    },
    "language_info": {
      "name": "python"
    }
  },
  "cells": [
    {
      "cell_type": "markdown",
      "metadata": {
        "id": "view-in-github",
        "colab_type": "text"
      },
      "source": [
        "<a href=\"https://colab.research.google.com/github/CamelGoong/Algorithm_Practicing/blob/main/Algorithm_Math1.ipynb\" target=\"_parent\"><img src=\"https://colab.research.google.com/assets/colab-badge.svg\" alt=\"Open In Colab\"/></a>"
      ]
    },
    {
      "cell_type": "markdown",
      "source": [
        "# 1712번_손익분기점"
      ],
      "metadata": {
        "id": "Y2xNbPe1KzRk"
      }
    },
    {
      "cell_type": "code",
      "execution_count": null,
      "metadata": {
        "colab": {
          "base_uri": "https://localhost:8080/"
        },
        "id": "ItjvgRRlEwpz",
        "outputId": "18d3c61a-89b1-4bd2-fffd-619dd1985c5d"
      },
      "outputs": [
        {
          "output_type": "stream",
          "name": "stdout",
          "text": [
            "2100000000 9 10\n",
            "2100000001\n"
          ]
        }
      ],
      "source": [
        "A, B, C = map(int,input().split())\n",
        "\n",
        "Umargin = C-B\n",
        "\n",
        "if Umargin <=0:\n",
        "  print(-1)\n",
        "else:\n",
        "  print(A//Umargin + 1)  \n",
        "\n",
        "  # 큰 숫자가 나왔을 때, 너무 실행시간이 길어지는 것 같아서 수정.\n",
        "  # while True:\n",
        "  #   Q += 1\n",
        "  #   profit = Umargin * Q - A\n",
        "    \n",
        "  #   if profit > 0:\n",
        "  #     print(Q)\n",
        "  #     break "
      ]
    },
    {
      "cell_type": "markdown",
      "source": [
        "# 2292번_벌집"
      ],
      "metadata": {
        "id": "8PIbkwS-SdYO"
      }
    },
    {
      "cell_type": "code",
      "source": [
        "index = 1 # 각 레이어의 마지막 숫자\n",
        "count = 0\n",
        "num = int(input())\n",
        "\n",
        "while index < num:\n",
        "  count += 1\n",
        "  index += 6*count\n",
        "print(count + 1)"
      ],
      "metadata": {
        "colab": {
          "base_uri": "https://localhost:8080/"
        },
        "id": "45XWMTmqScay",
        "outputId": "4e7c34b6-3a15-4227-a043-504b8dd11caa"
      },
      "execution_count": null,
      "outputs": [
        {
          "output_type": "stream",
          "name": "stdout",
          "text": [
            "58\n",
            "5\n"
          ]
        }
      ]
    },
    {
      "cell_type": "markdown",
      "source": [
        "# 1193번_분수찾기"
      ],
      "metadata": {
        "id": "0qiGnEsskmsv"
      }
    },
    {
      "cell_type": "code",
      "source": [
        "num = int(input())\n",
        "count = 0\n",
        "index = 0\n",
        "pre_count = 0\n",
        "\n",
        "while num > index:\n",
        "  count += 1\n",
        "  pre_count = index\n",
        "  index += count\n",
        "\n",
        "cursor = num - pre_count\n",
        "\n",
        "if count % 2 == 1:\n",
        "  print(count+1-cursor, cursor, sep = \"/\")\n",
        "else:\n",
        "  print(cursor, count+1-cursor, sep = \"/\")"
      ],
      "metadata": {
        "id": "fZfwgHvEkuMB",
        "colab": {
          "base_uri": "https://localhost:8080/"
        },
        "outputId": "228efd8e-1e01-4d49-8719-ced45fea49c8"
      },
      "execution_count": null,
      "outputs": [
        {
          "output_type": "stream",
          "name": "stdout",
          "text": [
            "14\n",
            "2/4\n"
          ]
        }
      ]
    },
    {
      "cell_type": "markdown",
      "source": [
        "# 2869번_달팽이는 올라가고 싶다"
      ],
      "metadata": {
        "id": "9oTMS7NcP1cv"
      }
    },
    {
      "cell_type": "code",
      "source": [
        "A, B, V = map(int, input().split())\n",
        "\n",
        "move = A-B\n",
        "\n",
        "if (V-A) % move == 0:\n",
        "  days = ((V-A) // move) + 1\n",
        "  print(days)\n",
        "else:\n",
        "  days = ((V-A) // move) + 2\n",
        "  print(days)"
      ],
      "metadata": {
        "colab": {
          "base_uri": "https://localhost:8080/"
        },
        "id": "gfo47SSCm7Gj",
        "outputId": "27d4a807-4841-4edb-ee19-0cd17f7f9fa8"
      },
      "execution_count": null,
      "outputs": [
        {
          "output_type": "stream",
          "name": "stdout",
          "text": [
            "100 99 1000000000\n",
            "999999901\n"
          ]
        }
      ]
    },
    {
      "cell_type": "markdown",
      "source": [
        "#10250번_ACM 호텔"
      ],
      "metadata": {
        "id": "Tg5LhlNdYyrZ"
      }
    },
    {
      "cell_type": "markdown",
      "source": [
        "이 문제 조금 어려움"
      ],
      "metadata": {
        "id": "KtqQb5HFf5ih"
      }
    },
    {
      "cell_type": "code",
      "source": [
        "T = int(input())\n",
        "\n",
        "for i in range(T):\n",
        "  H, W, N = map(int, input().split())\n",
        "  \n",
        "  floor = N%H\n",
        "  room = N // H+1\n",
        "  \n",
        "  if floor == 0:\n",
        "    room = N // H\n",
        "    floor = H\\\n",
        "    \n",
        "  print(floor*100 + room)\n"
      ],
      "metadata": {
        "colab": {
          "base_uri": "https://localhost:8080/"
        },
        "id": "JciH72nJXeVS",
        "outputId": "cf652f13-0e8a-46bb-85d4-7dc8d7401388"
      },
      "execution_count": null,
      "outputs": [
        {
          "output_type": "stream",
          "name": "stdout",
          "text": [
            "2\n",
            "6 12 10\n",
            "402\n",
            "30 50 72\n",
            "1203\n"
          ]
        }
      ]
    },
    {
      "cell_type": "markdown",
      "source": [
        "#2775번_부녀회장이 될테야"
      ],
      "metadata": {
        "id": "sy0DWWn9OeVy"
      }
    },
    {
      "cell_type": "code",
      "source": [
        "T = int(input())\n",
        "\n",
        "for test in range(T):\n",
        "  # 길이가 n인 k개의 list 만들기\n",
        "  k = int(input())\n",
        "  n = int(input())\n",
        "\n",
        "  floor = [room+1 for room in range(n)] # 처음 0층\n",
        "\n",
        "  # 1층씩 올라가면서 채우기\n",
        "  for i in range(k):\n",
        "    # 각 층에서 한 호수(방)씩 지나가면서 채우기\n",
        "    for room in range(n):\n",
        "      if room == 0:\n",
        "        floor[room] = floor[room]\n",
        "      else:\n",
        "        floor[room] += floor[room-1]\n",
        "\n",
        "  print(floor[-1])"
      ],
      "metadata": {
        "colab": {
          "base_uri": "https://localhost:8080/"
        },
        "id": "uhPzyVTKOg8D",
        "outputId": "83f7ce74-db66-43a0-ce4f-d4d515e92ac9"
      },
      "execution_count": 6,
      "outputs": [
        {
          "output_type": "stream",
          "name": "stdout",
          "text": [
            "2\n",
            "1\n",
            "3\n",
            "6\n",
            "2\n",
            "3\n",
            "10\n"
          ]
        }
      ]
    },
    {
      "cell_type": "markdown",
      "source": [
        "# 2839번_설탕 배달"
      ],
      "metadata": {
        "id": "ztRcwrHtZs_6"
      }
    },
    {
      "cell_type": "code",
      "source": [
        "N = int(input())\n",
        "flag = 0\n",
        "\n",
        "for i in range(N//5, -1, -1):\n",
        "  if (N - i*5) % 3 == 0:\n",
        "    print(i + (N - i*5) // 3)\n",
        "    flag += 1\n",
        "    break\n",
        "\n",
        "# 만약에 다 돌았는데, 봉지 최소 갯수를 찾지 못하면?\n",
        "if flag == 0:\n",
        "  print(-1)"
      ],
      "metadata": {
        "colab": {
          "base_uri": "https://localhost:8080/"
        },
        "id": "smf8Of0SZv0B",
        "outputId": "ecc82e42-0afb-4c02-ed41-027842fd35af"
      },
      "execution_count": 18,
      "outputs": [
        {
          "output_type": "stream",
          "name": "stdout",
          "text": [
            "11\n",
            "3\n"
          ]
        }
      ]
    },
    {
      "cell_type": "markdown",
      "source": [
        "# 10757_큰 수 A+B"
      ],
      "metadata": {
        "id": "6hZI7ktTdO3b"
      }
    },
    {
      "cell_type": "code",
      "source": [
        "A, B = map(int, input().split())\n",
        "\n",
        "print(A + B)"
      ],
      "metadata": {
        "colab": {
          "base_uri": "https://localhost:8080/"
        },
        "id": "0wZOST_EcAK5",
        "outputId": "c7431c25-a993-4899-b0f2-30ac4e3462f4"
      },
      "execution_count": 19,
      "outputs": [
        {
          "output_type": "stream",
          "name": "stdout",
          "text": [
            "9223372036854775807 9223372036854775808\n",
            "18446744073709551615\n"
          ]
        }
      ]
    },
    {
      "cell_type": "code",
      "source": [
        ""
      ],
      "metadata": {
        "id": "KIfqH-QPeQiR"
      },
      "execution_count": null,
      "outputs": []
    }
  ]
}