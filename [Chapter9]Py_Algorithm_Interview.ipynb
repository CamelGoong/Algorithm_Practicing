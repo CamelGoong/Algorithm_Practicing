{
  "nbformat": 4,
  "nbformat_minor": 0,
  "metadata": {
    "colab": {
      "name": "[Chapter9]Py_Algorithm Interview.ipynb",
      "provenance": [],
      "authorship_tag": "ABX9TyMuDHkDeISMr9RHPJWRJDuE",
      "include_colab_link": true
    },
    "kernelspec": {
      "name": "python3",
      "display_name": "Python 3"
    },
    "language_info": {
      "name": "python"
    },
    "accelerator": "GPU",
    "gpuClass": "standard"
  },
  "cells": [
    {
      "cell_type": "markdown",
      "metadata": {
        "id": "view-in-github",
        "colab_type": "text"
      },
      "source": [
        "<a href=\"https://colab.research.google.com/github/CamelGoong/Algorithm_Practicing/blob/main/%5BChapter9%5DPy_Algorithm_Interview.ipynb\" target=\"_parent\"><img src=\"https://colab.research.google.com/assets/colab-badge.svg\" alt=\"Open In Colab\"/></a>"
      ]
    },
    {
      "cell_type": "markdown",
      "source": [
        "# 연결 리스트를 이용한 스택 ADT 구현"
      ],
      "metadata": {
        "id": "x8LJ_i5m1QPc"
      }
    },
    {
      "cell_type": "markdown",
      "source": [
        "연결 리스트를 담을 Node class 구현"
      ],
      "metadata": {
        "id": "-15efmWF1izr"
      }
    },
    {
      "cell_type": "code",
      "execution_count": 2,
      "metadata": {
        "id": "Fxogyk9uyK3X"
      },
      "outputs": [],
      "source": [
        "class Node:\n",
        "  def __init__(self, item, next):\n",
        "    self.item = item\n",
        "    self.next = next"
      ]
    },
    {
      "cell_type": "markdown",
      "source": [
        "스택의 연산인 push(), pop()을 담은 Stack class 구현"
      ],
      "metadata": {
        "id": "UbFpkjb_2lnM"
      }
    },
    {
      "cell_type": "code",
      "source": [
        "class Stack:\n",
        "  def __init__(self):\n",
        "    self.last = None\n",
        "\n",
        "  def push(self, item):\n",
        "    self.last = Node(item, self.last)\n",
        "\n",
        "  def pop(self):\n",
        "    item = self.last.item\n",
        "    self.last = self.last.next\n",
        "    return item"
      ],
      "metadata": {
        "id": "Ayu4hrqB1h_i"
      },
      "execution_count": 5,
      "outputs": []
    },
    {
      "cell_type": "code",
      "source": [
        "stack = Stack()"
      ],
      "metadata": {
        "id": "RpshoXv62js9"
      },
      "execution_count": 12,
      "outputs": []
    },
    {
      "cell_type": "code",
      "source": [
        "stack.push(1)\n",
        "stack.push(2)\n",
        "stack.push(3)\n",
        "stack.push(4)\n",
        "stack.push(5)"
      ],
      "metadata": {
        "id": "rqm8R86o3UMb"
      },
      "execution_count": 13,
      "outputs": []
    },
    {
      "cell_type": "code",
      "source": [
        "for _ in range(5):\n",
        "  print(stack.pop())"
      ],
      "metadata": {
        "colab": {
          "base_uri": "https://localhost:8080/"
        },
        "id": "eL0mBknN3dbU",
        "outputId": "27d8e60b-d57c-4881-a80a-0f49670b04de"
      },
      "execution_count": 14,
      "outputs": [
        {
          "output_type": "stream",
          "name": "stdout",
          "text": [
            "5\n",
            "4\n",
            "3\n",
            "2\n",
            "1\n"
          ]
        }
      ]
    },
    {
      "cell_type": "markdown",
      "source": [
        "# 20 유효한 괄호"
      ],
      "metadata": {
        "id": "8NSrTx_H49-L"
      }
    },
    {
      "cell_type": "code",
      "source": [
        "data = \"()[]{}\""
      ],
      "metadata": {
        "id": "oIIz_TyH4UZT"
      },
      "execution_count": 15,
      "outputs": []
    },
    {
      "cell_type": "code",
      "source": [
        "def isValid(self, s) -> bool:\n",
        "  stack = []\n",
        "  table = {\n",
        "      ')' : '(',\n",
        "      '}' : '{',\n",
        "      ']' : '['\n",
        "  }\n",
        "\n",
        "  for char in data:\n",
        "    if char not in table:\n",
        "      stack.append(char) # 딕셔너리에서 value랑 일치하는 것이 있는지를 확인하고 append하게 됨.\n",
        "    elif not stack or table[char] != stack.pop():\n",
        "      return False\n",
        "  return len(stack) == 0"
      ],
      "metadata": {
        "id": "TPqfeEX4CarR"
      },
      "execution_count": 19,
      "outputs": []
    },
    {
      "cell_type": "markdown",
      "source": [
        "# 21 중복 문자 제거"
      ],
      "metadata": {
        "id": "4E3im8SFXA0N"
      }
    },
    {
      "cell_type": "markdown",
      "source": [
        "풀이 2 : 스택을 이용한 문자 제거"
      ],
      "metadata": {
        "id": "SOd6HsQEYKAl"
      }
    },
    {
      "cell_type": "code",
      "source": [
        "import collections\n",
        "\n",
        "def removeDuplicateLetters(s: str) -> str:\n",
        "  counter, seen, stack = collections.Counter(s), set(), []\n",
        "\n",
        "  for char in s:\n",
        "    counter[char] -= 1\n",
        "\n",
        "    if char in seen:\n",
        "      continue\n",
        "    \n",
        "    while stack and char  < stack[-1] and counter[stack[-1]] > 0:\n",
        "      seen.remove(stack.pop())\n",
        "    stack.append(char)\n",
        "    seen.add(char)\n",
        "  \n",
        "  return ''.join(stack)"
      ],
      "metadata": {
        "id": "dTzUn04FDJid"
      },
      "execution_count": 7,
      "outputs": []
    },
    {
      "cell_type": "code",
      "source": [
        "removeDuplicateLetters(\"cbacdcbc\")"
      ],
      "metadata": {
        "colab": {
          "base_uri": "https://localhost:8080/",
          "height": 35
        },
        "id": "lr1OIUn0ZY1c",
        "outputId": "bbb222b5-c88f-4f47-b405-f0f1ab6cdedc"
      },
      "execution_count": 8,
      "outputs": [
        {
          "output_type": "execute_result",
          "data": {
            "text/plain": [
              "'acdb'"
            ],
            "application/vnd.google.colaboratory.intrinsic+json": {
              "type": "string"
            }
          },
          "metadata": {},
          "execution_count": 8
        }
      ]
    },
    {
      "cell_type": "code",
      "source": [
        "counter = collections.Counter(\"abcda\")"
      ],
      "metadata": {
        "id": "rRIxz9Y2bF16"
      },
      "execution_count": 10,
      "outputs": []
    },
    {
      "cell_type": "code",
      "source": [
        "\"a\" < \"b\""
      ],
      "metadata": {
        "colab": {
          "base_uri": "https://localhost:8080/"
        },
        "id": "XQsCbO1tb4FF",
        "outputId": "b29fb67b-8364-4571-ab51-61b773f1e3fa"
      },
      "execution_count": 13,
      "outputs": [
        {
          "output_type": "execute_result",
          "data": {
            "text/plain": [
              "True"
            ]
          },
          "metadata": {},
          "execution_count": 13
        }
      ]
    },
    {
      "cell_type": "markdown",
      "source": [
        "# 22 일일 온도"
      ],
      "metadata": {
        "id": "yqV2lteceFkM"
      }
    },
    {
      "cell_type": "code",
      "source": [
        "T = [73, 74, 75, 71, 69, 72, 76, 73]"
      ],
      "metadata": {
        "id": "IGcMr7wAb_A0"
      },
      "execution_count": 14,
      "outputs": []
    },
    {
      "cell_type": "code",
      "source": [
        "def dailyTemperatures(T):\n",
        "  answer = [0] * len(T)\n",
        "  stack = []\n",
        "  for i, temperature in enumerate(T):\n",
        "    while stack and temperature > T[stack[-1]]:\n",
        "      last = stack.pop()\n",
        "      answer[last] = i-last\n",
        "    stack.append(i)\n",
        "  return answer"
      ],
      "metadata": {
        "id": "VRvhjG6keP80"
      },
      "execution_count": 18,
      "outputs": []
    },
    {
      "cell_type": "code",
      "source": [
        "dailyTemperatures(T)"
      ],
      "metadata": {
        "colab": {
          "base_uri": "https://localhost:8080/"
        },
        "id": "FbOiKVwmg2d0",
        "outputId": "e13b46b6-2cb9-4034-c269-9a8155b8e1e8"
      },
      "execution_count": 19,
      "outputs": [
        {
          "output_type": "execute_result",
          "data": {
            "text/plain": [
              "[1, 1, 4, 2, 1, 1, 0, 0]"
            ]
          },
          "metadata": {},
          "execution_count": 19
        }
      ]
    }
  ]
}