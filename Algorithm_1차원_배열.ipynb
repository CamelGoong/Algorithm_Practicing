{
  "nbformat": 4,
  "nbformat_minor": 0,
  "metadata": {
    "colab": {
      "name": "Algorithm_1차원 배열.ipynb",
      "provenance": [],
      "authorship_tag": "ABX9TyP61DKesVFGhcR5k5fOWxy7",
      "include_colab_link": true
    },
    "kernelspec": {
      "name": "python3",
      "display_name": "Python 3"
    },
    "language_info": {
      "name": "python"
    }
  },
  "cells": [
    {
      "cell_type": "markdown",
      "metadata": {
        "id": "view-in-github",
        "colab_type": "text"
      },
      "source": [
        "<a href=\"https://colab.research.google.com/github/CamelGoong/Algorithm_Practicing/blob/main/Algorithm_1%EC%B0%A8%EC%9B%90_%EB%B0%B0%EC%97%B4.ipynb\" target=\"_parent\"><img src=\"https://colab.research.google.com/assets/colab-badge.svg\" alt=\"Open In Colab\"/></a>"
      ]
    },
    {
      "cell_type": "markdown",
      "source": [
        "10818번_최소, 최대"
      ],
      "metadata": {
        "id": "M_BpAZNlLUJv"
      }
    },
    {
      "cell_type": "code",
      "execution_count": 10,
      "metadata": {
        "colab": {
          "base_uri": "https://localhost:8080/"
        },
        "id": "i4eDwAlXKm2i",
        "outputId": "b1cc76d3-1a1a-4188-afc8-6ca03c0437df"
      },
      "outputs": [
        {
          "output_type": "stream",
          "name": "stdout",
          "text": [
            "5\n",
            "20 10 35 30 7\n",
            "7 35\n"
          ]
        }
      ],
      "source": [
        "N = int(input())\n",
        "\n",
        "nums = list(map(int, input().split()))\n",
        "\n",
        "min = nums[0]\n",
        "max = nums[0]\n",
        "for i in nums:\n",
        "  \n",
        "  # 최솟값 갱신\n",
        "  if min > i:\n",
        "    min = i\n",
        "  \n",
        "  if max < i:\n",
        "    max = i\n",
        "\n",
        "print(min, max)"
      ]
    },
    {
      "cell_type": "markdown",
      "source": [
        "2562번_최댓값"
      ],
      "metadata": {
        "id": "oEYOQy94OdnG"
      }
    },
    {
      "cell_type": "code",
      "source": [
        "import sys\n",
        "\n",
        "max = int(input())\n",
        "index = 1\n",
        "\n",
        "for i in range(2, 10):\n",
        "  num = int(sys.stdin.readline().rstrip())\n",
        "  #num = int(input())\n",
        "\n",
        "  if max < num:\n",
        "    max = num\n",
        "\n",
        "    index = i # 몇번째 수인지 저장!\n",
        "\n",
        "print(max, index, sep = \"\\n\")\n"
      ],
      "metadata": {
        "colab": {
          "base_uri": "https://localhost:8080/"
        },
        "id": "YMAVs8tPOgIo",
        "outputId": "5838b658-596a-47ae-e9be-05498e48aebf"
      },
      "execution_count": 14,
      "outputs": [
        {
          "output_type": "stream",
          "name": "stdout",
          "text": [
            "3\n",
            "29\n",
            "38\n",
            "12\n",
            "57\n",
            "74\n",
            "40\n",
            "85\n",
            "61\n",
            "85\n",
            "8\n"
          ]
        }
      ]
    },
    {
      "cell_type": "markdown",
      "source": [
        "2577번_숫자의 갯수"
      ],
      "metadata": {
        "id": "vg30dO9NTtvg"
      }
    },
    {
      "cell_type": "code",
      "source": [
        "nums = [0 for i in range(10)]\n",
        "ABC = [int(input()) for i in range(3)]\n",
        "\n",
        "mul = ABC[0] * ABC[1] * ABC[2]\n",
        "str_mul = str(mul)\n",
        "\n",
        "for i in str_mul:\n",
        "  nums[int(i)] += 1\n",
        "\n",
        "for i in nums:\n",
        "  print(i)"
      ],
      "metadata": {
        "colab": {
          "base_uri": "https://localhost:8080/"
        },
        "id": "wtOZX9CiTwMN",
        "outputId": "35ce5ea8-6e8b-4ec2-9455-a8280273787f"
      },
      "execution_count": 26,
      "outputs": [
        {
          "output_type": "stream",
          "name": "stdout",
          "text": [
            "150\n",
            "266\n",
            "427\n",
            "3\n",
            "1\n",
            "0\n",
            "2\n",
            "0\n",
            "0\n",
            "0\n",
            "2\n",
            "0\n",
            "0\n"
          ]
        }
      ]
    },
    {
      "cell_type": "code",
      "source": [
        "a = [\"s\", \"t\", \"r\"]\n",
        "print(\"\".join(a))"
      ],
      "metadata": {
        "colab": {
          "base_uri": "https://localhost:8080/"
        },
        "id": "rNvE8hOEV8W7",
        "outputId": "38ef19d4-341c-4be0-cae4-787fd717e0f5"
      },
      "execution_count": 24,
      "outputs": [
        {
          "output_type": "stream",
          "name": "stdout",
          "text": [
            "str\n"
          ]
        }
      ]
    }
  ]
}