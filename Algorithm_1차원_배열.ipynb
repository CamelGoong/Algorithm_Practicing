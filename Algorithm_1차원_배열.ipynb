{
  "nbformat": 4,
  "nbformat_minor": 0,
  "metadata": {
    "colab": {
      "name": "Algorithm_1차원 배열.ipynb",
      "provenance": [],
      "authorship_tag": "ABX9TyN4/ptjgiaGUSMrzwbpIEhZ",
      "include_colab_link": true
    },
    "kernelspec": {
      "name": "python3",
      "display_name": "Python 3"
    },
    "language_info": {
      "name": "python"
    }
  },
  "cells": [
    {
      "cell_type": "markdown",
      "metadata": {
        "id": "view-in-github",
        "colab_type": "text"
      },
      "source": [
        "<a href=\"https://colab.research.google.com/github/CamelGoong/Algorithm_Practicing/blob/main/Algorithm_1%EC%B0%A8%EC%9B%90_%EB%B0%B0%EC%97%B4.ipynb\" target=\"_parent\"><img src=\"https://colab.research.google.com/assets/colab-badge.svg\" alt=\"Open In Colab\"/></a>"
      ]
    },
    {
      "cell_type": "markdown",
      "source": [
        "10818번_최소, 최대"
      ],
      "metadata": {
        "id": "M_BpAZNlLUJv"
      }
    },
    {
      "cell_type": "code",
      "execution_count": null,
      "metadata": {
        "colab": {
          "base_uri": "https://localhost:8080/"
        },
        "id": "i4eDwAlXKm2i",
        "outputId": "b1cc76d3-1a1a-4188-afc8-6ca03c0437df"
      },
      "outputs": [
        {
          "output_type": "stream",
          "name": "stdout",
          "text": [
            "5\n",
            "20 10 35 30 7\n",
            "7 35\n"
          ]
        }
      ],
      "source": [
        "N = int(input())\n",
        "\n",
        "nums = list(map(int, input().split()))\n",
        "\n",
        "min = nums[0]\n",
        "max = nums[0]\n",
        "for i in nums:\n",
        "  \n",
        "  # 최솟값 갱신\n",
        "  if min > i:\n",
        "    min = i\n",
        "  \n",
        "  if max < i:\n",
        "    max = i\n",
        "\n",
        "print(min, max)"
      ]
    },
    {
      "cell_type": "markdown",
      "source": [
        "2562번_최댓값"
      ],
      "metadata": {
        "id": "oEYOQy94OdnG"
      }
    },
    {
      "cell_type": "code",
      "source": [
        "import sys\n",
        "\n",
        "max = int(input())\n",
        "index = 1\n",
        "\n",
        "for i in range(2, 10):\n",
        "  num = int(sys.stdin.readline().rstrip())\n",
        "  #num = int(input())\n",
        "\n",
        "  if max < num:\n",
        "    max = num\n",
        "\n",
        "    index = i # 몇번째 수인지 저장!\n",
        "\n",
        "print(max, index, sep = \"\\n\")\n"
      ],
      "metadata": {
        "colab": {
          "base_uri": "https://localhost:8080/"
        },
        "id": "YMAVs8tPOgIo",
        "outputId": "5838b658-596a-47ae-e9be-05498e48aebf"
      },
      "execution_count": null,
      "outputs": [
        {
          "output_type": "stream",
          "name": "stdout",
          "text": [
            "3\n",
            "29\n",
            "38\n",
            "12\n",
            "57\n",
            "74\n",
            "40\n",
            "85\n",
            "61\n",
            "85\n",
            "8\n"
          ]
        }
      ]
    },
    {
      "cell_type": "markdown",
      "source": [
        "2577번_숫자의 갯수"
      ],
      "metadata": {
        "id": "vg30dO9NTtvg"
      }
    },
    {
      "cell_type": "code",
      "source": [
        "nums = [0 for i in range(10)]\n",
        "ABC = [int(input()) for i in range(3)]\n",
        "\n",
        "mul = ABC[0] * ABC[1] * ABC[2]\n",
        "str_mul = str(mul)\n",
        "\n",
        "for i in str_mul:\n",
        "  nums[int(i)] += 1\n",
        "\n",
        "for i in nums:\n",
        "  print(i)"
      ],
      "metadata": {
        "colab": {
          "base_uri": "https://localhost:8080/"
        },
        "id": "wtOZX9CiTwMN",
        "outputId": "35ce5ea8-6e8b-4ec2-9455-a8280273787f"
      },
      "execution_count": null,
      "outputs": [
        {
          "output_type": "stream",
          "name": "stdout",
          "text": [
            "150\n",
            "266\n",
            "427\n",
            "3\n",
            "1\n",
            "0\n",
            "2\n",
            "0\n",
            "0\n",
            "0\n",
            "2\n",
            "0\n",
            "0\n"
          ]
        }
      ]
    },
    {
      "cell_type": "code",
      "source": [
        "a = [\"s\", \"t\", \"r\"]\n",
        "print(\"\".join(a))"
      ],
      "metadata": {
        "colab": {
          "base_uri": "https://localhost:8080/"
        },
        "id": "rNvE8hOEV8W7",
        "outputId": "38ef19d4-341c-4be0-cae4-787fd717e0f5"
      },
      "execution_count": null,
      "outputs": [
        {
          "output_type": "stream",
          "name": "stdout",
          "text": [
            "str\n"
          ]
        }
      ]
    },
    {
      "cell_type": "markdown",
      "source": [
        "3052번_나머지"
      ],
      "metadata": {
        "id": "ONbhy4ktK20T"
      }
    },
    {
      "cell_type": "code",
      "source": [
        "B = 42\n",
        "result = []\n",
        "\n",
        "for i in range(10):\n",
        "  A = int(input())\n",
        "  \n",
        "  if A%B not in result:\n",
        "    result.append(A%B)\n",
        "\n",
        "print(len(result))"
      ],
      "metadata": {
        "colab": {
          "base_uri": "https://localhost:8080/"
        },
        "id": "tdCkR58oK5ql",
        "outputId": "fcf703e8-2624-4228-8bd2-47619ea09fac"
      },
      "execution_count": 4,
      "outputs": [
        {
          "output_type": "stream",
          "name": "stdout",
          "text": [
            "39\n",
            "40\n",
            "41\n",
            "42\n",
            "43\n",
            "44\n",
            "82\n",
            "83\n",
            "84\n",
            "85\n",
            "6\n"
          ]
        }
      ]
    },
    {
      "cell_type": "markdown",
      "source": [
        "1546번_평균"
      ],
      "metadata": {
        "id": "8huHfF_-MOPb"
      }
    },
    {
      "cell_type": "code",
      "source": [
        "N = int(input())\n",
        "scores = list(map(int, input().rstrip().split()))\n",
        "\n",
        "M = max(scores)\n",
        "\n",
        "for i in range(N):\n",
        "  scores[i] = scores[i] / M * 100\n",
        "\n",
        "print(sum(scores) / N)"
      ],
      "metadata": {
        "colab": {
          "base_uri": "https://localhost:8080/"
        },
        "id": "QxlYiXvAMQnL",
        "outputId": "326c0395-f465-486e-9d72-5ee1bbb069be"
      },
      "execution_count": 8,
      "outputs": [
        {
          "output_type": "stream",
          "name": "stdout",
          "text": [
            "3\n",
            "40 80 60\n",
            "75.0\n"
          ]
        }
      ]
    },
    {
      "cell_type": "markdown",
      "source": [
        "8958번_OX퀴즈"
      ],
      "metadata": {
        "id": "kgInRn9JOjcb"
      }
    },
    {
      "cell_type": "code",
      "source": [
        "N = int(input())\n",
        "\n",
        "for i in range(N):\n",
        "  Quiz_result = input().strip()\n",
        "\n",
        "  score = 0\n",
        "  total_score = 0\n",
        "\n",
        "  for j in Quiz_result:\n",
        "    if j == \"O\":\n",
        "      score += 1\n",
        "    else:\n",
        "      score = 0 # X 만나면 초기화\n",
        "    \n",
        "    total_score += score\n",
        "  \n",
        "  print(total_score)"
      ],
      "metadata": {
        "colab": {
          "base_uri": "https://localhost:8080/"
        },
        "id": "ZfvLNoEXOi6B",
        "outputId": "ec19a545-a412-4e86-f5fe-49ed538e07fb"
      },
      "execution_count": 16,
      "outputs": [
        {
          "output_type": "stream",
          "name": "stdout",
          "text": [
            "5\n",
            "OOXXOXXOOO\n",
            "1\n",
            "2\n",
            "1\n",
            "1\n",
            "2\n",
            "3\n",
            "10\n",
            "OOXXOOXXOO\n",
            "1\n",
            "2\n",
            "1\n",
            "2\n",
            "1\n",
            "2\n",
            "9\n",
            "OXOXOXOXOXOXOX\n",
            "1\n",
            "1\n",
            "1\n",
            "1\n",
            "1\n",
            "1\n",
            "1\n",
            "7\n",
            "OOOOOOOOOO\n",
            "1\n",
            "2\n",
            "3\n",
            "4\n",
            "5\n",
            "6\n",
            "7\n",
            "8\n",
            "9\n",
            "10\n",
            "55\n",
            "OOOOXOOOOXOOOOX\n",
            "1\n",
            "2\n",
            "3\n",
            "4\n",
            "1\n",
            "2\n",
            "3\n",
            "4\n",
            "1\n",
            "2\n",
            "3\n",
            "4\n",
            "30\n"
          ]
        }
      ]
    },
    {
      "cell_type": "markdown",
      "source": [
        "4344번_평균은 넘겠지"
      ],
      "metadata": {
        "id": "uTSZPClUTcW9"
      }
    },
    {
      "cell_type": "code",
      "source": [
        "C = int(input())\n",
        "\n",
        "for i in range(C):\n",
        "  scores = list(map(float, input().rstrip().split()))\n",
        "  N = scores.pop(0)\n",
        "\n",
        "  average = sum(scores) / len(scores)\n",
        "\n",
        "  count = 0\n",
        "  for score in scores:\n",
        "    if score > average:\n",
        "      count += 1\n",
        "\n",
        "  ratio = count / len(scores) * 100\n",
        "  print(\"{:.3f}%\".format(ratio))"
      ],
      "metadata": {
        "colab": {
          "base_uri": "https://localhost:8080/"
        },
        "id": "oXbSNPUbQm0G",
        "outputId": "5343a6d2-625d-4bb8-d15b-c18d0568cb20"
      },
      "execution_count": 27,
      "outputs": [
        {
          "output_type": "stream",
          "name": "stdout",
          "text": [
            "5\n",
            "5 50 50 70 80 100\n",
            "40.000%\n",
            "7 100 95 90 80 70 60 50\n",
            "57.143%\n",
            "3 70 90 80\n",
            "33.333%\n",
            "3 70 90 81\n",
            "66.667%\n",
            "9 100 99 98 97 96 95 94 93 91\n",
            "55.556%\n"
          ]
        }
      ]
    },
    {
      "cell_type": "code",
      "source": [
        ""
      ],
      "metadata": {
        "colab": {
          "base_uri": "https://localhost:8080/",
          "height": 193
        },
        "id": "U4O22azMU7ac",
        "outputId": "d284eaff-9a69-485f-9634-e62bf80b2f84"
      },
      "execution_count": 17,
      "outputs": [
        {
          "output_type": "error",
          "ename": "TypeError",
          "evalue": "ignored",
          "traceback": [
            "\u001b[0;31m---------------------------------------------------------------------------\u001b[0m",
            "\u001b[0;31mTypeError\u001b[0m                                 Traceback (most recent call last)",
            "\u001b[0;32m<ipython-input-17-1225638373f3>\u001b[0m in \u001b[0;36m<module>\u001b[0;34m()\u001b[0m\n\u001b[1;32m      1\u001b[0m \u001b[0mnum\u001b[0m \u001b[0;34m=\u001b[0m \u001b[0;34m[\u001b[0m\u001b[0;36m1\u001b[0m\u001b[0;34m,\u001b[0m\u001b[0;36m2\u001b[0m\u001b[0;34m,\u001b[0m\u001b[0;36m3\u001b[0m\u001b[0;34m,\u001b[0m\u001b[0;36m4\u001b[0m\u001b[0;34m,\u001b[0m\u001b[0;36m5\u001b[0m\u001b[0;34m]\u001b[0m\u001b[0;34m\u001b[0m\u001b[0;34m\u001b[0m\u001b[0m\n\u001b[0;32m----> 2\u001b[0;31m \u001b[0mprint\u001b[0m\u001b[0;34m(\u001b[0m\u001b[0mnum\u001b[0m \u001b[0;34m>\u001b[0m \u001b[0;36m2.5\u001b[0m\u001b[0;34m)\u001b[0m\u001b[0;34m\u001b[0m\u001b[0;34m\u001b[0m\u001b[0m\n\u001b[0m",
            "\u001b[0;31mTypeError\u001b[0m: '>' not supported between instances of 'list' and 'float'"
          ]
        }
      ]
    }
  ]
}