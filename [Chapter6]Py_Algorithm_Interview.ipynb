{
  "nbformat": 4,
  "nbformat_minor": 0,
  "metadata": {
    "colab": {
      "name": "[Chapter6]Py_Algorithm Interview.ipynb",
      "provenance": [],
      "collapsed_sections": [
        "T3Ej1IKA42S9",
        "uNjeCCg6--US"
      ],
      "toc_visible": true,
      "authorship_tag": "ABX9TyP2TNZd8fQdqYpvEyHtjdOh",
      "include_colab_link": true
    },
    "kernelspec": {
      "name": "python3",
      "display_name": "Python 3"
    },
    "language_info": {
      "name": "python"
    }
  },
  "cells": [
    {
      "cell_type": "markdown",
      "metadata": {
        "id": "view-in-github",
        "colab_type": "text"
      },
      "source": [
        "<a href=\"https://colab.research.google.com/github/CamelGoong/Algorithm_Practicing/blob/main/%5BChapter6%5DPy_Algorithm_Interview.ipynb\" target=\"_parent\"><img src=\"https://colab.research.google.com/assets/colab-badge.svg\" alt=\"Open In Colab\"/></a>"
      ]
    },
    {
      "cell_type": "markdown",
      "source": [
        "# 01 유효한 팰린드롬"
      ],
      "metadata": {
        "id": "T3Ej1IKA42S9"
      }
    },
    {
      "cell_type": "markdown",
      "source": [
        "isalnum() : 영문자, 숫자 여부를 판별하는 함수"
      ],
      "metadata": {
        "id": "4Zj_3GQh7TDK"
      }
    },
    {
      "cell_type": "code",
      "execution_count": null,
      "metadata": {
        "colab": {
          "base_uri": "https://localhost:8080/"
        },
        "id": "QlWhmY-e3_NF",
        "outputId": "a5bc81f1-317a-4425-e4e0-e1839fa44829"
      },
      "outputs": [
        {
          "output_type": "stream",
          "name": "stdout",
          "text": [
            "a man\n",
            "false\n"
          ]
        }
      ],
      "source": [
        "# method 1 : 그냥 리스트로 풀이\n",
        "\n",
        "def isPalindrome(s):\n",
        "  strs = []\n",
        "  for char in s:\n",
        "    if char.isalnum():\n",
        "      strs.append(char.lower())\n",
        "\n",
        "  front = 0\n",
        "  back = len(strs)-1\n",
        "\n",
        "  flag = 0\n",
        "  while back > front:\n",
        "    if strs[back] != strs[front]:\n",
        "      flag += 1\n",
        "    front += 1\n",
        "    back -= 1\n",
        "\n",
        "  if flag == 0:\n",
        "    print(\"true\")\n",
        "  else:\n",
        "    print(\"false\")\n",
        "\n",
        "isPalindrome(input())"
      ]
    },
    {
      "cell_type": "markdown",
      "source": [
        "Idea 1: 꼭 back과 front로 할 필요 없이, pop()을 이용해서 풀이 가능.\n"
      ],
      "metadata": {
        "id": "vvko88qO7pXC"
      }
    },
    {
      "cell_type": "code",
      "source": [
        "# method 2 : 데크 자료형으로 최적화\n",
        "import collections\n",
        "\n",
        "def isPalindrome(s):\n",
        "\n",
        "  strs = collections.deque()\n",
        "\n",
        "  for char in s:\n",
        "    if char.isalnum():\n",
        "      strs.append(char.lower())\n",
        "  flag = 0\n",
        "\n",
        "  while len(strs) > 1:\n",
        "    if strs.popleft() != strs.pop():\n",
        "      flag += 1\n",
        "\n",
        "  if flag == 0:\n",
        "    print(\"true\")\n",
        "  else:\n",
        "    print(\"false\")\n",
        "\n",
        "isPalindrome(input())"
      ],
      "metadata": {
        "colab": {
          "base_uri": "https://localhost:8080/"
        },
        "id": "DvTpfSbQ6E0c",
        "outputId": "005bb3e2-ea2a-47c0-c13b-e4a36acc5140"
      },
      "execution_count": null,
      "outputs": [
        {
          "output_type": "stream",
          "name": "stdout",
          "text": [
            "adda\n",
            "true\n"
          ]
        }
      ]
    },
    {
      "cell_type": "code",
      "source": [
        "# method 3 : 슬라이싱 사용\n",
        "import re\n",
        "\n",
        "def isPalindrome(s):\n",
        "  s = s.lower()\n",
        "  s = re.sub('[^a-z0-9]', '', s)\n",
        "\n",
        "  return s == s[::-1]\n",
        "\n",
        "isPalindrome(\"adda\")"
      ],
      "metadata": {
        "colab": {
          "base_uri": "https://localhost:8080/"
        },
        "id": "-E8zzcHv9Vha",
        "outputId": "2384e674-17c6-4a2e-94a8-4d74347d1178"
      },
      "execution_count": null,
      "outputs": [
        {
          "output_type": "execute_result",
          "data": {
            "text/plain": [
              "True"
            ]
          },
          "metadata": {},
          "execution_count": 20
        }
      ]
    },
    {
      "cell_type": "markdown",
      "source": [
        "파이썬에서 문자열을 자유롭게 슬라이싱하는 이 기능을 통해서 method 2보다도 2배 정도 빠른 속도로 향상"
      ],
      "metadata": {
        "id": "rn95MEe799dR"
      }
    },
    {
      "cell_type": "markdown",
      "source": [
        "# 02 문자열 뒤집기"
      ],
      "metadata": {
        "id": "uNjeCCg6--US"
      }
    },
    {
      "cell_type": "code",
      "source": [
        "# method 1 : 투 포인터를 이용한 스왑\n",
        "\n",
        "def reverseString(s):\n",
        "  left, right = 0, len(s) -1\n",
        "  while left < right:\n",
        "    s[left], s[right] = s[right], s[left]\n",
        "    left += 1\n",
        "    right -= 1\n",
        "  \n",
        "  return s\n",
        "\n",
        "reverseString([\"h\", \"e\", \"l\", \"l\", \"o\"])"
      ],
      "metadata": {
        "colab": {
          "base_uri": "https://localhost:8080/"
        },
        "id": "WCAVaShx935x",
        "outputId": "18e57bee-97fa-4cf8-dd87-d2e98e416ae0"
      },
      "execution_count": null,
      "outputs": [
        {
          "output_type": "execute_result",
          "data": {
            "text/plain": [
              "['o', 'l', 'l', 'e', 'h']"
            ]
          },
          "metadata": {},
          "execution_count": 23
        }
      ]
    },
    {
      "cell_type": "code",
      "source": [
        "# method 2 : 파이썬다운 방식\n",
        "def reverseString(s):\n",
        "  return s.reverse()\n",
        "\n",
        "reverseString([\"h\", \"e\", \"l\", \"l\", \"o\"])"
      ],
      "metadata": {
        "id": "pjDhisIc_2tq"
      },
      "execution_count": null,
      "outputs": []
    },
    {
      "cell_type": "markdown",
      "source": [
        "# 03 로그파일 재정렬"
      ],
      "metadata": {
        "id": "OrA_6A6QBoLh"
      }
    },
    {
      "cell_type": "code",
      "source": [
        "# method 1 : 람다와 + 연산자를 이용\n",
        "def reorderLogFiles(logs):\n",
        "  letters, digits = [], []\n",
        "  for log in logs:\n",
        "    if log.split()[1].isdigit():\n",
        "      digits.append(log)\n",
        "    else:\n",
        "      letters.append(log)\n",
        "    \n",
        "  letters.sort(key = lambda x : (x.split()[1:], x.split()[0])) # 식별자를 제외한 문자열을 키로 하여 우선 정렬하고, 동일한 경우 후순위로 식별자를 지정해 정렬\n",
        "  return letters + digits\n",
        "\n",
        "reorderLogFiles([\"dig1 8 1 5 1\", \"let1 art can\", \"dig2 3 6\", \"let2 own kit dig\", \"let3 art zero\"])"
      ],
      "metadata": {
        "colab": {
          "base_uri": "https://localhost:8080/"
        },
        "id": "ysvsdLsxAGxp",
        "outputId": "d31623ae-6056-4c36-9f95-b2126aa6121b"
      },
      "execution_count": null,
      "outputs": [
        {
          "output_type": "execute_result",
          "data": {
            "text/plain": [
              "['let1 art can',\n",
              " 'let3 art zero',\n",
              " 'let2 own kit dig',\n",
              " 'dig1 8 1 5 1',\n",
              " 'dig2 3 6']"
            ]
          },
          "metadata": {},
          "execution_count": 38
        }
      ]
    },
    {
      "cell_type": "markdown",
      "source": [
        "# 04 가장 흔한 단어"
      ],
      "metadata": {
        "id": "kqyxNCsdArYG"
      }
    },
    {
      "cell_type": "code",
      "source": [
        "import re\n",
        "import collections\n",
        "\n",
        "paragraph = \"Bon hit a ball, the hit BALL flew far after it was hit.\"\n",
        "banned = ['hit']\n",
        "\n",
        "words = [word for word in re.sub(r'[^\\w]', ' ', paragraph).lower().split() if word not in banned]\n",
        "\n",
        "print(words)\n",
        "\n",
        "counts = collections.Counter(words)\n",
        "print(counts.most_common(1)[0][0])"
      ],
      "metadata": {
        "colab": {
          "base_uri": "https://localhost:8080/"
        },
        "id": "O1U2H80BAtNf",
        "outputId": "e3a29bcf-6566-44c7-dd9b-886ae5dee6cb"
      },
      "execution_count": 7,
      "outputs": [
        {
          "output_type": "stream",
          "name": "stdout",
          "text": [
            "['bon', 'a', 'ball', 'the', 'ball', 'flew', 'far', 'after', 'it', 'was']\n",
            "ball\n"
          ]
        }
      ]
    },
    {
      "cell_type": "markdown",
      "source": [
        "# 05 그룹 애너그램"
      ],
      "metadata": {
        "id": "kdOfKgoUCda2"
      }
    },
    {
      "cell_type": "code",
      "source": [
        "def groupAnagrams(words):\n",
        "  anagrams = collections.defaultdict(list)\n",
        "  \n",
        "  for word in words:\n",
        "    anagrams[\"\".join(sorted(word))].append(word)\n",
        "\n",
        "  return list(anagrams.values())"
      ],
      "metadata": {
        "id": "RzL-SLcnCfuW"
      },
      "execution_count": 23,
      "outputs": []
    },
    {
      "cell_type": "code",
      "source": [
        "groupAnagrams([\"eat\", \"tea\"])"
      ],
      "metadata": {
        "colab": {
          "base_uri": "https://localhost:8080/"
        },
        "id": "AVhhXFuvDSwm",
        "outputId": "48c54a0a-63f0-4dce-edb5-9440e15a1944"
      },
      "execution_count": 24,
      "outputs": [
        {
          "output_type": "execute_result",
          "data": {
            "text/plain": [
              "[['eat', 'tea']]"
            ]
          },
          "metadata": {},
          "execution_count": 24
        }
      ]
    },
    {
      "cell_type": "markdown",
      "source": [
        "sorted()는 key라는 옵션을 지정해서 정렬을 위한 기준을 지정할 수 있음."
      ],
      "metadata": {
        "id": "hjGzXQ8JGuZc"
      }
    },
    {
      "cell_type": "code",
      "source": [
        "c = [\"ccc\", \"aaaa\", \" d\", \"bb\"]\n",
        "sorted(c, key = len) # 길이를 기준으로 정렬"
      ],
      "metadata": {
        "colab": {
          "base_uri": "https://localhost:8080/"
        },
        "id": "a-xBBU2ZFcX0",
        "outputId": "7f730eed-4007-4bfc-f067-6e6920b34735"
      },
      "execution_count": 28,
      "outputs": [
        {
          "output_type": "execute_result",
          "data": {
            "text/plain": [
              "[' d', 'bb', 'ccc', 'aaaa']"
            ]
          },
          "metadata": {},
          "execution_count": 28
        }
      ]
    },
    {
      "cell_type": "code",
      "source": [
        "# 단어를 받으면, 단어 맨앞과 맨뒤 문자를 반환하는 함수\n",
        "def fn(s):\n",
        "  return s[0], s[-1]"
      ],
      "metadata": {
        "id": "kzGFGS1tHNND"
      },
      "execution_count": 29,
      "outputs": []
    },
    {
      "cell_type": "code",
      "source": [
        "sorted(c, key = fn)\n",
        "sorted(c, key = lambda x : (x[0], x[-1]))"
      ],
      "metadata": {
        "colab": {
          "base_uri": "https://localhost:8080/"
        },
        "id": "BTyOQ5nuG8he",
        "outputId": "9faef9a4-c0c7-4933-9509-66f3e563a9c5"
      },
      "execution_count": 33,
      "outputs": [
        {
          "output_type": "execute_result",
          "data": {
            "text/plain": [
              "[' d', 'aaaa', 'bb', 'ccc']"
            ]
          },
          "metadata": {},
          "execution_count": 33
        }
      ]
    },
    {
      "cell_type": "markdown",
      "source": [
        "# 06 가장 긴 팰린드롬 부분 문자열"
      ],
      "metadata": {
        "id": "dLGY4QCqJjrb"
      }
    },
    {
      "cell_type": "code",
      "source": [
        "def longestPalindrome(s):\n",
        "\n",
        "  def expand(left, right):\n",
        "\n",
        "    while left >= 0 and right < len(s) and s[left] == s[right]:\n",
        "      left -= 1\n",
        "      right += 1\n",
        "    return s[left + 1:right]\n",
        "  \n",
        "  if len(s) < 2 or s == s[::-1]: # 예외처리\n",
        "    return s\n",
        "  \n",
        "  result = ''\n",
        "  \n",
        "  for i in range(len(s) - 1):\n",
        "    result = max(result,\n",
        "                 expand(i, i + 1),\n",
        "                 expand(i, i + 2),\n",
        "                 key = len)\n",
        "  return result\n"
      ],
      "metadata": {
        "id": "5Ut5FOBaHdmD"
      },
      "execution_count": 1,
      "outputs": []
    },
    {
      "cell_type": "code",
      "source": [
        ""
      ],
      "metadata": {
        "colab": {
          "base_uri": "https://localhost:8080/",
          "height": 35
        },
        "id": "AkuDiaBTp5lu",
        "outputId": "fead959e-e6b9-4967-ae8a-263dbc8c49a4"
      },
      "execution_count": 5,
      "outputs": [
        {
          "output_type": "execute_result",
          "data": {
            "text/plain": [
              "'232'"
            ],
            "application/vnd.google.colaboratory.intrinsic+json": {
              "type": "string"
            }
          },
          "metadata": {},
          "execution_count": 5
        }
      ]
    }
  ]
}