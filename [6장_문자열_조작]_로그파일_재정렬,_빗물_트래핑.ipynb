{
  "nbformat": 4,
  "nbformat_minor": 0,
  "metadata": {
    "colab": {
      "name": "[6장_문자열 조작] 로그파일 재정렬, 빗물 트래핑.ipynb",
      "provenance": [],
      "collapsed_sections": [],
      "authorship_tag": "ABX9TyPemU4RkQfNs8thonytn0Bs",
      "include_colab_link": true
    },
    "kernelspec": {
      "name": "python3",
      "display_name": "Python 3"
    },
    "language_info": {
      "name": "python"
    }
  },
  "cells": [
    {
      "cell_type": "markdown",
      "metadata": {
        "id": "view-in-github",
        "colab_type": "text"
      },
      "source": [
        "<a href=\"https://colab.research.google.com/github/CamelGoong/Algorithm_Practicing/blob/main/%5B6%EC%9E%A5_%EB%AC%B8%EC%9E%90%EC%97%B4_%EC%A1%B0%EC%9E%91%5D_%EB%A1%9C%EA%B7%B8%ED%8C%8C%EC%9D%BC_%EC%9E%AC%EC%A0%95%EB%A0%AC%2C_%EB%B9%97%EB%AC%BC_%ED%8A%B8%EB%9E%98%ED%95%91.ipynb\" target=\"_parent\"><img src=\"https://colab.research.google.com/assets/colab-badge.svg\" alt=\"Open In Colab\"/></a>"
      ]
    },
    {
      "cell_type": "markdown",
      "source": [
        "# 03 로그파일 재정렬"
      ],
      "metadata": {
        "id": "TCXBR_Oucl5B"
      }
    },
    {
      "cell_type": "markdown",
      "source": [
        "Question: 로그를 재정렬하기\n",
        "\n",
        "1.   로그의 가장 앞 부분은 식별자다.\n",
        "2.   문자로 구성된 로그가 숫자 로그보다 앞에 온다.\n",
        "3.   식별자는 순서에 영향을 끼치지 않지만, 문자가 동일할 경우 식별자 순으로 한다.\n",
        "4.   숫자 로그는 입력 순서대로 한다.\n",
        "\n",
        "\n"
      ],
      "metadata": {
        "id": "sTkHL_TbcgCh"
      }
    },
    {
      "cell_type": "markdown",
      "source": [
        "입력\n",
        "> logs = [\"dig1 8 1 5 1\", \"let1 art can\", \"dig2 3 6\", \"let2 own kit dig\", \"let3 art zero\"]\n",
        "\n",
        "출력\n",
        "> [\"let1 at can\", let3 art zero\", \"let2 own kit dig\", \"dig1 8 1 5 1\", \"dig2 3 6\"]\n",
        "\n"
      ],
      "metadata": {
        "id": "lJx1cy5mdBPJ"
      }
    },
    {
      "cell_type": "markdown",
      "source": [
        "Point\n",
        ">풀이 1: \"**Lambda**\"와 \"**+연산자**\" 이용\n",
        "\n"
      ],
      "metadata": {
        "id": "36vdn4k8du4i"
      }
    },
    {
      "cell_type": "code",
      "execution_count": 11,
      "metadata": {
        "colab": {
          "base_uri": "https://localhost:8080/",
          "height": 0
        },
        "id": "YlNhyg_2ZrUi",
        "outputId": "29dc0e1a-7324-42f3-e2b6-2a837fe8cc4e"
      },
      "outputs": [
        {
          "output_type": "stream",
          "name": "stdout",
          "text": [
            "['let1 art can', 'let3 art zero', 'let2 own kit dig', 'dig1 8 1 5 1', 'dig2 3 6']\n"
          ]
        }
      ],
      "source": [
        "logs = [\"dig1 8 1 5 1\", \"let1 art can\", \"dig2 3 6\", \"let2 own kit dig\", \"let3 art zero\"]\n",
        "\n",
        "letters, digits = [], []\n",
        "\n",
        "for log in logs:\n",
        "  if log.split()[1].isdigit():\n",
        "    digits.append(log)\n",
        "  else:\n",
        "    letters.append(log)\n",
        "\n",
        "#  2개의 키를 람다 표현식으로 정렬\n",
        "letters.sort(key = lambda x: (x.split()[1:], x.split()[0]))\n",
        "\n",
        "print(letters + digits)"
      ]
    },
    {
      "cell_type": "markdown",
      "source": [
        "<람다 표현식>\n",
        "\n",
        "\n",
        "*   식별자 없이 실행 가능한 함수를 의미. / 함수 선언 없이도 하나의 식으로 함수를 단순하게 표현 가능.\n"
      ],
      "metadata": {
        "id": "KeUSka1-ikoz"
      }
    },
    {
      "cell_type": "markdown",
      "source": [
        "# 08 빗물 트래핑"
      ],
      "metadata": {
        "id": "_wcIJha1kNJ8"
      }
    },
    {
      "cell_type": "markdown",
      "source": [
        "입력\n",
        "> [0,1,0,2,1,0,1,3,2,1,2,1]"
      ],
      "metadata": {
        "id": "LL8WAResl_I9"
      }
    },
    {
      "cell_type": "markdown",
      "source": [
        "출력\n",
        ">6"
      ],
      "metadata": {
        "id": "jL6czkp3mFnF"
      }
    },
    {
      "cell_type": "markdown",
      "source": [
        "\n",
        "*   본 문제의 경우 높이와 너비 모든 공간을 차례대로 모두 살펴본다면 O(n^2)에 풀이가 가능.\n",
        "*   그러나 시간 복잡도가 너무 높기 때문에 좀 더 효율적인 풀이가 필요!!\n",
        "\n"
      ],
      "metadata": {
        "id": "0k3LezR1m1Vd"
      }
    },
    {
      "cell_type": "markdown",
      "source": [
        "풀이 1\n",
        ">: '**투 포인터**'를 최대로 이동"
      ],
      "metadata": {
        "id": "9PDGSUi-mVa8"
      }
    },
    {
      "cell_type": "markdown",
      "source": [
        "Idea: 최대 높이의 막대까지 각각 좌우 기둥 최대 높이 left_max,right_max 가 현재 높이와의 차이만큼 물 높이 volume을 더해나감."
      ],
      "metadata": {
        "id": "2785Rtpaspy5"
      }
    },
    {
      "cell_type": "code",
      "source": [
        "height = [0,1,0,2,1,0,1,3,2,1,2,1]\n",
        "\n",
        "volume = 0\n",
        "\n",
        "left, right = 0, len(height)-1\n",
        "left_max, right_max = height[left], height[right] # 일단 각각 맨 왼쪽, 맨 오른쪽 첫 원소들을 max로 할당\n",
        "\n",
        "while left < right:\n",
        "  left_max, right_max = max(height[left], left_max), max(height[right], right_max)\n",
        "\n",
        "  # 더 높은 쪽을 향해 투 포인터 이동\n",
        "  if left_max <= right_max:\n",
        "    volume += left_max - height[left]\n",
        "    left += 1\n",
        "  else:\n",
        "    volume += right_max - height[right]\n",
        "    right -= 1\n",
        "\n",
        "print(volume)\n",
        "\n"
      ],
      "metadata": {
        "colab": {
          "base_uri": "https://localhost:8080/",
          "height": 0
        },
        "id": "WXfiUs5hkWSV",
        "outputId": "aa975408-11a1-493c-e04a-d3e8a8339979"
      },
      "execution_count": 15,
      "outputs": [
        {
          "output_type": "stream",
          "name": "stdout",
          "text": [
            "6\n"
          ]
        }
      ]
    },
    {
      "cell_type": "markdown",
      "source": [
        "풀이2\n",
        ">:'**스택**' 쌓기"
      ],
      "metadata": {
        "id": "UE7oe1p5miF-"
      }
    },
    {
      "cell_type": "markdown",
      "source": [
        "Idea: 스택에 쌓아 나가면서 현재 높이가 이전 높이보다 높을 때, 걲이는 부분 변곡점(Inflection Point)을 기준으로 격차만큼 물 높이(volume)를 채움."
      ],
      "metadata": {
        "id": "rURWIJHOx_GC"
      }
    },
    {
      "cell_type": "code",
      "source": [
        "height = [0,1,0,2,1,0,1,3,2,1,2,1]\n",
        "stack = []\n",
        "volume = 0\n",
        "\n",
        "for i in range(len(height)):\n",
        "  # 변곡점을 만나는 경우\n",
        "  while stack and height[i] > height[stack[-1]]: # stack에 무언가가 들어있고, 현재 height가 이전 height보다 높을 때,\n",
        "    top = stack.pop()\n",
        "\n",
        "    if not len(stack): # stack에 아무것도 없으면 멈춰라. / 이 코드는 왜 있는 것일까?\n",
        "      break\n",
        "    \n",
        "    #  이전과의 차이만큼 물 높이 처리\n",
        "    distance = i - stack[-1] - 1\n",
        "    waters = min(height[i], height[stack[-1]]) - height[top]\n",
        "\n",
        "    a = distance * waters\n",
        "    print(a)\n",
        "    volume += a\n",
        "  \n",
        "  stack.append(i)\n",
        "\n",
        "print(volume)\n"
      ],
      "metadata": {
        "colab": {
          "base_uri": "https://localhost:8080/"
        },
        "id": "GruN1--bmnj9",
        "outputId": "b4d2fc50-cc87-4503-ed67-175e8b21b01b"
      },
      "execution_count": 22,
      "outputs": [
        {
          "output_type": "stream",
          "name": "stdout",
          "text": [
            "1\n",
            "1\n",
            "0\n",
            "3\n",
            "1\n",
            "6\n"
          ]
        }
      ]
    }
  ]
}