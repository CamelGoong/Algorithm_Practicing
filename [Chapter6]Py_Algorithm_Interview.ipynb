{
  "nbformat": 4,
  "nbformat_minor": 0,
  "metadata": {
    "colab": {
      "name": "[Chapter6]Py_Algorithm Interview.ipynb",
      "provenance": [],
      "collapsed_sections": [
        "T3Ej1IKA42S9",
        "uNjeCCg6--US"
      ],
      "authorship_tag": "ABX9TyNH7z1sK/4zblYj/jamRYY8",
      "include_colab_link": true
    },
    "kernelspec": {
      "name": "python3",
      "display_name": "Python 3"
    },
    "language_info": {
      "name": "python"
    }
  },
  "cells": [
    {
      "cell_type": "markdown",
      "metadata": {
        "id": "view-in-github",
        "colab_type": "text"
      },
      "source": [
        "<a href=\"https://colab.research.google.com/github/CamelGoong/Algorithm_Practicing/blob/main/%5BChapter6%5DPy_Algorithm_Interview.ipynb\" target=\"_parent\"><img src=\"https://colab.research.google.com/assets/colab-badge.svg\" alt=\"Open In Colab\"/></a>"
      ]
    },
    {
      "cell_type": "markdown",
      "source": [
        "# 01 유효한 팰린드롬"
      ],
      "metadata": {
        "id": "T3Ej1IKA42S9"
      }
    },
    {
      "cell_type": "markdown",
      "source": [
        "isalnum() : 영문자, 숫자 여부를 판별하는 함수"
      ],
      "metadata": {
        "id": "4Zj_3GQh7TDK"
      }
    },
    {
      "cell_type": "code",
      "execution_count": 11,
      "metadata": {
        "colab": {
          "base_uri": "https://localhost:8080/"
        },
        "id": "QlWhmY-e3_NF",
        "outputId": "a5bc81f1-317a-4425-e4e0-e1839fa44829"
      },
      "outputs": [
        {
          "output_type": "stream",
          "name": "stdout",
          "text": [
            "a man\n",
            "false\n"
          ]
        }
      ],
      "source": [
        "# method 1 : 그냥 리스트로 풀이\n",
        "\n",
        "def isPalindrome(s):\n",
        "  strs = []\n",
        "  for char in s:\n",
        "    if char.isalnum():\n",
        "      strs.append(char.lower())\n",
        "\n",
        "  front = 0\n",
        "  back = len(strs)-1\n",
        "\n",
        "  flag = 0\n",
        "  while back > front:\n",
        "    if strs[back] != strs[front]:\n",
        "      flag += 1\n",
        "    front += 1\n",
        "    back -= 1\n",
        "\n",
        "  if flag == 0:\n",
        "    print(\"true\")\n",
        "  else:\n",
        "    print(\"false\")\n",
        "\n",
        "isPalindrome(input())"
      ]
    },
    {
      "cell_type": "markdown",
      "source": [
        "Idea 1: 꼭 back과 front로 할 필요 없이, pop()을 이용해서 풀이 가능.\n"
      ],
      "metadata": {
        "id": "vvko88qO7pXC"
      }
    },
    {
      "cell_type": "code",
      "source": [
        "# method 2 : 데크 자료형으로 최적화\n",
        "import collections\n",
        "\n",
        "def isPalindrome(s):\n",
        "\n",
        "  strs = collections.deque()\n",
        "\n",
        "  for char in s:\n",
        "    if char.isalnum():\n",
        "      strs.append(char.lower())\n",
        "  flag = 0\n",
        "\n",
        "  while len(strs) > 1:\n",
        "    if strs.popleft() != strs.pop():\n",
        "      flag += 1\n",
        "\n",
        "  if flag == 0:\n",
        "    print(\"true\")\n",
        "  else:\n",
        "    print(\"false\")\n",
        "\n",
        "isPalindrome(input())"
      ],
      "metadata": {
        "colab": {
          "base_uri": "https://localhost:8080/"
        },
        "id": "DvTpfSbQ6E0c",
        "outputId": "005bb3e2-ea2a-47c0-c13b-e4a36acc5140"
      },
      "execution_count": 15,
      "outputs": [
        {
          "output_type": "stream",
          "name": "stdout",
          "text": [
            "adda\n",
            "true\n"
          ]
        }
      ]
    },
    {
      "cell_type": "code",
      "source": [
        "# method 3 : 슬라이싱 사용\n",
        "import re\n",
        "\n",
        "def isPalindrome(s):\n",
        "  s = s.lower()\n",
        "  s = re.sub('[^a-z0-9]', '', s)\n",
        "\n",
        "  return s == s[::-1]\n",
        "\n",
        "isPalindrome(\"adda\")"
      ],
      "metadata": {
        "colab": {
          "base_uri": "https://localhost:8080/"
        },
        "id": "-E8zzcHv9Vha",
        "outputId": "2384e674-17c6-4a2e-94a8-4d74347d1178"
      },
      "execution_count": 20,
      "outputs": [
        {
          "output_type": "execute_result",
          "data": {
            "text/plain": [
              "True"
            ]
          },
          "metadata": {},
          "execution_count": 20
        }
      ]
    },
    {
      "cell_type": "markdown",
      "source": [
        "파이썬에서 문자열을 자유롭게 슬라이싱하는 이 기능을 통해서 method 2보다도 2배 정도 빠른 속도로 향상"
      ],
      "metadata": {
        "id": "rn95MEe799dR"
      }
    },
    {
      "cell_type": "markdown",
      "source": [
        "# 02 문자열 뒤집기"
      ],
      "metadata": {
        "id": "uNjeCCg6--US"
      }
    },
    {
      "cell_type": "code",
      "source": [
        "# method 1 : 투 포인터를 이용한 스왑\n",
        "\n",
        "def reverseString(s):\n",
        "  left, right = 0, len(s) -1\n",
        "  while left < right:\n",
        "    s[left], s[right] = s[right], s[left]\n",
        "    left += 1\n",
        "    right -= 1\n",
        "  \n",
        "  return s\n",
        "\n",
        "reverseString([\"h\", \"e\", \"l\", \"l\", \"o\"])"
      ],
      "metadata": {
        "colab": {
          "base_uri": "https://localhost:8080/"
        },
        "id": "WCAVaShx935x",
        "outputId": "18e57bee-97fa-4cf8-dd87-d2e98e416ae0"
      },
      "execution_count": 23,
      "outputs": [
        {
          "output_type": "execute_result",
          "data": {
            "text/plain": [
              "['o', 'l', 'l', 'e', 'h']"
            ]
          },
          "metadata": {},
          "execution_count": 23
        }
      ]
    },
    {
      "cell_type": "code",
      "source": [
        "# method 2 : 파이썬다운 방식\n",
        "def reverseString(s):\n",
        "  return s.reverse()\n",
        "\n",
        "reverseString([\"h\", \"e\", \"l\", \"l\", \"o\"])"
      ],
      "metadata": {
        "id": "pjDhisIc_2tq"
      },
      "execution_count": 36,
      "outputs": []
    },
    {
      "cell_type": "markdown",
      "source": [
        "# 03 로그파일 재정렬"
      ],
      "metadata": {
        "id": "OrA_6A6QBoLh"
      }
    },
    {
      "cell_type": "code",
      "source": [
        "# method 1 : 람다와 + 연산자를 이용\n",
        "def reorderLogFiles(logs):\n",
        "  letters, digits = [], []\n",
        "  for log in logs:\n",
        "    if log.split()[1].isdigit():\n",
        "      digits.append(log)\n",
        "    else:\n",
        "      letters.append(log)\n",
        "    \n",
        "  letters.sort(key = lambda x : (x.split()[1:], x.split()[0])) # 식별자를 제외한 문자열을 키로 하여 우선 정렬하고, 동일한 경우 후순위로 식별자를 지정해 정렬\n",
        "  return letters + digits\n",
        "\n",
        "reorderLogFiles([\"dig1 8 1 5 1\", \"let1 art can\", \"dig2 3 6\", \"let2 own kit dig\", \"let3 art zero\"])"
      ],
      "metadata": {
        "colab": {
          "base_uri": "https://localhost:8080/"
        },
        "id": "ysvsdLsxAGxp",
        "outputId": "d31623ae-6056-4c36-9f95-b2126aa6121b"
      },
      "execution_count": 38,
      "outputs": [
        {
          "output_type": "execute_result",
          "data": {
            "text/plain": [
              "['let1 art can',\n",
              " 'let3 art zero',\n",
              " 'let2 own kit dig',\n",
              " 'dig1 8 1 5 1',\n",
              " 'dig2 3 6']"
            ]
          },
          "metadata": {},
          "execution_count": 38
        }
      ]
    }
  ]
}