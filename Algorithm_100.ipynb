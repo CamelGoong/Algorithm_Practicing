{
  "nbformat": 4,
  "nbformat_minor": 0,
  "metadata": {
    "colab": {
      "name": "Algorithm_100.ipynb",
      "provenance": [],
      "collapsed_sections": [],
      "authorship_tag": "ABX9TyNFiehfKZ02e4gIqq5MfwWs",
      "include_colab_link": true
    },
    "kernelspec": {
      "name": "python3",
      "display_name": "Python 3"
    },
    "language_info": {
      "name": "python"
    },
    "accelerator": "GPU"
  },
  "cells": [
    {
      "cell_type": "markdown",
      "metadata": {
        "id": "view-in-github",
        "colab_type": "text"
      },
      "source": [
        "<a href=\"https://colab.research.google.com/github/CamelGoong/Algorithm_Practicing/blob/main/Algorithm_100.ipynb\" target=\"_parent\"><img src=\"https://colab.research.google.com/assets/colab-badge.svg\" alt=\"Open In Colab\"/></a>"
      ]
    },
    {
      "cell_type": "markdown",
      "source": [
        "# 6001~6010"
      ],
      "metadata": {
        "id": "EZ24JEwI_Y2w"
      }
    },
    {
      "cell_type": "code",
      "source": [
        "print(\"print(\\\"Hello\\\\nWorld\\\")\")"
      ],
      "metadata": {
        "colab": {
          "base_uri": "https://localhost:8080/"
        },
        "id": "_t4b3fMQ-J6A",
        "outputId": "ca87c1ad-857f-4ace-a1b4-1f1083a5bbea"
      },
      "execution_count": null,
      "outputs": [
        {
          "output_type": "stream",
          "name": "stdout",
          "text": [
            "print(\"Hello\\nWorld\")\n"
          ]
        }
      ]
    },
    {
      "cell_type": "code",
      "source": [
        "variable = input()\n",
        "print(variable)"
      ],
      "metadata": {
        "colab": {
          "base_uri": "https://localhost:8080/"
        },
        "id": "J4brUHq9_ec4",
        "outputId": "a0fb815e-2891-4700-ed78-9e4d15fe8eb9"
      },
      "execution_count": null,
      "outputs": [
        {
          "output_type": "stream",
          "name": "stdout",
          "text": [
            "a\n",
            "a\n"
          ]
        }
      ]
    },
    {
      "cell_type": "code",
      "source": [
        "num = input()\n",
        "print(num)"
      ],
      "metadata": {
        "colab": {
          "base_uri": "https://localhost:8080/"
        },
        "id": "CMsFGDvy_3CU",
        "outputId": "25d3e7c7-f814-45df-8f0d-4d181485fd65"
      },
      "execution_count": null,
      "outputs": [
        {
          "output_type": "stream",
          "name": "stdout",
          "text": [
            "15\n",
            "15\n"
          ]
        }
      ]
    },
    {
      "cell_type": "markdown",
      "source": [
        "# 6011~6020"
      ],
      "metadata": {
        "id": "IhT2zYCuAPbh"
      }
    },
    {
      "cell_type": "code",
      "source": [
        "f = input()\n",
        "f = float(f)\n",
        "print(f)"
      ],
      "metadata": {
        "colab": {
          "base_uri": "https://localhost:8080/"
        },
        "id": "KG3xaBCpARTg",
        "outputId": "9915dbe8-bb37-460e-e129-da09b1d08834"
      },
      "execution_count": null,
      "outputs": [
        {
          "output_type": "stream",
          "name": "stdout",
          "text": [
            "1.25\n",
            "1.25\n"
          ]
        }
      ]
    },
    {
      "cell_type": "code",
      "source": [
        "a = input()\n",
        "b = input()\n",
        "\n",
        "print(a,b, sep = '\\n')"
      ],
      "metadata": {
        "colab": {
          "base_uri": "https://localhost:8080/"
        },
        "id": "p_oi7uGVAe0I",
        "outputId": "3511f526-1005-4b72-9848-9624c5753cdf"
      },
      "execution_count": null,
      "outputs": [
        {
          "output_type": "stream",
          "name": "stdout",
          "text": [
            "1\n",
            "\n",
            "1\n",
            "\n"
          ]
        }
      ]
    },
    {
      "cell_type": "code",
      "source": [
        "a = input()\n",
        "b = input()\n",
        "\n",
        "print(b,a, sep = '\\n')"
      ],
      "metadata": {
        "colab": {
          "base_uri": "https://localhost:8080/"
        },
        "id": "B_NGdzcOBOP_",
        "outputId": "0ff49937-3d12-470d-a4ae-b75bf649593e"
      },
      "execution_count": null,
      "outputs": [
        {
          "output_type": "stream",
          "name": "stdout",
          "text": [
            "a\n",
            "b\n",
            "b\n",
            "a\n"
          ]
        }
      ]
    },
    {
      "cell_type": "code",
      "source": [
        "f = 0.1\n",
        "print(f)\n",
        "\n",
        "print(f)\n",
        "\n",
        "print(f)"
      ],
      "metadata": {
        "colab": {
          "base_uri": "https://localhost:8080/"
        },
        "id": "5ZZFsl04J6Hn",
        "outputId": "92670e2e-a7df-4d08-9028-fea3dc572c90"
      },
      "execution_count": null,
      "outputs": [
        {
          "output_type": "stream",
          "name": "stdout",
          "text": [
            "0.1\n",
            "0.1\n",
            "0.1\n"
          ]
        }
      ]
    },
    {
      "cell_type": "code",
      "source": [
        "a, b = input().split()\n",
        "print(a)\n",
        "print(b)"
      ],
      "metadata": {
        "colab": {
          "base_uri": "https://localhost:8080/"
        },
        "id": "ErmhsGUbKa52",
        "outputId": "8bcae93e-885a-477b-85cd-7532ed7383eb"
      },
      "execution_count": null,
      "outputs": [
        {
          "output_type": "stream",
          "name": "stdout",
          "text": [
            "1 2\n",
            "1\n",
            "2\n"
          ]
        }
      ]
    },
    {
      "cell_type": "code",
      "source": [
        "a, b = input().split()\n",
        "print(b,a)"
      ],
      "metadata": {
        "colab": {
          "base_uri": "https://localhost:8080/"
        },
        "id": "bmkgmeXJKpZn",
        "outputId": "6bc6ec2b-7ca3-4088-906a-117cd763db6c"
      },
      "execution_count": null,
      "outputs": [
        {
          "output_type": "stream",
          "name": "stdout",
          "text": [
            "1 2\n",
            "2 1\n"
          ]
        }
      ]
    },
    {
      "cell_type": "code",
      "source": [
        "string = input()\n",
        "print(string,string,string)"
      ],
      "metadata": {
        "colab": {
          "base_uri": "https://localhost:8080/"
        },
        "id": "7HEGZs-cK_lO",
        "outputId": "d017b529-fe29-46da-8888-8af343bf66f4"
      },
      "execution_count": null,
      "outputs": [
        {
          "output_type": "stream",
          "name": "stdout",
          "text": [
            "Hello\n",
            "Hello Hello Hello\n"
          ]
        }
      ]
    },
    {
      "cell_type": "code",
      "source": [
        "h, m = input().split(\":\")\n",
        "print(h, m, sep = \":\")"
      ],
      "metadata": {
        "colab": {
          "base_uri": "https://localhost:8080/"
        },
        "id": "wOPAHo13LNKo",
        "outputId": "16ea0beb-38f7-4650-e1d5-bd4e07751b2c"
      },
      "execution_count": null,
      "outputs": [
        {
          "output_type": "stream",
          "name": "stdout",
          "text": [
            "3:16\n",
            "3:16\n"
          ]
        }
      ]
    },
    {
      "cell_type": "code",
      "source": [
        "y, m, d = input().split(\".\")\n",
        "print(d, m, y, sep = \"-\")"
      ],
      "metadata": {
        "colab": {
          "base_uri": "https://localhost:8080/"
        },
        "id": "WNGSykulLnbi",
        "outputId": "31af4664-727f-4a8d-eed6-e62d9d970804"
      },
      "execution_count": null,
      "outputs": [
        {
          "output_type": "stream",
          "name": "stdout",
          "text": [
            "2020.3.4\n",
            "4-3-2020\n"
          ]
        }
      ]
    },
    {
      "cell_type": "code",
      "source": [
        "birth, identity = input().split(\"-\")\n",
        "print(birth, identity, sep = \"\")"
      ],
      "metadata": {
        "colab": {
          "base_uri": "https://localhost:8080/"
        },
        "id": "_3E9UFUxL8CJ",
        "outputId": "9c85f78f-c142-46ab-fa22-04d353b1ac70"
      },
      "execution_count": null,
      "outputs": [
        {
          "output_type": "stream",
          "name": "stdout",
          "text": [
            "000907-1121112\n",
            "0009071121112\n"
          ]
        }
      ]
    },
    {
      "cell_type": "markdown",
      "source": [
        "#6021~6030"
      ],
      "metadata": {
        "id": "C0Ul-OTlMqh_"
      }
    },
    {
      "cell_type": "code",
      "source": [
        "word = input()\n",
        "for i in range(5):\n",
        "  print(word[i])"
      ],
      "metadata": {
        "colab": {
          "base_uri": "https://localhost:8080/"
        },
        "id": "M8gssvPwMQYw",
        "outputId": "d2efcc42-a6f3-4db7-9bff-8b4162ba519c"
      },
      "execution_count": null,
      "outputs": [
        {
          "output_type": "stream",
          "name": "stdout",
          "text": [
            "hello\n",
            "h\n",
            "e\n",
            "l\n",
            "l\n",
            "o\n"
          ]
        }
      ]
    },
    {
      "cell_type": "code",
      "source": [
        "birth = input()\n",
        "print(birth[0:2], birth[2:4], birth[4:6], sep = \" \")"
      ],
      "metadata": {
        "colab": {
          "base_uri": "https://localhost:8080/"
        },
        "id": "lVzqg3qW1bsp",
        "outputId": "3e17cee6-e8ab-4d9e-fc87-695050fdccbe"
      },
      "execution_count": null,
      "outputs": [
        {
          "output_type": "stream",
          "name": "stdout",
          "text": [
            "200304\n",
            "20 03 04\n"
          ]
        }
      ]
    },
    {
      "cell_type": "code",
      "source": [
        "time = input().split(\":\")\n",
        "print(time[1])"
      ],
      "metadata": {
        "colab": {
          "base_uri": "https://localhost:8080/"
        },
        "id": "GL04JIaI2VOE",
        "outputId": "8e837efa-acb4-4b90-f9b8-115287389662"
      },
      "execution_count": null,
      "outputs": [
        {
          "output_type": "stream",
          "name": "stdout",
          "text": [
            "17:23:56\n",
            "23\n"
          ]
        }
      ]
    },
    {
      "cell_type": "code",
      "source": [
        "word = input().split(\" \")\n",
        "print(word[0]+word[1])"
      ],
      "metadata": {
        "colab": {
          "base_uri": "https://localhost:8080/"
        },
        "id": "ZINQwcNR256W",
        "outputId": "843c1f37-2637-438e-e03f-8cee8c9e08c8"
      },
      "execution_count": null,
      "outputs": [
        {
          "output_type": "stream",
          "name": "stdout",
          "text": [
            "hello world\n",
            "helloworld\n"
          ]
        }
      ]
    },
    {
      "cell_type": "code",
      "source": [
        "a, b = input().split()\n",
        "print(int(a) + int(b))"
      ],
      "metadata": {
        "colab": {
          "base_uri": "https://localhost:8080/"
        },
        "id": "aIw1uC9m4CuE",
        "outputId": "56827112-67b5-405e-f42c-59183aa0ad3c"
      },
      "execution_count": null,
      "outputs": [
        {
          "output_type": "stream",
          "name": "stdout",
          "text": [
            "123 -123\n",
            "0\n"
          ]
        }
      ]
    },
    {
      "cell_type": "code",
      "source": [
        "a = input()\n",
        "b = input()\n",
        "print(float(a) + float(b))"
      ],
      "metadata": {
        "colab": {
          "base_uri": "https://localhost:8080/"
        },
        "id": "pixa6oB14Vyp",
        "outputId": "b6a209ec-9290-4b46-fc5b-a9c7150ae085"
      },
      "execution_count": null,
      "outputs": [
        {
          "output_type": "stream",
          "name": "stdout",
          "text": [
            "0.1\n",
            "0.9\n",
            "1.0\n"
          ]
        }
      ]
    },
    {
      "cell_type": "markdown",
      "source": [
        "6027: 10진수 정수 -> 16진수 정수 출력(소문자 형태)"
      ],
      "metadata": {
        "id": "U6mQ26n16rc3"
      }
    },
    {
      "cell_type": "code",
      "source": [
        "decimal = int(input())\n",
        "print(\"%x\"%decimal)"
      ],
      "metadata": {
        "colab": {
          "base_uri": "https://localhost:8080/"
        },
        "id": "hxORnLMR5wLm",
        "outputId": "454a29db-e727-4d49-ba7d-44937f95313b"
      },
      "execution_count": null,
      "outputs": [
        {
          "output_type": "stream",
          "name": "stdout",
          "text": [
            "26\n",
            "1a\n"
          ]
        }
      ]
    },
    {
      "cell_type": "code",
      "source": [
        "decimal = int(input())\n",
        "print(\"%X\"%decimal)"
      ],
      "metadata": {
        "colab": {
          "base_uri": "https://localhost:8080/"
        },
        "id": "yUsXFz1P6mGb",
        "outputId": "6c216889-bda3-4ff2-afbc-1de1b40eaa2d"
      },
      "execution_count": null,
      "outputs": [
        {
          "output_type": "stream",
          "name": "stdout",
          "text": [
            "26\n",
            "1A\n"
          ]
        }
      ]
    },
    {
      "cell_type": "markdown",
      "source": [
        "6029 : [기초-값변환] 16진 정수 입력받아 8진수로 출력하기(설명)(py)"
      ],
      "metadata": {
        "id": "P3OgQwQ17Nzr"
      }
    },
    {
      "cell_type": "code",
      "source": [
        "Hexa = int(input(), 16) # 입력된 숫자를 16진수로 인식해서 저장 \n",
        "print(\"%o\"%Hexa)"
      ],
      "metadata": {
        "colab": {
          "base_uri": "https://localhost:8080/"
        },
        "id": "dQqisYNI7Er8",
        "outputId": "da8afcf3-e332-47a5-84d5-a7d05ae878f8"
      },
      "execution_count": null,
      "outputs": [
        {
          "output_type": "stream",
          "name": "stdout",
          "text": [
            "f\n",
            "17\n"
          ]
        }
      ]
    },
    {
      "cell_type": "markdown",
      "source": [
        "6030 : [기초-값변환] 영문자 1개 입력받아 10진수로 변환하기(설명)(py)"
      ],
      "metadata": {
        "id": "zBTdY8Jf8nJ1"
      }
    },
    {
      "cell_type": "code",
      "source": [
        "# ord(): 문자를 10진수로 변환한 값(유니코드 값)\n",
        "a = ord(input())\n",
        "print(a)"
      ],
      "metadata": {
        "colab": {
          "base_uri": "https://localhost:8080/"
        },
        "id": "zB6HnF9V79vM",
        "outputId": "f0d2f369-7923-4103-8989-37970bc20715"
      },
      "execution_count": null,
      "outputs": [
        {
          "output_type": "stream",
          "name": "stdout",
          "text": [
            "A\n",
            "65\n"
          ]
        }
      ]
    },
    {
      "cell_type": "markdown",
      "source": [
        "#6031~6040"
      ],
      "metadata": {
        "id": "vJTLFKof9NKc"
      }
    },
    {
      "cell_type": "markdown",
      "source": [
        "6031 : [기초-값변환] 정수 입력받아 유니코드 문자로 변환하기(설명)(py)"
      ],
      "metadata": {
        "id": "GPYPidpV9csQ"
      }
    },
    {
      "cell_type": "code",
      "source": [
        "# chr(): 정수 값을 유니코드 문자로 바꿔서 출력 / ord()의 반대기능\n",
        "a = chr(int(input()))\n",
        "print(a)"
      ],
      "metadata": {
        "colab": {
          "base_uri": "https://localhost:8080/"
        },
        "id": "WT_vV_lA9HqH",
        "outputId": "34bcf402-652d-4e1b-d8fc-f7d5a0908014"
      },
      "execution_count": null,
      "outputs": [
        {
          "output_type": "stream",
          "name": "stdout",
          "text": [
            "65\n",
            "A\n"
          ]
        }
      ]
    },
    {
      "cell_type": "code",
      "source": [
        "a = int(input())\n",
        "print(-a)"
      ],
      "metadata": {
        "colab": {
          "base_uri": "https://localhost:8080/"
        },
        "id": "kc_WwsbM-HyN",
        "outputId": "5677e993-27e2-4f31-f23d-04cb9bd85e1c"
      },
      "execution_count": null,
      "outputs": [
        {
          "output_type": "stream",
          "name": "stdout",
          "text": [
            "1\n",
            "-1\n"
          ]
        }
      ]
    },
    {
      "cell_type": "markdown",
      "source": [
        "6033 : [기초-산술연산] 문자 1개 입력받아 다음 문자 출력하기(설명)(py)"
      ],
      "metadata": {
        "id": "i2NgB1m__KD6"
      }
    },
    {
      "cell_type": "code",
      "source": [
        "a = ord(input())\n",
        "print(chr(a + 1))"
      ],
      "metadata": {
        "colab": {
          "base_uri": "https://localhost:8080/"
        },
        "id": "xtDJTKiQ-qBH",
        "outputId": "5b7e157d-91d1-421f-8f62-d415f438ad8d"
      },
      "execution_count": null,
      "outputs": [
        {
          "output_type": "stream",
          "name": "stdout",
          "text": [
            "c\n",
            "d\n"
          ]
        }
      ]
    },
    {
      "cell_type": "code",
      "source": [
        "a, b = input().split(\" \")\n",
        "\n",
        "c = int(a) - int(b)\n",
        "print(c)"
      ],
      "metadata": {
        "colab": {
          "base_uri": "https://localhost:8080/"
        },
        "id": "3zF9O_Z9QORh",
        "outputId": "2f687999-b428-4f70-9779-84608f92055f"
      },
      "execution_count": null,
      "outputs": [
        {
          "output_type": "stream",
          "name": "stdout",
          "text": [
            "123 -123\n",
            "246\n"
          ]
        }
      ]
    },
    {
      "cell_type": "code",
      "source": [
        "a, b = input().split(\" \")\n",
        "\n",
        "c = float(a) * float(b)\n",
        "print(c)"
      ],
      "metadata": {
        "colab": {
          "base_uri": "https://localhost:8080/"
        },
        "id": "LMluuxoyRLZX",
        "outputId": "5a1a72b1-8104-43ac-8b5a-5d62ed380bc4"
      },
      "execution_count": null,
      "outputs": [
        {
          "output_type": "stream",
          "name": "stdout",
          "text": [
            "0.5 2.0\n",
            "1.0\n"
          ]
        }
      ]
    },
    {
      "cell_type": "code",
      "source": [
        "string, num = input().split(\" \")\n",
        "print(string*int(num))"
      ],
      "metadata": {
        "colab": {
          "base_uri": "https://localhost:8080/"
        },
        "id": "fWINjA-YRhhH",
        "outputId": "1b2cecac-d25c-4e41-cad2-b2020eb4bbb2"
      },
      "execution_count": null,
      "outputs": [
        {
          "output_type": "stream",
          "name": "stdout",
          "text": [
            "love 3\n",
            "lovelovelove\n"
          ]
        }
      ]
    },
    {
      "cell_type": "code",
      "source": [
        "num = int(input())\n",
        "string = input()\n",
        "\n",
        "print(string * num)"
      ],
      "metadata": {
        "colab": {
          "base_uri": "https://localhost:8080/"
        },
        "id": "uheDb9PgR20f",
        "outputId": "2d7204c1-1af7-44c6-8b72-fbf0e34607a9"
      },
      "execution_count": null,
      "outputs": [
        {
          "output_type": "stream",
          "name": "stdout",
          "text": [
            "3\n",
            "I love CS\n",
            "I love CSI love CSI love CS\n"
          ]
        }
      ]
    },
    {
      "cell_type": "code",
      "source": [
        "a, b = input().split(\" \")\n",
        "print(int(a)**int(b))"
      ],
      "metadata": {
        "colab": {
          "base_uri": "https://localhost:8080/"
        },
        "id": "xsKdEB_2SK3F",
        "outputId": "597aa073-951b-4fed-bad5-d4b7becea059"
      },
      "execution_count": null,
      "outputs": [
        {
          "output_type": "stream",
          "name": "stdout",
          "text": [
            "2 10\n",
            "1024\n"
          ]
        }
      ]
    },
    {
      "cell_type": "code",
      "source": [
        "a, b = input().split(\" \")\n",
        "print(float(a)**float(b))"
      ],
      "metadata": {
        "colab": {
          "base_uri": "https://localhost:8080/"
        },
        "id": "swcTh2iFS4oL",
        "outputId": "ac9636e6-03de-4e06-e49b-41c5ed80d010"
      },
      "execution_count": null,
      "outputs": [
        {
          "output_type": "stream",
          "name": "stdout",
          "text": [
            "4.0 2.0\n",
            "16.0\n"
          ]
        }
      ]
    },
    {
      "cell_type": "code",
      "source": [
        "a, b = input().split(\" \")\n",
        "print(int(a) // int(b))"
      ],
      "metadata": {
        "colab": {
          "base_uri": "https://localhost:8080/"
        },
        "id": "dFEz6ia1S_tQ",
        "outputId": "35aec3b5-bac1-427c-b5e7-09752b4fd4f9"
      },
      "execution_count": null,
      "outputs": [
        {
          "output_type": "stream",
          "name": "stdout",
          "text": [
            "10 2\n",
            "5\n"
          ]
        }
      ]
    },
    {
      "cell_type": "markdown",
      "source": [
        "# 6041~6050"
      ],
      "metadata": {
        "id": "Bn7yDQpYTi7-"
      }
    },
    {
      "cell_type": "code",
      "source": [
        "a, b = input().split(\" \")\n",
        "print(int(a) % int(b))"
      ],
      "metadata": {
        "colab": {
          "base_uri": "https://localhost:8080/"
        },
        "id": "ZPPPK0OLTMim",
        "outputId": "768e0d86-40a4-4741-f7d1-e084ecf5b34f"
      },
      "execution_count": null,
      "outputs": [
        {
          "output_type": "stream",
          "name": "stdout",
          "text": [
            "10 2\n",
            "0\n"
          ]
        }
      ]
    },
    {
      "cell_type": "markdown",
      "source": [
        "6042 : [기초-값변환] 실수 1개 입력받아 소숫점이하 자리 변환하기(설명)(py)"
      ],
      "metadata": {
        "id": "vfr5bJdlTfWm"
      }
    },
    {
      "cell_type": "markdown",
      "source": [
        "format(수, \".2f\")"
      ],
      "metadata": {
        "id": "t0eC4mF2TnGh"
      }
    },
    {
      "cell_type": "code",
      "source": [
        "a = float(input())\n",
        "print(format(a, \".2f\"))"
      ],
      "metadata": {
        "colab": {
          "base_uri": "https://localhost:8080/"
        },
        "id": "M1-fES5gTYCy",
        "outputId": "05b6d80d-2e58-48af-d886-f3b793c59509"
      },
      "execution_count": null,
      "outputs": [
        {
          "output_type": "stream",
          "name": "stdout",
          "text": [
            "3.141592\n",
            "3.14\n"
          ]
        }
      ]
    },
    {
      "cell_type": "code",
      "source": [
        "a, b = input().split(\" \")\n",
        "print(format(float(a) / float(b), \".3f\"))"
      ],
      "metadata": {
        "id": "bmjRdgQaT6YJ",
        "colab": {
          "base_uri": "https://localhost:8080/"
        },
        "outputId": "7dd60c24-5b09-439a-ab7f-e421a390ec6f"
      },
      "execution_count": null,
      "outputs": [
        {
          "output_type": "stream",
          "name": "stdout",
          "text": [
            "10.0 3.0\n",
            "3.333\n"
          ]
        }
      ]
    },
    {
      "cell_type": "code",
      "source": [
        "a, b = input().split(\" \")\n",
        "a, b = int(a), int(b)\n",
        "\n",
        "print(a+b, a-b, a*b, a//b, a%b, format(float(a)/float(b), \".2f\"), sep = \"\\n\")"
      ],
      "metadata": {
        "colab": {
          "base_uri": "https://localhost:8080/"
        },
        "id": "mgrl1GBbUpbb",
        "outputId": "edc6a6ba-9e7a-4923-a01c-82d238866a77"
      },
      "execution_count": null,
      "outputs": [
        {
          "output_type": "stream",
          "name": "stdout",
          "text": [
            "10 3\n",
            "13\n",
            "7\n",
            "30\n",
            "3\n",
            "1\n",
            "3.33\n"
          ]
        }
      ]
    },
    {
      "cell_type": "code",
      "source": [
        "a,b,c = input().split(\" \")\n",
        "\n",
        "print(int(a) + int(b) + int(c), format((float(a) + float(b) + float(c)) / 3, \".2f\"))"
      ],
      "metadata": {
        "colab": {
          "base_uri": "https://localhost:8080/"
        },
        "id": "VEveY_efVmp5",
        "outputId": "fd42ddb5-e7dc-443d-a70f-a085ada81a1f"
      },
      "execution_count": null,
      "outputs": [
        {
          "output_type": "stream",
          "name": "stdout",
          "text": [
            "1 2 3\n",
            "6 2.00\n"
          ]
        }
      ]
    },
    {
      "cell_type": "markdown",
      "source": [
        "6046 : [기초-비트시프트연산] 정수 1개 입력받아 2배 곱해 출력하기(설명)(py)"
      ],
      "metadata": {
        "id": "i1Vf9ZozW3Vx"
      }
    },
    {
      "cell_type": "markdown",
      "source": [
        "예시\n",
        "n = 10\n",
        "print(n<<1)  #10을 2배 한 값인 20 이 출력된다.\n",
        "print(n>>1)  #10을 반으로 나눈 값인 5 가 출력된다.\n",
        "print(n<<2)  #10을 4배 한 값인 40 이 출력된다.\n",
        "print(n>>2)  #10을 반으로 나눈 후 다시 반으로 나눈 값인 2 가 출력된다."
      ],
      "metadata": {
        "id": "guRwzg94a2ki"
      }
    },
    {
      "cell_type": "code",
      "source": [
        "a = int(input())\n",
        "\n",
        "print(a<<1)"
      ],
      "metadata": {
        "colab": {
          "base_uri": "https://localhost:8080/"
        },
        "id": "ThZteYHFWv-Y",
        "outputId": "63bf574b-de28-4512-91bc-66c59888a5e0"
      },
      "execution_count": null,
      "outputs": [
        {
          "output_type": "stream",
          "name": "stdout",
          "text": [
            "1024\n",
            "2048\n"
          ]
        }
      ]
    },
    {
      "cell_type": "code",
      "source": [
        "a, b = input().split(\" \")\n",
        "a, b = int(a), int(b)\n",
        "\n",
        "print(a<<b)"
      ],
      "metadata": {
        "colab": {
          "base_uri": "https://localhost:8080/"
        },
        "id": "MtpxxUvNa740",
        "outputId": "73b60632-66cc-417a-c97d-cf135dc4e64f"
      },
      "execution_count": null,
      "outputs": [
        {
          "output_type": "stream",
          "name": "stdout",
          "text": [
            "1 3\n",
            "8\n"
          ]
        }
      ]
    },
    {
      "cell_type": "code",
      "source": [
        "a, b = input().split(\" \")\n",
        "a, b = int(a), int(b)\n",
        "\n",
        "print(a < b)"
      ],
      "metadata": {
        "colab": {
          "base_uri": "https://localhost:8080/"
        },
        "id": "FROym5LfbWRx",
        "outputId": "6a7b1300-d7fb-4a74-ad89-0be61f1bb40c"
      },
      "execution_count": null,
      "outputs": [
        {
          "output_type": "stream",
          "name": "stdout",
          "text": [
            "1 9\n",
            "True\n"
          ]
        }
      ]
    },
    {
      "cell_type": "code",
      "source": [
        "a, b = input().split(\" \")\n",
        "a, b = int(a), int(b)\n",
        "\n",
        "print(a == b)"
      ],
      "metadata": {
        "colab": {
          "base_uri": "https://localhost:8080/"
        },
        "id": "lsUMtFQcbpGO",
        "outputId": "f2a91d02-d1b6-4213-97cd-4e79f398565a"
      },
      "execution_count": null,
      "outputs": [
        {
          "output_type": "stream",
          "name": "stdout",
          "text": [
            "0 0\n",
            "True\n"
          ]
        }
      ]
    },
    {
      "cell_type": "code",
      "source": [
        "a, b = input().split(\" \")\n",
        "a, b = int(a), int(b)\n",
        "\n",
        "print(a <= b)"
      ],
      "metadata": {
        "colab": {
          "base_uri": "https://localhost:8080/"
        },
        "id": "mpsAiX2ub04R",
        "outputId": "924ea867-ffea-41d0-b789-f2d3f11860bf"
      },
      "execution_count": null,
      "outputs": [
        {
          "output_type": "stream",
          "name": "stdout",
          "text": [
            "0 -1\n",
            "False\n"
          ]
        }
      ]
    },
    {
      "cell_type": "markdown",
      "source": [
        "#6051~6060"
      ],
      "metadata": {
        "id": "Qr6lH4pGcAI5"
      }
    },
    {
      "cell_type": "code",
      "source": [
        "a, b = input().split(\" \")\n",
        "a, b = int(a), int(b)\n",
        "\n",
        "print(a != b)"
      ],
      "metadata": {
        "colab": {
          "base_uri": "https://localhost:8080/"
        },
        "id": "M63_DBMOcDHN",
        "outputId": "1864f3ed-bd0d-49d0-834c-03568a1550f9"
      },
      "execution_count": null,
      "outputs": [
        {
          "output_type": "stream",
          "name": "stdout",
          "text": [
            "0 1\n",
            "True\n"
          ]
        }
      ]
    },
    {
      "cell_type": "markdown",
      "source": [
        "6052 : [기초-논리연산] 정수 입력받아 참 거짓 평가하기(설명)(py)"
      ],
      "metadata": {
        "id": "gcj6rUD0cVor"
      }
    },
    {
      "cell_type": "markdown",
      "source": [
        "bool( ) 을 이용하면 입력된 식이나 값을 평가해 불 형의 값(True 또는 False)을 출력해준다.\n",
        "식이나 값을 계산해서 결과값이 만들어지는 것을 평가(evaluate)라고 한다. \n",
        "\n",
        "python 언어에서 정수값 0은 False(거짓)로 평가되고, 그 외의 값들은 모두 True(참)로 평가된다."
      ],
      "metadata": {
        "id": "4pGBeCDbcUuN"
      }
    },
    {
      "cell_type": "code",
      "source": [
        "a = int(input())\n",
        "\n",
        "print(bool(a))"
      ],
      "metadata": {
        "colab": {
          "base_uri": "https://localhost:8080/"
        },
        "id": "mDR1vi5jcODL",
        "outputId": "19a5fa33-e870-4ea0-f89d-e97b0f63930a"
      },
      "execution_count": null,
      "outputs": [
        {
          "output_type": "stream",
          "name": "stdout",
          "text": [
            "0\n",
            "False\n"
          ]
        }
      ]
    },
    {
      "cell_type": "code",
      "source": [
        "a = int(input())\n",
        "\n",
        "print(not(bool(a)))"
      ],
      "metadata": {
        "colab": {
          "base_uri": "https://localhost:8080/"
        },
        "id": "Ykf2EMV2e_8y",
        "outputId": "ea9e862a-deba-4a7e-c775-ce89910bcc1f"
      },
      "execution_count": null,
      "outputs": [
        {
          "output_type": "stream",
          "name": "stdout",
          "text": [
            "1\n",
            "False\n"
          ]
        }
      ]
    },
    {
      "cell_type": "code",
      "source": [
        "a, b = input().split(\" \")\n",
        "print(bool(int(a)) and bool(int(b)))"
      ],
      "metadata": {
        "colab": {
          "base_uri": "https://localhost:8080/"
        },
        "id": "YZDEGf8FfSyc",
        "outputId": "463155ad-5691-4d56-b03b-d1d3142bbcc0"
      },
      "execution_count": null,
      "outputs": [
        {
          "output_type": "stream",
          "name": "stdout",
          "text": [
            "1 1\n",
            "True\n"
          ]
        }
      ]
    },
    {
      "cell_type": "code",
      "source": [
        "a, b = input().split(\" \")\n",
        "print(bool(int(a)) or bool(int(b)))"
      ],
      "metadata": {
        "colab": {
          "base_uri": "https://localhost:8080/"
        },
        "id": "Y9eS1h3BghJo",
        "outputId": "c7c7be94-716e-475e-9f94-28f535acf603"
      },
      "execution_count": null,
      "outputs": [
        {
          "output_type": "stream",
          "name": "stdout",
          "text": [
            "1 1\n",
            "True\n"
          ]
        }
      ]
    },
    {
      "cell_type": "code",
      "source": [
        "a, b = input().split(\" \")\n",
        "print(bool(int(a)) and not(bool(int(b))) or not(bool(int(a))) and bool(int(b)))"
      ],
      "metadata": {
        "colab": {
          "base_uri": "https://localhost:8080/"
        },
        "id": "1dVF4OpXgqgb",
        "outputId": "90b5887d-7a03-40bf-b9f6-57032375366f"
      },
      "execution_count": null,
      "outputs": [
        {
          "output_type": "stream",
          "name": "stdout",
          "text": [
            "1 1\n",
            "False\n"
          ]
        }
      ]
    },
    {
      "cell_type": "code",
      "source": [
        "a, b = input().split(\" \")\n",
        "a, b = int(a), int(b)\n",
        "print(bool(a) and bool(b) or not(bool(a)) and not(bool(b)))"
      ],
      "metadata": {
        "colab": {
          "base_uri": "https://localhost:8080/"
        },
        "id": "ZDS3qJjbheWy",
        "outputId": "4c8acc5a-5e56-4169-d723-e239f8295533"
      },
      "execution_count": null,
      "outputs": [
        {
          "output_type": "stream",
          "name": "stdout",
          "text": [
            "0 0\n",
            "True\n"
          ]
        }
      ]
    },
    {
      "cell_type": "code",
      "source": [
        "a, b = input().split(\" \")\n",
        "a, b = int(a), int(b)\n",
        "print(not(bool(a) or bool(b)))"
      ],
      "metadata": {
        "colab": {
          "base_uri": "https://localhost:8080/"
        },
        "id": "uJ1XVS9RjhLG",
        "outputId": "48888679-e167-43c2-dbf3-e2aacceee614"
      },
      "execution_count": null,
      "outputs": [
        {
          "output_type": "stream",
          "name": "stdout",
          "text": [
            "0 0\n",
            "True\n"
          ]
        }
      ]
    },
    {
      "cell_type": "markdown",
      "source": [
        "6059 : [기초-비트단위논리연산] 비트단위로 NOT 하여 출력하기(설명)(py)"
      ],
      "metadata": {
        "id": "x7nw_OlvlfKq"
      }
    },
    {
      "cell_type": "markdown",
      "source": [
        "입력 된 정수를 비트단위로 참/거짓을 바꾼 후 정수로 출력해보자.\n",
        "비트단위(bitwise)연산자 ~ 를 붙이면 된다.(~ : tilde, 틸드라고 읽는다.)\n",
        "\n",
        "** 비트단위(bitwise) 연산자는,\n",
        "~(bitwise not), &(bitwise and), |(bitwise or), ^(bitwise xor),\n",
        "<<(bitwise left shift), >>(bitwise right shift)\n",
        "가 있다.\n",
        "\n",
        "예를 들어 1이 입력되었을 때 저장되는 1을 32비트 2진수로 표현하면\n",
        "        00000000 00000000 00000000 00000001 이고,\n",
        "~1은 11111111 11111111 11111111 11111110 가 되는데 이는 -2를 의미한다.\n",
        "\n",
        "예시\n",
        "a = 1\n",
        "print(~a) #-2가 출력된다."
      ],
      "metadata": {
        "id": "duki63QklsjM"
      }
    },
    {
      "cell_type": "code",
      "source": [
        "a = int(input())\n",
        "print(~a)"
      ],
      "metadata": {
        "colab": {
          "base_uri": "https://localhost:8080/"
        },
        "id": "IW01tA8mkcO8",
        "outputId": "b17090ae-8ed5-4b67-b51a-d35e60267934"
      },
      "execution_count": null,
      "outputs": [
        {
          "output_type": "stream",
          "name": "stdout",
          "text": [
            "2\n",
            "-3\n"
          ]
        }
      ]
    },
    {
      "cell_type": "markdown",
      "source": [
        "\n",
        "6060 : [기초-비트단위논리연산] 비트단위로 AND 하여 출력하기(설명)(py)"
      ],
      "metadata": {
        "id": "vwoCCKssn8bT"
      }
    },
    {
      "cell_type": "markdown",
      "source": [
        "이 연산을 이용하면 어떤 비트열의 특정 부분만 모두 0으로도 만들 수 있는데\n",
        "192.168.0.31   : 11000000.10101000.00000000.00011111\n",
        "255.255.255.0 : 11111111.11111111.11111111.00000000\n",
        "\n",
        "두 개의 ip 주소를 & 연산하면\n",
        "192.168.0.0 :     110000000.10101000.0000000.00000000 을 계산할 수 있다.\n",
        "\n",
        "실제로 이 계산은 네트워크에 연결되어 있는 두 개의 컴퓨터가 데이터를 주고받기 위해\n",
        "같은 네트워크에 있는지 아닌지를 판단하는데 사용된다."
      ],
      "metadata": {
        "id": "EnQzD9Xdn9G6"
      }
    },
    {
      "cell_type": "code",
      "source": [
        "a, b = input().split(\" \")\n",
        "a, b = int(a), int(b)\n",
        "\n",
        "print(a&b)"
      ],
      "metadata": {
        "colab": {
          "base_uri": "https://localhost:8080/"
        },
        "id": "VctsXQnanXfB",
        "outputId": "a46126e3-7377-4b79-fd9f-e2f516fba964"
      },
      "execution_count": null,
      "outputs": [
        {
          "output_type": "stream",
          "name": "stdout",
          "text": [
            "3 5\n",
            "1\n"
          ]
        }
      ]
    },
    {
      "cell_type": "markdown",
      "source": [
        "#6061~6070"
      ],
      "metadata": {
        "id": "TbnrU2ecoS1x"
      }
    },
    {
      "cell_type": "markdown",
      "source": [
        "6061 : [기초-비트단위논리연산] 비트단위로 OR 하여 출력하기(설명)(py)"
      ],
      "metadata": {
        "id": "ACXVXMu4oSGv"
      }
    },
    {
      "cell_type": "markdown",
      "source": [
        "| 은 파이프(pipe)연산자라고도 불리는 경우가 있다 / or 연산"
      ],
      "metadata": {
        "id": "LFy8oPTwoXoV"
      }
    },
    {
      "cell_type": "code",
      "source": [
        "a, b = input().split(\" \")\n",
        "a, b = int(a), int(b)\n",
        "\n",
        "print(a | b)"
      ],
      "metadata": {
        "colab": {
          "base_uri": "https://localhost:8080/"
        },
        "id": "NSV0-3x1oPHm",
        "outputId": "db8d7f92-95ee-406c-9f9d-d191cf323066"
      },
      "execution_count": null,
      "outputs": [
        {
          "output_type": "stream",
          "name": "stdout",
          "text": [
            "3 5\n",
            "7\n"
          ]
        }
      ]
    },
    {
      "cell_type": "markdown",
      "source": [
        "6062 : [기초-비트단위논리연산] 비트단위로 XOR 하여 출력하기(설명)(py)"
      ],
      "metadata": {
        "id": "D7GWBl0OohRC"
      }
    },
    {
      "cell_type": "markdown",
      "source": [
        "비트단위(bitwise) 연산자 ^(xor, circumflex/caret, 서컴플렉스/카릿)를 사용하면 된다."
      ],
      "metadata": {
        "id": "s07kg9-3oiu-"
      }
    },
    {
      "cell_type": "markdown",
      "source": [
        "두 장의 이미지가 겹쳐졌을 때 색이 서로 다른 부분만 처리할 수 있다.\n",
        "배경이 되는 그림과 배경 위에서 움직이는 그림이 있을 때,\n",
        "두 그림에서 차이만 골라내 배경 위에서 움직이는 그림의 색으로 바꿔주면\n",
        "전체 그림을 구성하는 모든 점들의 색을 다시 계산해 입히지 않고\n",
        "보다 효과적으로 그림을 처리할 수 있게 되는 것"
      ],
      "metadata": {
        "id": "GvYRPfqAo0mF"
      }
    },
    {
      "cell_type": "code",
      "source": [
        "a, b = input().split(\" \")\n",
        "a, b = int(a), int(b)\n",
        "\n",
        "print(a ^ b)"
      ],
      "metadata": {
        "colab": {
          "base_uri": "https://localhost:8080/"
        },
        "id": "cBhbBNwdoiG0",
        "outputId": "6d99cbcd-2776-44ab-f7ad-b035e01efb8a"
      },
      "execution_count": null,
      "outputs": [
        {
          "output_type": "stream",
          "name": "stdout",
          "text": [
            "3 5\n",
            "6\n"
          ]
        }
      ]
    },
    {
      "cell_type": "markdown",
      "source": [
        "6063 : [기초-3항연산] 정수 2개 입력받아 큰 값 출력하기(설명)(py)"
      ],
      "metadata": {
        "id": "ITXIFqlIpXJr"
      }
    },
    {
      "cell_type": "markdown",
      "source": [
        "3개의 요소로 이루어지는 3항 연산은\n",
        "\"x if C else y\" 의 형태로 작성이 된다.\n",
        "- C : True 또는 False 를 평가할 조건식(conditional expression) 또는 값\n",
        "- x : C의 평가 결과가 True 일 때 사용할 값\n",
        "- y : C의 평가 결과가 True 가 아닐 때 사용할 값"
      ],
      "metadata": {
        "id": "Rqf_tVG2pbEI"
      }
    },
    {
      "cell_type": "code",
      "source": [
        "a, b = input().split(\" \")\n",
        "a = int(a)\n",
        "b = int(b)\n",
        "print(a if (a >= b) else b)"
      ],
      "metadata": {
        "colab": {
          "base_uri": "https://localhost:8080/"
        },
        "id": "MTN91mOwo-L4",
        "outputId": "ccb3538b-5e4c-4f8a-9281-b329a853f982"
      },
      "execution_count": null,
      "outputs": [
        {
          "output_type": "stream",
          "name": "stdout",
          "text": [
            "123 456\n",
            "456\n"
          ]
        }
      ]
    },
    {
      "cell_type": "markdown",
      "source": [
        "6064 : [기초-3항연산] 정수 3개 입력받아 가장 작은 값 출력하기(설명)(py)"
      ],
      "metadata": {
        "id": "VfiSEwJ56per"
      }
    },
    {
      "cell_type": "code",
      "source": [
        "a, b, c = input().split(\" \")\n",
        "a, b, c = int(a), int(b), int(c)\n",
        "\n",
        "print((a if a < b else b) if ((a if a < b else b) < c) else c)\n",
        "# 식 차근차근 이해하면 됨. (a,b중 작은거) 만약 (a,b중 작은거 < c)"
      ],
      "metadata": {
        "colab": {
          "base_uri": "https://localhost:8080/"
        },
        "id": "uw0Ti8qG52Ol",
        "outputId": "fea16e1a-acf7-4bc6-feaf-3aa3ad7ebaf5"
      },
      "execution_count": 1,
      "outputs": [
        {
          "output_type": "stream",
          "name": "stdout",
          "text": [
            "3 -1 5\n",
            "-1\n"
          ]
        }
      ]
    },
    {
      "cell_type": "code",
      "source": [
        "a, b, c = input().split(\" \")\n",
        "\n",
        "a, b, c = int(a), int(b), int(c)\n",
        "\n",
        "for i in (a, b, c):\n",
        "  if i % 2 == 0:\n",
        "    print(i)"
      ],
      "metadata": {
        "colab": {
          "base_uri": "https://localhost:8080/"
        },
        "id": "byD0_wly86ub",
        "outputId": "c4a62314-4a8b-4b73-d277-0c36340e7b92"
      },
      "execution_count": 4,
      "outputs": [
        {
          "output_type": "stream",
          "name": "stdout",
          "text": [
            "1 2 4\n",
            "2\n",
            "4\n"
          ]
        }
      ]
    },
    {
      "cell_type": "code",
      "source": [
        "a, b, c = input().split(\" \")\n",
        "a, b, c = int(a), int(b), int(c)\n",
        "\n",
        "for i in (a, b, c):\n",
        "  if i % 2 == 0:\n",
        "    print(\"even\")\n",
        "  else:\n",
        "    print(\"odd\")"
      ],
      "metadata": {
        "colab": {
          "base_uri": "https://localhost:8080/"
        },
        "id": "VktyW9E5_iKu",
        "outputId": "e967fe15-3447-44bc-d0c0-dd950b6c1ad3"
      },
      "execution_count": 5,
      "outputs": [
        {
          "output_type": "stream",
          "name": "stdout",
          "text": [
            "1 2 8\n",
            "odd\n",
            "even\n",
            "even\n"
          ]
        }
      ]
    },
    {
      "cell_type": "code",
      "source": [
        "a = int(input())\n",
        "\n",
        "if a < 0:\n",
        "  if a % 2 == 0:\n",
        "    print(\"A\")\n",
        "  else:\n",
        "    print(\"B\") \n",
        "\n",
        "else:\n",
        "  if a % 2 == 0:\n",
        "    print(\"C\")\n",
        "  else:\n",
        "    print(\"D\")\n"
      ],
      "metadata": {
        "colab": {
          "base_uri": "https://localhost:8080/"
        },
        "id": "0EEiZySvAUsL",
        "outputId": "94533667-4e8f-40f2-e034-3be67b723e7b"
      },
      "execution_count": 6,
      "outputs": [
        {
          "output_type": "stream",
          "name": "stdout",
          "text": [
            "-2147483648\n",
            "A\n"
          ]
        }
      ]
    },
    {
      "cell_type": "markdown",
      "source": [
        "6068 : [기초-조건/선택실행구조] 점수 입력받아 평가 출력하기(설명)(py)"
      ],
      "metadata": {
        "id": "0-DnvmPEBbig"
      }
    },
    {
      "cell_type": "markdown",
      "source": [
        "예시\n",
        "...\n",
        "if n>=90 :\n",
        "  print('A')\n",
        "else :\n",
        "  if n>=70 :\n",
        "    print('B')\n",
        "  else :\n",
        "    if n>=40 :\n",
        "      print('C')\n",
        "    else :\n",
        "      print('D') "
      ],
      "metadata": {
        "id": "tJItj-TNBZXL"
      }
    },
    {
      "cell_type": "code",
      "source": [
        "a = int(input())\n",
        "\n",
        "if a >= 90:\n",
        "  print(\"A\")\n",
        "elif a >= 70:\n",
        "  print(\"B\")\n",
        "elif a >= 40:\n",
        "  print(\"C\")\n",
        "else:\n",
        "  print(\"D\")"
      ],
      "metadata": {
        "colab": {
          "base_uri": "https://localhost:8080/"
        },
        "id": "Yd9bQgy0BNbI",
        "outputId": "2fdf5abe-413c-494b-e580-a6d0f78190c8"
      },
      "execution_count": 7,
      "outputs": [
        {
          "output_type": "stream",
          "name": "stdout",
          "text": [
            "38\n",
            "D\n"
          ]
        }
      ]
    },
    {
      "cell_type": "code",
      "source": [
        "a = input()\n",
        "\n",
        "if a == \"A\":\n",
        "  print(\"best!!!\")\n",
        "elif a == \"B\":\n",
        "  print(\"good!!\")\n",
        "elif a == \"C\":\n",
        "  print(\"run!\")\n",
        "elif a == \"D\":\n",
        "  print(\"slowly~\")\n",
        "else:\n",
        "  print(\"what?\")"
      ],
      "metadata": {
        "colab": {
          "base_uri": "https://localhost:8080/"
        },
        "id": "29k_1W9DCHbf",
        "outputId": "64f32996-2cfb-44b1-f555-f047e477861d"
      },
      "execution_count": 8,
      "outputs": [
        {
          "output_type": "stream",
          "name": "stdout",
          "text": [
            "F\n",
            "what?\n"
          ]
        }
      ]
    },
    {
      "cell_type": "code",
      "source": [
        "a = int(input())\n",
        "\n",
        "if a // 3 == 1:\n",
        "  print(\"spring\")\n",
        "elif a // 3 == 2:\n",
        "  print(\"summer\")\n",
        "elif a // 3 == 3:\n",
        "  print(\"fall\")\n",
        "else:\n",
        "  print(\"winter\")"
      ],
      "metadata": {
        "colab": {
          "base_uri": "https://localhost:8080/"
        },
        "id": "2C3HokF6HaS-",
        "outputId": "9e9b487b-356d-4959-c9b9-41bb75fc1561"
      },
      "execution_count": 9,
      "outputs": [
        {
          "output_type": "stream",
          "name": "stdout",
          "text": [
            "12\n",
            "winter\n"
          ]
        }
      ]
    },
    {
      "cell_type": "markdown",
      "source": [
        "#6071~6080"
      ],
      "metadata": {
        "id": "20QlYLD0IITW"
      }
    },
    {
      "cell_type": "code",
      "source": [
        "n = 1\n",
        "\n",
        "while n != 0:\n",
        "  n = int(input())\n",
        "  \n",
        "  if n != 0:\n",
        "    print(n)"
      ],
      "metadata": {
        "colab": {
          "base_uri": "https://localhost:8080/"
        },
        "id": "2O1Jn9LBIKoz",
        "outputId": "42909240-67bf-4ffb-8b4b-1b1969397622"
      },
      "execution_count": 12,
      "outputs": [
        {
          "name": "stdout",
          "output_type": "stream",
          "text": [
            "7\n",
            "7\n",
            "4\n",
            "4\n",
            "0\n"
          ]
        }
      ]
    },
    {
      "cell_type": "code",
      "source": [
        "n = int(input())\n",
        "\n",
        "while n > 0:\n",
        "  print(n)\n",
        "  n -= 1"
      ],
      "metadata": {
        "colab": {
          "base_uri": "https://localhost:8080/"
        },
        "id": "kR5q3PBHIpZQ",
        "outputId": "ed94df22-20d8-43c5-f962-de50bdc789fb"
      },
      "execution_count": 13,
      "outputs": [
        {
          "output_type": "stream",
          "name": "stdout",
          "text": [
            "5\n",
            "5\n",
            "4\n",
            "3\n",
            "2\n",
            "1\n"
          ]
        }
      ]
    },
    {
      "cell_type": "code",
      "source": [
        "n = int(input())\n",
        "n -= 1\n",
        "\n",
        "while n >= 0:\n",
        "  print(n)\n",
        "  n -= 1"
      ],
      "metadata": {
        "colab": {
          "base_uri": "https://localhost:8080/"
        },
        "id": "jd70SnhcJv4x",
        "outputId": "3a3e66ad-989a-4bde-aeed-28780cd618fc"
      },
      "execution_count": 14,
      "outputs": [
        {
          "output_type": "stream",
          "name": "stdout",
          "text": [
            "5\n",
            "4\n",
            "3\n",
            "2\n",
            "1\n",
            "0\n"
          ]
        }
      ]
    },
    {
      "cell_type": "markdown",
      "source": [
        "6074 : [기초-반복실행구조] 문자 1개 입력받아 알파벳 출력하기(설명)(py)"
      ],
      "metadata": {
        "id": "SbDdYFlLLXcs"
      }
    },
    {
      "cell_type": "markdown",
      "source": [
        "ord(): 문자 -> 아스키 코드값 / chr(): 아스키 코드값 -> 문자"
      ],
      "metadata": {
        "id": "7MHeWVc-LdTF"
      }
    },
    {
      "cell_type": "code",
      "source": [
        "string = ord(input())\n",
        "a = ord(\"a\")\n",
        "\n",
        "while a <= string:\n",
        "  print(chr(a))\n",
        "  a += 1"
      ],
      "metadata": {
        "colab": {
          "base_uri": "https://localhost:8080/"
        },
        "id": "MSsbtvVRKgEK",
        "outputId": "e1119ed7-a8d9-4c78-8f04-a2ad071ff0fd"
      },
      "execution_count": 15,
      "outputs": [
        {
          "output_type": "stream",
          "name": "stdout",
          "text": [
            "f\n",
            "a\n",
            "b\n",
            "c\n",
            "d\n",
            "e\n",
            "f\n"
          ]
        }
      ]
    },
    {
      "cell_type": "code",
      "source": [
        "num = int(input())\n",
        "zero = 0\n",
        "\n",
        "while zero <= num:\n",
        "  print(zero)\n",
        "  zero += 1"
      ],
      "metadata": {
        "colab": {
          "base_uri": "https://localhost:8080/"
        },
        "id": "rAZyY3rwMPe1",
        "outputId": "944907ec-db2c-4a42-b5c7-e7cc81732e11"
      },
      "execution_count": 16,
      "outputs": [
        {
          "output_type": "stream",
          "name": "stdout",
          "text": [
            "4\n",
            "0\n",
            "1\n",
            "2\n",
            "3\n",
            "4\n"
          ]
        }
      ]
    },
    {
      "cell_type": "markdown",
      "source": [
        "6076 : [기초-반복실행구조] 정수 1개 입력받아 그 수까지 출력하기2(설명)(py)"
      ],
      "metadata": {
        "id": "iU1N97NQMoiw"
      }
    },
    {
      "cell_type": "markdown",
      "source": [
        "range(끝)\n",
        "range(시작, 끝)\n",
        "range(시작, 끝, 증감)"
      ],
      "metadata": {
        "id": "Uw3rxmxnMoFW"
      }
    },
    {
      "cell_type": "code",
      "source": [
        "num = int(input())\n",
        "\n",
        "for i in range(num + 1):\n",
        "  print(i)"
      ],
      "metadata": {
        "colab": {
          "base_uri": "https://localhost:8080/"
        },
        "id": "QFUaXWrWMcya",
        "outputId": "f4d9d443-5e7a-4a10-9a6d-ac22eb0caa74"
      },
      "execution_count": 17,
      "outputs": [
        {
          "output_type": "stream",
          "name": "stdout",
          "text": [
            "4\n",
            "0\n",
            "1\n",
            "2\n",
            "3\n",
            "4\n"
          ]
        }
      ]
    },
    {
      "cell_type": "code",
      "source": [
        "num = int(input())\n",
        "\n",
        "a = 1\n",
        "sum = 0\n",
        "\n",
        "while a <= num:\n",
        "  if a % 2 == 0:\n",
        "    sum += a\n",
        "  a += 1\n",
        "\n",
        "print(sum)"
      ],
      "metadata": {
        "colab": {
          "base_uri": "https://localhost:8080/"
        },
        "id": "jEzbT8zzRQRY",
        "outputId": "3c1b3e30-aeda-4c6a-a371-a7503c848c7d"
      },
      "execution_count": 19,
      "outputs": [
        {
          "output_type": "stream",
          "name": "stdout",
          "text": [
            "5\n",
            "6\n"
          ]
        }
      ]
    },
    {
      "cell_type": "code",
      "source": [
        "a = \"a\"\n",
        "\n",
        "while a != \"q\":\n",
        "  a = input()\n",
        "  print(a)"
      ],
      "metadata": {
        "colab": {
          "base_uri": "https://localhost:8080/"
        },
        "id": "mXqqOT37R7OE",
        "outputId": "58331992-27b9-4840-da47-ccc29b2c1b0a"
      },
      "execution_count": 22,
      "outputs": [
        {
          "name": "stdout",
          "output_type": "stream",
          "text": [
            "q\n"
          ]
        }
      ]
    },
    {
      "cell_type": "code",
      "source": [
        "n = int(input())\n",
        "sum = 0\n",
        "i = 1\n",
        "\n",
        "while sum < n:\n",
        "  sum += i\n",
        "  i += 1\n",
        "\n",
        "print(i-1)"
      ],
      "metadata": {
        "colab": {
          "base_uri": "https://localhost:8080/"
        },
        "id": "Mge4Z3W_S24H",
        "outputId": "f828e3bf-9849-4f7e-f2b4-e106d03d006b"
      },
      "execution_count": 28,
      "outputs": [
        {
          "output_type": "stream",
          "name": "stdout",
          "text": [
            "55\n",
            "10\n"
          ]
        }
      ]
    },
    {
      "cell_type": "code",
      "source": [
        "a, b = input().split(\" \")\n",
        "a, b = int(a), int(b)\n",
        "\n",
        "for i in range(a):\n",
        "  for j in range(b):\n",
        "    print(i+1, j+1)"
      ],
      "metadata": {
        "colab": {
          "base_uri": "https://localhost:8080/"
        },
        "id": "oKJTLkUXXXff",
        "outputId": "089e8d44-e2de-496e-8a4d-e71139bf2919"
      },
      "execution_count": 29,
      "outputs": [
        {
          "output_type": "stream",
          "name": "stdout",
          "text": [
            "2 3\n",
            "1 1\n",
            "1 2\n",
            "1 3\n",
            "2 1\n",
            "2 2\n",
            "2 3\n"
          ]
        }
      ]
    },
    {
      "cell_type": "markdown",
      "source": [
        "# 6081~6090"
      ],
      "metadata": {
        "id": "D8TuT-wiYKMU"
      }
    },
    {
      "cell_type": "markdown",
      "source": [
        "6081 : [기초-종합] 16진수 구구단 출력하기(py)"
      ],
      "metadata": {
        "id": "HEbnebFyaf_4"
      }
    },
    {
      "cell_type": "markdown",
      "source": [
        "print('%X'%n)    #n에 저장되어있는 값을 16진수(hexadecimal) 형태로 출력"
      ],
      "metadata": {
        "id": "-jHp2ymjaej0"
      }
    },
    {
      "cell_type": "markdown",
      "source": [
        "int(n, 16): string을 16진수 int로 변환"
      ],
      "metadata": {
        "id": "zSeNRjQ1cnqO"
      }
    },
    {
      "cell_type": "code",
      "source": [
        "num = int(input(), 16)\n",
        "\n",
        "for i in range(1, 16):\n",
        "  print(\"%X\"%num, \"*\", \"%X\"%i, \"=\", \"%X\"%(num * i), sep = \"\")"
      ],
      "metadata": {
        "colab": {
          "base_uri": "https://localhost:8080/"
        },
        "id": "Ib5GOtdCYJg9",
        "outputId": "4c7fc6c2-c35f-47a8-b1af-997b626136e1"
      },
      "execution_count": 40,
      "outputs": [
        {
          "output_type": "stream",
          "name": "stdout",
          "text": [
            "B\n",
            "B*1=B\n",
            "B*2=16\n",
            "B*3=21\n",
            "B*4=2C\n",
            "B*5=37\n",
            "B*6=42\n",
            "B*7=4D\n",
            "B*8=58\n",
            "B*9=63\n",
            "B*A=6E\n",
            "B*B=79\n",
            "B*C=84\n",
            "B*D=8F\n",
            "B*E=9A\n",
            "B*F=A5\n"
          ]
        }
      ]
    },
    {
      "cell_type": "code",
      "source": [
        "n = int(input())\n",
        "\n",
        "for i in range(1, n+1):\n",
        "  if i % 10 == 3:\n",
        "    print(\"X\")\n",
        "  elif i % 10 == 6:\n",
        "    print(\"X\")\n",
        "  elif i % 10 == 9:\n",
        "    print(\"X\")\n",
        "  else:\n",
        "    print(i)\n",
        "\n",
        "# if (i%10==3, or i%10==6, i%10 ==9)라고 표현해도 됨."
      ],
      "metadata": {
        "colab": {
          "base_uri": "https://localhost:8080/"
        },
        "id": "Wjtfx_hDdqm4",
        "outputId": "8fd133ab-876f-4c8e-eb5b-3d55152e2ba4"
      },
      "execution_count": 52,
      "outputs": [
        {
          "output_type": "stream",
          "name": "stdout",
          "text": [
            "29\n",
            "1\n",
            "2\n",
            "X\n",
            "4\n",
            "5\n",
            "X\n",
            "7\n",
            "8\n",
            "X\n",
            "10\n",
            "11\n",
            "12\n",
            "X\n",
            "14\n",
            "15\n",
            "X\n",
            "17\n",
            "18\n",
            "X\n",
            "20\n",
            "21\n",
            "22\n",
            "X\n",
            "24\n",
            "25\n",
            "X\n",
            "27\n",
            "28\n",
            "X\n"
          ]
        }
      ]
    },
    {
      "cell_type": "code",
      "source": [
        "r, g, b = input().split(\" \")\n",
        "r, g, b = int(r), int(g), int(b)\n",
        "\n",
        "count = 0\n",
        "\n",
        "for i in range(r):\n",
        "  for j in range(g):\n",
        "    for k in range(b):\n",
        "      print(i, j, k, sep = \" \")\n",
        "      count += 1\n",
        "\n",
        "print(count)"
      ],
      "metadata": {
        "colab": {
          "base_uri": "https://localhost:8080/"
        },
        "id": "6Klm--WycYcE",
        "outputId": "38630aa7-6898-41cb-cbd2-142a472a5c40"
      },
      "execution_count": 54,
      "outputs": [
        {
          "output_type": "stream",
          "name": "stdout",
          "text": [
            "2 2 2\n",
            "0 0 0\n",
            "0 0 1\n",
            "0 1 0\n",
            "0 1 1\n",
            "1 0 0\n",
            "1 0 1\n",
            "1 1 0\n",
            "1 1 1\n",
            "8\n"
          ]
        }
      ]
    },
    {
      "cell_type": "code",
      "source": [
        "h, b, c, s = input().split(\" \")\n",
        "h, b, c, s = int(h), int(b), int(c), int(s)\n",
        "\n",
        "print(round((h * b * c * s / 8 / 1024 / 1024),1), \"MB\")"
      ],
      "metadata": {
        "colab": {
          "base_uri": "https://localhost:8080/"
        },
        "id": "ikqZCirvlZNz",
        "outputId": "a19a3eaa-23b1-4f83-d649-610b2ea3d036"
      },
      "execution_count": 56,
      "outputs": [
        {
          "output_type": "stream",
          "name": "stdout",
          "text": [
            "44100 16 2 10\n",
            "1.7 MB\n"
          ]
        }
      ]
    },
    {
      "cell_type": "code",
      "source": [
        "w, h, b = input().split(\" \")\n",
        "w, h, b = int(w), int(h), int(b)\n",
        "\n",
        "print(\"%.2f\"%(w * h * b / 8 / 1024 / 1024), \"MB\") # round(n, 2)로 하면 오류나는듯"
      ],
      "metadata": {
        "colab": {
          "base_uri": "https://localhost:8080/"
        },
        "id": "CTLxXnAYnuwV",
        "outputId": "9ea04d76-617d-481d-86d0-f9f860d622d0"
      },
      "execution_count": 58,
      "outputs": [
        {
          "output_type": "stream",
          "name": "stdout",
          "text": [
            "1024 768 24\n",
            "2.25 MB\n"
          ]
        }
      ]
    },
    {
      "cell_type": "code",
      "source": [
        "n = int(input())\n",
        "sum = 0\n",
        "i = 1\n",
        "\n",
        "while sum < n:\n",
        "  sum += i\n",
        "  i += 1\n",
        "\n",
        "print(sum)"
      ],
      "metadata": {
        "colab": {
          "base_uri": "https://localhost:8080/"
        },
        "id": "fPjK2W0eqnm4",
        "outputId": "8e2c3cb1-ab17-4dbd-f71e-a4861cb6801c"
      },
      "execution_count": 59,
      "outputs": [
        {
          "output_type": "stream",
          "name": "stdout",
          "text": [
            "57\n",
            "66\n"
          ]
        }
      ]
    },
    {
      "cell_type": "code",
      "source": [
        "n = int(input())\n",
        "\n",
        "for i in range(1, n+1):\n",
        "  if i % 3 == 0:\n",
        "    continue;\n",
        "  print(i)"
      ],
      "metadata": {
        "colab": {
          "base_uri": "https://localhost:8080/"
        },
        "id": "r_egHbgLrQfd",
        "outputId": "8557af6e-db62-46d7-c0e7-787874d57f5a"
      },
      "execution_count": 60,
      "outputs": [
        {
          "output_type": "stream",
          "name": "stdout",
          "text": [
            "10\n",
            "1\n",
            "2\n",
            "4\n",
            "5\n",
            "7\n",
            "8\n",
            "10\n"
          ]
        }
      ]
    },
    {
      "cell_type": "code",
      "source": [
        "a, d, n = input().split() # split(\" \") 이렇게 하니까, 안되고 비우니까 됨.\n",
        "a, d, n = int(a), int(d), int(n)\n",
        "\n",
        "print(a + (n-1) * d)"
      ],
      "metadata": {
        "colab": {
          "base_uri": "https://localhost:8080/"
        },
        "id": "nFpW-5gmr29B",
        "outputId": "fc7a7398-0b6f-427f-dd85-a7da9e96f1b4"
      },
      "execution_count": 63,
      "outputs": [
        {
          "output_type": "stream",
          "name": "stdout",
          "text": [
            "1 3 2\n",
            "4\n"
          ]
        }
      ]
    },
    {
      "cell_type": "code",
      "source": [
        "a, r, n = input().split()\n",
        "a, r, n = int(a), int(r), int(n)\n",
        "\n",
        "result = a * r**(n-1)\n",
        "\n",
        "print(result)"
      ],
      "metadata": {
        "colab": {
          "base_uri": "https://localhost:8080/"
        },
        "id": "e7BicI_ovHYF",
        "outputId": "75a37ab2-5bc8-4638-9721-702d3b14978a"
      },
      "execution_count": 64,
      "outputs": [
        {
          "output_type": "stream",
          "name": "stdout",
          "text": [
            "2 3 7\n",
            "1458\n"
          ]
        }
      ]
    },
    {
      "cell_type": "code",
      "source": [
        "a, m, d, n = input().split()\n",
        "a, m, d, n = int(a), int(m), int(d), int(n)\n",
        "\n",
        "result = a\n",
        "\n",
        "\n",
        "for i in range(1, n):\n",
        "  \n",
        "  result = result * m + d\n",
        "\n",
        "print(result)"
      ],
      "metadata": {
        "colab": {
          "base_uri": "https://localhost:8080/"
        },
        "id": "4DIKOw_JvsZp",
        "outputId": "1e1f4f8e-dd32-4692-8867-7b7cef4089f2"
      },
      "execution_count": 66,
      "outputs": [
        {
          "output_type": "stream",
          "name": "stdout",
          "text": [
            "1 -2 1 8\n",
            "-85\n"
          ]
        }
      ]
    },
    {
      "cell_type": "markdown",
      "source": [
        "# 6091~6098"
      ],
      "metadata": {
        "id": "LXCrydaawWtL"
      }
    },
    {
      "cell_type": "markdown",
      "source": [
        "6091 : [기초-종합] 함께 문제 푸는 날(설명)(py) / **IDEA**가 아주 중요한듯!"
      ],
      "metadata": {
        "id": "JXIa7fESxk2a"
      }
    },
    {
      "cell_type": "code",
      "source": [
        "a, b, c = input().split()\n",
        "a, b, c = int(a), int(b), int(c)\n",
        "\n",
        "day = 1\n",
        "\n",
        "while day % a != 0 or day % b != 0 or day % c != 0:\n",
        "  day += 1\n",
        "\n",
        "print(day) "
      ],
      "metadata": {
        "colab": {
          "base_uri": "https://localhost:8080/"
        },
        "id": "-wKeNYiswYRS",
        "outputId": "10eca1f5-5a16-48d1-801f-18128f25ba8d"
      },
      "execution_count": 68,
      "outputs": [
        {
          "output_type": "stream",
          "name": "stdout",
          "text": [
            "3 7 9\n",
            "63\n"
          ]
        }
      ]
    },
    {
      "cell_type": "code",
      "source": [
        "n = int(input())\n",
        "a = input().split()\n",
        "\n",
        "for l in range(n):\n",
        "  a[l] = int(a[l])\n",
        "\n",
        "count = []\n",
        "\n",
        "for i in range(23):\n",
        "  count.append(0)\n",
        "\n",
        "for j in a:\n",
        "  count[j-1] += 1\n",
        "\n",
        "for k in count:\n",
        "  print(k, end = \" \")"
      ],
      "metadata": {
        "colab": {
          "base_uri": "https://localhost:8080/"
        },
        "id": "81ZbAOqqyHrw",
        "outputId": "20629ae0-7e41-4983-a315-c52c6a074256"
      },
      "execution_count": 71,
      "outputs": [
        {
          "output_type": "stream",
          "name": "stdout",
          "text": [
            "10\n",
            "1 3 2 2 5 6 7 4 5 9\n",
            "12112110100000000000000"
          ]
        }
      ]
    },
    {
      "cell_type": "markdown",
      "source": [
        "6093 : [기초-리스트] 이상한 출석 번호 부르기2(py)"
      ],
      "metadata": {
        "id": "-5lK_ZkE3DJD"
      }
    },
    {
      "cell_type": "markdown",
      "source": [
        "출석 번호를 n번 무작위로 불렀을 때, 부른 번호를 거꾸로 출력해 보자.\n",
        "예시\n",
        "...\n",
        "for i in range(n-1, -1, -1) :\n",
        "  print(a[i], end=' ')\n",
        "..."
      ],
      "metadata": {
        "id": "68r2WTrK3ADC"
      }
    },
    {
      "cell_type": "code",
      "source": [
        "n = int(input())\n",
        "a = input().split()\n",
        "\n",
        "for i in range(n):\n",
        "  a[i] = int(a[i])\n",
        "\n",
        "for j in range(n-1, -1, -1):\n",
        "  print(a[j], end = \" \")"
      ],
      "metadata": {
        "colab": {
          "base_uri": "https://localhost:8080/"
        },
        "id": "3rwyqeOf26OV",
        "outputId": "e1366923-571d-4ed9-bd6e-237652a8e5a6"
      },
      "execution_count": 73,
      "outputs": [
        {
          "output_type": "stream",
          "name": "stdout",
          "text": [
            "10\n",
            "10 4 2 3 6 6 7 9 8 5\n",
            "5 8 9 7 6 6 3 2 4 10 "
          ]
        }
      ]
    },
    {
      "cell_type": "code",
      "source": [
        "n = int(input())\n",
        "a = input().split()\n",
        "\n",
        "result = None;\n",
        "\n",
        "for i in range(n):\n",
        "  a[i] = int(a[i])\n",
        "\n",
        "for num in a:\n",
        "  if result == None:\n",
        "    result = num\n",
        "  else:\n",
        "    if result >= num:\n",
        "      result = num\n",
        "    else:\n",
        "      continue;\n",
        "\n",
        "print(result)"
      ],
      "metadata": {
        "colab": {
          "base_uri": "https://localhost:8080/"
        },
        "id": "bITcaiYf3-eT",
        "outputId": "2049854d-c274-4671-c25a-b0ec9f5a6257"
      },
      "execution_count": 76,
      "outputs": [
        {
          "output_type": "stream",
          "name": "stdout",
          "text": [
            "10\n",
            "10 4 2 3 6 6 7 9 8 5\n",
            "2\n"
          ]
        }
      ]
    },
    {
      "cell_type": "code",
      "source": [
        "# <위 문제의 다른 풀이>\n",
        "n = int(input())\n",
        "a = input().split()\n",
        "\n",
        "for i in range(n):\n",
        "  a[i] = int(a[i])\n",
        "\n",
        "min = a[0]\n",
        "for i in range(0, n):\n",
        "  if a[i] < min:\n",
        "    min = a[i]\n",
        "print(min)"
      ],
      "metadata": {
        "colab": {
          "base_uri": "https://localhost:8080/"
        },
        "id": "SzmHinjj65_0",
        "outputId": "714029c5-7960-499a-8f8d-73453df1a508"
      },
      "execution_count": 77,
      "outputs": [
        {
          "output_type": "stream",
          "name": "stdout",
          "text": [
            "10\n",
            "10 4 2 3 6 6 7 9 8 5\n",
            "2\n"
          ]
        }
      ]
    },
    {
      "cell_type": "markdown",
      "source": [
        "6095 : [기초-리스트] 바둑판에 흰 돌 놓기(설명)(py) / **List Comprehension** / 중요해보임."
      ],
      "metadata": {
        "id": "-9_bB8W88PJu"
      }
    },
    {
      "cell_type": "code",
      "source": [
        "n = int(input())\n",
        "\n",
        "location = [[0 for j in range(19)] for i in range(19)]\n",
        "\n",
        "for i in range(n):\n",
        "  x, y = map(int, input().split())\n",
        "  location[x-1][y-1] = 1\n",
        "\n",
        "for i in range(19):\n",
        "  for j in range(19):\n",
        "    print(location[i][j], end = \" \")\n",
        "  print()"
      ],
      "metadata": {
        "colab": {
          "base_uri": "https://localhost:8080/"
        },
        "id": "nkHyeFVZ6PPN",
        "outputId": "0e980d7f-3553-4494-945e-edf498d71ee5"
      },
      "execution_count": 98,
      "outputs": [
        {
          "output_type": "stream",
          "name": "stdout",
          "text": [
            "5\n",
            "1 1\n",
            "2 2\n",
            "3 3\n",
            "4 4\n",
            "5 5\n",
            "1 0 0 0 0 0 0 0 0 0 0 0 0 0 0 0 0 0 0 \n",
            "0 1 0 0 0 0 0 0 0 0 0 0 0 0 0 0 0 0 0 \n",
            "0 0 1 0 0 0 0 0 0 0 0 0 0 0 0 0 0 0 0 \n",
            "0 0 0 1 0 0 0 0 0 0 0 0 0 0 0 0 0 0 0 \n",
            "0 0 0 0 1 0 0 0 0 0 0 0 0 0 0 0 0 0 0 \n",
            "0 0 0 0 0 0 0 0 0 0 0 0 0 0 0 0 0 0 0 \n",
            "0 0 0 0 0 0 0 0 0 0 0 0 0 0 0 0 0 0 0 \n",
            "0 0 0 0 0 0 0 0 0 0 0 0 0 0 0 0 0 0 0 \n",
            "0 0 0 0 0 0 0 0 0 0 0 0 0 0 0 0 0 0 0 \n",
            "0 0 0 0 0 0 0 0 0 0 0 0 0 0 0 0 0 0 0 \n",
            "0 0 0 0 0 0 0 0 0 0 0 0 0 0 0 0 0 0 0 \n",
            "0 0 0 0 0 0 0 0 0 0 0 0 0 0 0 0 0 0 0 \n",
            "0 0 0 0 0 0 0 0 0 0 0 0 0 0 0 0 0 0 0 \n",
            "0 0 0 0 0 0 0 0 0 0 0 0 0 0 0 0 0 0 0 \n",
            "0 0 0 0 0 0 0 0 0 0 0 0 0 0 0 0 0 0 0 \n",
            "0 0 0 0 0 0 0 0 0 0 0 0 0 0 0 0 0 0 0 \n",
            "0 0 0 0 0 0 0 0 0 0 0 0 0 0 0 0 0 0 0 \n",
            "0 0 0 0 0 0 0 0 0 0 0 0 0 0 0 0 0 0 0 \n",
            "0 0 0 0 0 0 0 0 0 0 0 0 0 0 0 0 0 0 0 \n"
          ]
        }
      ]
    },
    {
      "cell_type": "markdown",
      "source": [
        "6096 : [기초-리스트] 바둑알 십자 뒤집기(py) / **입력 데이터의 형태가 특이.**"
      ],
      "metadata": {
        "id": "3ZQQALQsYIz5"
      }
    },
    {
      "cell_type": "code",
      "source": [
        "# location 입력 받기\n",
        "location = [[0 for i in range(19)] for j in range(19)]\n",
        "for i in range(19):\n",
        "  location[i] = list(map(int, input().split()))\n",
        "  \n",
        "n = int(input())\n",
        "\n",
        "# 좌표 입력\n",
        "for i in range(n):\n",
        "  x, y = map(int, input().split())\n",
        "\n",
        "  # 가로줄, 세로줄 바꾸기\n",
        "  for i in range(19):\n",
        "    # 1) 가로줄 바꾸기\n",
        "    if int(location[x-1][i]) == 0:\n",
        "      location[x-1][i] = 1\n",
        "    else:\n",
        "      location[x-1][i] = 0\n",
        "    \n",
        "    # 2) 세로줄 바꾸기\n",
        "    if int(location[i][y-1]) == 0:\n",
        "      location[i][y-1] = 1\n",
        "    else:\n",
        "      location[i][y-1] = 0\n",
        "\n",
        "# 결과 출력\n",
        "for i in range(19):\n",
        "  for j in range(19):\n",
        "    print(int(location[i][j]), end = \" \")\n",
        "  print()"
      ],
      "metadata": {
        "colab": {
          "base_uri": "https://localhost:8080/"
        },
        "id": "HY7zSJ_JOgRV",
        "outputId": "69bddaed-096a-4998-d14b-48f2a85fe695"
      },
      "execution_count": 12,
      "outputs": [
        {
          "output_type": "stream",
          "name": "stdout",
          "text": [
            "0 0 0 0 0 0 0 0 0 1 0 1 0 0 0 0 0 0 0\n",
            "0 0 0 0 0 0 0 0 0 1 0 1 0 0 0 0 0 0 0\n",
            "0 0 0 0 0 0 0 0 0 1 0 1 0 0 0 0 0 0 0\n",
            "0 0 0 0 0 0 0 0 0 1 0 1 0 0 0 0 0 0 0\n",
            "0 0 0 0 0 0 0 0 0 1 0 1 0 0 0 0 0 0 0\n",
            "0 0 0 0 0 0 0 0 0 1 0 1 0 0 0 0 0 0 0\n",
            "0 0 0 0 0 0 0 0 0 1 0 1 0 0 0 0 0 0 0\n",
            "0 0 0 0 0 0 0 0 0 1 0 1 0 0 0 0 0 0 0\n",
            "0 0 0 0 0 0 0 0 0 1 0 1 0 0 0 0 0 0 0\n",
            "1 1 1 1 1 1 1 1 1 1 1 1 1 1 1 1 1 1 1\n",
            "0 0 0 0 0 0 0 0 0 1 0 1 0 0 0 0 0 0 0\n",
            "1 1 1 1 1 1 1 1 1 1 1 1 1 1 1 1 1 1 1\n",
            "0 0 0 0 0 0 0 0 0 1 0 1 0 0 0 0 0 0 0\n",
            "0 0 0 0 0 0 0 0 0 1 0 1 0 0 0 0 0 0 0\n",
            "0 0 0 0 0 0 0 0 0 1 0 1 0 0 0 0 0 0 0\n",
            "0 0 0 0 0 0 0 0 0 1 0 1 0 0 0 0 0 0 0\n",
            "0 0 0 0 0 0 0 0 0 1 0 1 0 0 0 0 0 0 0\n",
            "0 0 0 0 0 0 0 0 0 1 0 1 0 0 0 0 0 0 0\n",
            "0 0 0 0 0 0 0 0 0 1 0 1 0 0 0 0 0 0 0\n",
            "2\n",
            "10 10\n",
            "12 12\n",
            "0 0 0 0 0 0 0 0 0 0 0 0 0 0 0 0 0 0 0 \n",
            "0 0 0 0 0 0 0 0 0 0 0 0 0 0 0 0 0 0 0 \n",
            "0 0 0 0 0 0 0 0 0 0 0 0 0 0 0 0 0 0 0 \n",
            "0 0 0 0 0 0 0 0 0 0 0 0 0 0 0 0 0 0 0 \n",
            "0 0 0 0 0 0 0 0 0 0 0 0 0 0 0 0 0 0 0 \n",
            "0 0 0 0 0 0 0 0 0 0 0 0 0 0 0 0 0 0 0 \n",
            "0 0 0 0 0 0 0 0 0 0 0 0 0 0 0 0 0 0 0 \n",
            "0 0 0 0 0 0 0 0 0 0 0 0 0 0 0 0 0 0 0 \n",
            "0 0 0 0 0 0 0 0 0 0 0 0 0 0 0 0 0 0 0 \n",
            "0 0 0 0 0 0 0 0 0 1 0 1 0 0 0 0 0 0 0 \n",
            "0 0 0 0 0 0 0 0 0 0 0 0 0 0 0 0 0 0 0 \n",
            "0 0 0 0 0 0 0 0 0 1 0 1 0 0 0 0 0 0 0 \n",
            "0 0 0 0 0 0 0 0 0 0 0 0 0 0 0 0 0 0 0 \n",
            "0 0 0 0 0 0 0 0 0 0 0 0 0 0 0 0 0 0 0 \n",
            "0 0 0 0 0 0 0 0 0 0 0 0 0 0 0 0 0 0 0 \n",
            "0 0 0 0 0 0 0 0 0 0 0 0 0 0 0 0 0 0 0 \n",
            "0 0 0 0 0 0 0 0 0 0 0 0 0 0 0 0 0 0 0 \n",
            "0 0 0 0 0 0 0 0 0 0 0 0 0 0 0 0 0 0 0 \n",
            "0 0 0 0 0 0 0 0 0 0 0 0 0 0 0 0 0 0 0 \n"
          ]
        }
      ]
    },
    {
      "cell_type": "markdown",
      "source": [
        "**6098 : [기초-리스트] 성실한 개미(py)**"
      ],
      "metadata": {
        "id": "SP7-ozb83zL5"
      }
    },
    {
      "cell_type": "code",
      "source": [
        "h, w = map(int, input().split())\n",
        "n = int(input())\n",
        "\n",
        "# 격자판\n",
        "location = [[0 for i in range(w)] for j in range(h)]\n",
        "\n",
        "# 길이(l), 방향(d), 좌표(x,y) 입력\n",
        "\n",
        "for i in range(n):\n",
        "\n",
        "  l, d, x, y = map(int, input().split())\n",
        "\n",
        "# 가로인 경우  \n",
        "  if d == 0:\n",
        "    for j in range(l):\n",
        "      location[x-1][y-1+j] = 1\n",
        "\n",
        "# 세로인 경우\n",
        "  else:\n",
        "    for k in range(l):\n",
        "      location[x-1+k][y-1] = 1\n",
        "\n",
        "# 결과 출력\n",
        "for i in range(h):\n",
        "  for j in range(w):\n",
        "    print(location[i][j], end = \" \")\n",
        "  print()\n",
        "\n"
      ],
      "metadata": {
        "colab": {
          "base_uri": "https://localhost:8080/"
        },
        "id": "SdPWdDXTLj4v",
        "outputId": "62387618-8d37-4092-921e-7329bb72e1dd"
      },
      "execution_count": 6,
      "outputs": [
        {
          "output_type": "stream",
          "name": "stdout",
          "text": [
            "5 5\n",
            "3\n",
            "2 0 1 1\n",
            "3 1 2 3\n",
            "4 1 2 5\n",
            "1 1 0 0 0 \n",
            "0 0 1 0 1 \n",
            "0 0 1 0 1 \n",
            "0 0 1 0 1 \n",
            "0 0 0 0 1 \n"
          ]
        }
      ]
    },
    {
      "cell_type": "code",
      "source": [
        "# 미로상자 구조 입력\n",
        "\n",
        "maze = []\n",
        "for i in range(10):\n",
        "  maze.append([])\n",
        "  for j in range(10):\n",
        "    maze[i].append(0)\n",
        "\n",
        "for i in range(10):\n",
        "  maze[i] = list(map(int, input().split()))\n",
        "\n",
        "# 개미 처음 위치\n",
        "x = 1\n",
        "y = 1\n",
        "maze[1][1] = 9\n",
        "# 뭔가 재귀로 풀 수 있을 것 같은??\n",
        "\n",
        "# 성실한 개미의 이동\n",
        "# 오른쪽으로 이동 우선\n",
        "while True:\n",
        "  # 오른쪽으로 갔는데, 벽X\n",
        "  if maze[x][y+1] == 0:\n",
        "    maze[x][y+1] = 9\n",
        "    y += 1\n",
        "  # 오른쪽으로 갔는데, 벽O  \n",
        "  elif maze[x][y+1] == 1:\n",
        "    # 밑으로 갔는데, 벽X\n",
        "    if maze[x+1][y] == 0:\n",
        "      maze[x+1][y] = 9\n",
        "    # 밑으로 갔는데, 벽O\n",
        "    elif maze[x+1][y] == 1:\n",
        "      break;\n",
        "    # 밑으로 갔는데, 먹이  \n",
        "    else:\n",
        "      maze[x+1][y] = 9 \n",
        "      break; # 종료\n",
        "    x += 1\n",
        "\n",
        "for i in range(10):\n",
        "  for j in range(10):\n",
        "    print(maze[i][j], end = \" \")\n",
        "  print()"
      ],
      "metadata": {
        "colab": {
          "base_uri": "https://localhost:8080/"
        },
        "id": "G9u58VQBf1tr",
        "outputId": "1f1d56ca-7dea-4d43-8a47-b3dba14b377e"
      },
      "execution_count": 25,
      "outputs": [
        {
          "output_type": "stream",
          "name": "stdout",
          "text": [
            "1 1 1 1 1 1 1 1 1 1\n",
            "1 0 0 1 0 0 0 0 0 1\n",
            "1 0 0 1 1 1 0 0 0 1\n",
            "1 0 0 0 0 0 0 1 0 1\n",
            "1 0 0 0 0 0 0 1 0 1\n",
            "1 0 0 0 0 1 0 1 0 1\n",
            "1 0 0 0 0 1 2 1 0 1\n",
            "1 0 0 0 0 1 0 0 0 1\n",
            "1 0 0 0 0 0 0 0 0 1\n",
            "1 1 1 1 1 1 1 1 1 1\n",
            "1 1 1 1 1 1 1 1 1 1 \n",
            "1 9 9 1 0 0 0 0 0 1 \n",
            "1 0 9 1 1 1 0 0 0 1 \n",
            "1 0 9 9 9 9 9 1 0 1 \n",
            "1 0 0 0 0 0 9 1 0 1 \n",
            "1 0 0 0 0 1 9 1 0 1 \n",
            "1 0 0 0 0 1 9 1 0 1 \n",
            "1 0 0 0 0 1 0 0 0 1 \n",
            "1 0 0 0 0 0 0 0 0 1 \n",
            "1 1 1 1 1 1 1 1 1 1 \n"
          ]
        }
      ]
    },
    {
      "cell_type": "code",
      "source": [
        "# 미로상자 구조 입력 (이 풀이버전은 성공)\n",
        "\n",
        "maze = []\n",
        "for i in range(10):\n",
        "  maze.append([])\n",
        "  for j in range(10):\n",
        "    maze[i].append(0)\n",
        "\n",
        "for i in range(10):\n",
        "  maze[i] = list(map(int, input().split()))\n",
        "x = 1\n",
        "y = 1\n",
        "maze[1][1] = 9\n",
        "\n",
        "while True:\n",
        "  # 오른쪽으로 갔는데, 벽X\n",
        "  if maze[x][y+1] == 0:\n",
        "    maze[x][y+1] = 9\n",
        "    y += 1\n",
        "    continue;\n",
        "  # 오른쪽으로 갔는데, 먹이  \n",
        "  elif maze[x][y+1] == 2:\n",
        "    maze[x][y+1] = 9\n",
        "    break;\n",
        "  \n",
        "\n",
        "    # 밑으로 갔는데, 벽X\n",
        "  if maze[x+1][y] == 0:\n",
        "    maze[x+1][y] = 9\n",
        "    x += 1\n",
        "  \n",
        "    # 밑으로 갔는데, 벽O\n",
        "  elif maze[x+1][y] == 2:\n",
        "    maze[x+1][y] = 9 \n",
        "    break; \n",
        "    \n",
        "  else:\n",
        "    break; \n",
        "    \n",
        "\n",
        "for i in range(10):\n",
        "  for j in range(10):\n",
        "    print(maze[i][j], end = \" \")\n",
        "  print()"
      ],
      "metadata": {
        "colab": {
          "base_uri": "https://localhost:8080/"
        },
        "id": "ZZpkyJFc3xBr",
        "outputId": "1b7ab1a7-39a9-4f7b-9a8f-0f666d041c8f"
      },
      "execution_count": 30,
      "outputs": [
        {
          "output_type": "stream",
          "name": "stdout",
          "text": [
            "1 1 1 1 1 1 1 1 1 1\n",
            "1 0 0 1 0 0 0 0 0 1\n",
            "1 0 0 1 1 1 0 0 0 1\n",
            "1 0 0 0 0 0 0 1 0 1\n",
            "1 0 0 0 0 0 0 1 0 1\n",
            "1 0 0 0 0 1 0 1 0 1\n",
            "1 0 0 0 0 1 2 1 0 1\n",
            "1 0 0 0 0 1 0 0 0 1\n",
            "1 0 0 0 0 0 0 0 0 1\n",
            "1 1 1 1 1 1 1 1 1 1\n",
            "1 1 1 1 1 1 1 1 1 1 \n",
            "1 9 9 1 0 0 0 0 0 1 \n",
            "1 0 9 1 1 1 0 0 0 1 \n",
            "1 0 9 9 9 9 9 1 0 1 \n",
            "1 0 0 0 0 0 9 1 0 1 \n",
            "1 0 0 0 0 1 9 1 0 1 \n",
            "1 0 0 0 0 1 9 1 0 1 \n",
            "1 0 0 0 0 1 0 0 0 1 \n",
            "1 0 0 0 0 0 0 0 0 1 \n",
            "1 1 1 1 1 1 1 1 1 1 \n"
          ]
        }
      ]
    }
  ]
}