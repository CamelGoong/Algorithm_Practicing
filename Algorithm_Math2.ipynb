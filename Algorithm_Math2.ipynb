{
  "nbformat": 4,
  "nbformat_minor": 0,
  "metadata": {
    "colab": {
      "name": "Algorithm_Math2.ipynb",
      "provenance": [],
      "collapsed_sections": [
        "Y2xNbPe1KzRk",
        "cF5XA8swu_S_",
        "OO2BZCHwx-nn",
        "c_LV2QML7tXu",
        "wBzVy3A_VETO"
      ],
      "toc_visible": true,
      "authorship_tag": "ABX9TyMqftWrjixy1ilzBLgYNGwY",
      "include_colab_link": true
    },
    "kernelspec": {
      "name": "python3",
      "display_name": "Python 3"
    },
    "language_info": {
      "name": "python"
    }
  },
  "cells": [
    {
      "cell_type": "markdown",
      "metadata": {
        "id": "view-in-github",
        "colab_type": "text"
      },
      "source": [
        "<a href=\"https://colab.research.google.com/github/CamelGoong/Algorithm_Practicing/blob/main/Algorithm_Math2.ipynb\" target=\"_parent\"><img src=\"https://colab.research.google.com/assets/colab-badge.svg\" alt=\"Open In Colab\"/></a>"
      ]
    },
    {
      "cell_type": "markdown",
      "source": [
        "# 1978번_소수 찾기"
      ],
      "metadata": {
        "id": "Y2xNbPe1KzRk"
      }
    },
    {
      "cell_type": "code",
      "source": [
        "# 함수로 미리 정의\n",
        "def isPrime(num):\n",
        "  flag = 0\n",
        "  for i in range(1, num):\n",
        "    if num % i == 0:\n",
        "      flag += 1\n",
        "\n",
        "  if flag == 1:\n",
        "    return 1\n",
        "  else:\n",
        "    return 0"
      ],
      "metadata": {
        "id": "gwKCs9dfu-VV"
      },
      "execution_count": null,
      "outputs": []
    },
    {
      "cell_type": "code",
      "source": [
        "## 여기부터가 실행코드\n",
        "N = int(input())\n",
        "\n",
        "result_count = 0\n",
        "\n",
        "numbers = map(int, input().split(\" \"))\n",
        "for number in numbers:\n",
        "  result_count += isPrime(number)\n",
        "\n",
        "print(result_count)"
      ],
      "metadata": {
        "colab": {
          "base_uri": "https://localhost:8080/"
        },
        "id": "iiZjDtQase1a",
        "outputId": "5f81ca84-7bfa-4d4b-b5a9-3dd8db3c3052"
      },
      "execution_count": null,
      "outputs": [
        {
          "output_type": "stream",
          "name": "stdout",
          "text": [
            "4\n",
            "1 3 5 7\n",
            "3\n"
          ]
        }
      ]
    },
    {
      "cell_type": "markdown",
      "source": [
        "# 2581번_소수"
      ],
      "metadata": {
        "id": "cF5XA8swu_S_"
      }
    },
    {
      "cell_type": "code",
      "source": [
        "# 함수로 미리 정의 / return값만 일부 수정.\n",
        "def isPrime(num):\n",
        "  flag = 0\n",
        "  for i in range(1, num):\n",
        "    if num % i == 0:\n",
        "      flag += 1\n",
        "\n",
        "  if flag == 1:\n",
        "    return num\n",
        "  else:\n",
        "    return 0"
      ],
      "metadata": {
        "id": "u-sbeJ3SvW_f"
      },
      "execution_count": null,
      "outputs": []
    },
    {
      "cell_type": "code",
      "source": [
        "M = int(input())\n",
        "N = int(input())\n",
        "\n",
        "prime_list = []\n",
        "\n",
        "for num in range(M, N+1):\n",
        "  if isPrime(num) != 0:\n",
        "    prime_list.append(isPrime(num))\n",
        "\n",
        "if len(prime_list) == 0:\n",
        "  print(-1)\n",
        "else:\n",
        "  print(sum(prime_list))\n",
        "  print(min(prime_list))"
      ],
      "metadata": {
        "colab": {
          "base_uri": "https://localhost:8080/"
        },
        "id": "96jjnohAtADg",
        "outputId": "105188a1-db3c-490f-9743-7f5507a1c9c2"
      },
      "execution_count": null,
      "outputs": [
        {
          "output_type": "stream",
          "name": "stdout",
          "text": [
            "64\n",
            "65\n",
            "-1\n"
          ]
        }
      ]
    },
    {
      "cell_type": "markdown",
      "source": [
        "# 11653번_소인수분해"
      ],
      "metadata": {
        "id": "OO2BZCHwx-nn"
      }
    },
    {
      "cell_type": "markdown",
      "source": [
        "처음에 **시간초과**가 나와서 이거를 해결해야 함."
      ],
      "metadata": {
        "id": "6UvtTcHd4W_Z"
      }
    },
    {
      "cell_type": "code",
      "source": [
        "N = int(input())\n",
        "\n",
        "prime = 2\n",
        "\n",
        "while N!=1:\n",
        "  if N % prime == 0:\n",
        "    print(prime)\n",
        "    \n",
        "    N = N / prime\n",
        "  \n",
        "  else:\n",
        "    prime += 1"
      ],
      "metadata": {
        "colab": {
          "base_uri": "https://localhost:8080/"
        },
        "id": "qowJG52KyIvP",
        "outputId": "96ef818a-0da4-4df1-dd53-b7b2eb386b4c"
      },
      "execution_count": null,
      "outputs": [
        {
          "output_type": "stream",
          "name": "stdout",
          "text": [
            "9991\n",
            "97\n",
            "103\n"
          ]
        }
      ]
    },
    {
      "cell_type": "markdown",
      "source": [
        "# (내 문제)1929번_소수 구하기"
      ],
      "metadata": {
        "id": "c_LV2QML7tXu"
      }
    },
    {
      "cell_type": "markdown",
      "source": [
        "이것도 한번 '시간초과' 에러가 나서 수정 중... (잘 모르겠음)"
      ],
      "metadata": {
        "id": "VRooUMZE-Gf3"
      }
    },
    {
      "cell_type": "markdown",
      "source": [
        "1. 원래 내 풀이"
      ],
      "metadata": {
        "id": "Ob7kgiN8U1Pv"
      }
    },
    {
      "cell_type": "code",
      "source": [
        "def isPrime(num):\n",
        "  flag = 0\n",
        "  for i in range(2, num):\n",
        "    if num % i == 0:\n",
        "      flag += 1\n",
        "      break\n",
        "\n",
        "  if flag == 0:\n",
        "    return print(num)"
      ],
      "metadata": {
        "id": "kOi-TJ7E7xbW"
      },
      "execution_count": null,
      "outputs": []
    },
    {
      "cell_type": "code",
      "source": [
        "M, N = map(int, input().split())\n",
        "\n",
        "for num in range(M, N+1):\n",
        "  isPrime(num)"
      ],
      "metadata": {
        "colab": {
          "base_uri": "https://localhost:8080/"
        },
        "id": "i-QhsnYsO--A",
        "outputId": "0f5a98d6-fc6f-4fe6-a94d-95ce7060e3f0"
      },
      "execution_count": null,
      "outputs": [
        {
          "output_type": "stream",
          "name": "stdout",
          "text": [
            "3 16\n",
            "3\n",
            "5\n",
            "7\n",
            "11\n",
            "13\n"
          ]
        }
      ]
    },
    {
      "cell_type": "markdown",
      "source": [
        "2. 참고한 풀이"
      ],
      "metadata": {
        "id": "4PYz2_neU4GH"
      }
    },
    {
      "cell_type": "code",
      "source": [
        "def isPrime(num):\n",
        "    if num == 1:\n",
        "        return False\n",
        "    else:\n",
        "        for i in range(2, int(num**0.5) + 1):\n",
        "            if num % i == 0:\n",
        "                return False\n",
        "        return True\n",
        " \n",
        " \n",
        "M, N = map(int, input().split())\n",
        " \n",
        "for i in range(M, N + 1):\n",
        "    if isPrime(i):\n",
        "        print(i)"
      ],
      "metadata": {
        "colab": {
          "base_uri": "https://localhost:8080/"
        },
        "id": "zfQuc3e7RlIf",
        "outputId": "e5f80f7a-25f0-40c3-bb5e-6f92d4ce4000"
      },
      "execution_count": null,
      "outputs": [
        {
          "output_type": "stream",
          "name": "stdout",
          "text": [
            "3 16\n",
            "3\n",
            "5\n",
            "7\n",
            "11\n",
            "13\n"
          ]
        }
      ]
    },
    {
      "cell_type": "markdown",
      "source": [
        "# 4948번_베르트랑 공준"
      ],
      "metadata": {
        "id": "wBzVy3A_VETO"
      }
    },
    {
      "cell_type": "markdown",
      "source": [
        "처음 풀이로"
      ],
      "metadata": {
        "id": "nrxIQ2l4bVqv"
      }
    },
    {
      "cell_type": "code",
      "source": [
        "def isPrime(num):\n",
        "  flag = 0\n",
        "  for i in range(2, num):\n",
        "    if num % i == 0:\n",
        "      flag += 1\n",
        "      return 0\n",
        "      break\n",
        "\n",
        "  if flag == 0:\n",
        "    return 1"
      ],
      "metadata": {
        "id": "W8UDFTuYVJ-v"
      },
      "execution_count": null,
      "outputs": []
    },
    {
      "cell_type": "code",
      "source": [
        "def isPrime(num):\n",
        "    if num == 1:\n",
        "        return 0\n",
        "    else:\n",
        "        for i in range(2, int(num**0.5) + 1):\n",
        "            if num % i == 0:\n",
        "                return 0\n",
        "        return 1\n",
        "\n",
        "while True:\n",
        "  n = int(input())\n",
        "  if n == 0:\n",
        "    break\n",
        "\n",
        "  result = 0\n",
        "  for num in range(n, 2*n+1):\n",
        "    result += isPrime(num)\n",
        "  print(result)"
      ],
      "metadata": {
        "colab": {
          "base_uri": "https://localhost:8080/"
        },
        "id": "SYJH1KIvVezd",
        "outputId": "a338e28f-148a-4540-ff1f-05a456a14a3b"
      },
      "execution_count": null,
      "outputs": [
        {
          "name": "stdout",
          "output_type": "stream",
          "text": [
            "1\n",
            "1\n",
            "10\n",
            "4\n",
            "13\n",
            "4\n",
            "100\n",
            "21\n",
            "1000\n",
            "135\n",
            "10000\n",
            "1033\n",
            "100000\n",
            "8392\n",
            "0\n"
          ]
        }
      ]
    },
    {
      "cell_type": "markdown",
      "source": [
        "참고한 다른 풀이"
      ],
      "metadata": {
        "id": "SDXMutR4c1e3"
      }
    },
    {
      "cell_type": "code",
      "source": [
        "def sosu(n):\n",
        "    if n ==1:\n",
        "        return False\n",
        "    for i in range(2,int(n**0.5)+1):\n",
        "        if n%i==0:\n",
        "            return False\n",
        "    return True\t\t\t\t\t\t\t#소수 구하는 방식은 위와 같다\n",
        "\n",
        "all_list = list(range(2,246912))\t\t#문제에서 제한한 범위\n",
        "memo = []\t\t\t\t\t\t\t\t#for문 밖에 리스트 정의\n",
        "\n",
        "for i in all_list:\t\t\t\t\t\t#2부터 2*123,456 범위\n",
        "    if sosu(i):\t\t\t\t\t\t\t#sosu함수에 해당하면\n",
        "        memo.append(i)\t\t\t\t\t#리스트에 추가\n",
        "\n",
        "n = int(input())\n",
        "\n",
        "while True:\n",
        "    count=0\t\t\t\t\t#갯수를 세야하는 조건 때문에 카운트\n",
        "    if n == 0 :\n",
        "            break\n",
        "    for i in memo:\t\t\t#memo리스트 중에서\n",
        "        if n < i <=2*n:\t\t#입력한 값의 범위 내에서 값이 있으면\n",
        "            count+=1\t\t#있을 때 마다 카운트 +1\n",
        "    print(count)\n",
        "    n = int(input())\t\t#0 입력받기 전까지 계속 해야하므로 입력 받음"
      ],
      "metadata": {
        "colab": {
          "base_uri": "https://localhost:8080/"
        },
        "id": "2lABUHkRXyv2",
        "outputId": "b3baa093-0102-478f-dc6f-183589d1e310"
      },
      "execution_count": null,
      "outputs": [
        {
          "name": "stdout",
          "output_type": "stream",
          "text": [
            "1\n",
            "1\n",
            "10\n",
            "4\n",
            "13\n",
            "3\n",
            "100\n",
            "21\n",
            "1000\n",
            "135\n",
            "10000\n",
            "1033\n",
            "100000\n",
            "8392\n",
            "0\n"
          ]
        }
      ]
    },
    {
      "cell_type": "markdown",
      "source": [
        "#9020번_골드바흐의 추측"
      ],
      "metadata": {
        "id": "LLYgSVaueo-W"
      }
    },
    {
      "cell_type": "markdown",
      "source": [
        "1) 원래 풀이: 소수를 전부 다 찾는 과정에서 시간이 많이 걸려서 '시간초과'가 뜨는 것으로 보임"
      ],
      "metadata": {
        "id": "LAbZjEg3quT4"
      }
    },
    {
      "cell_type": "code",
      "source": [
        "# 소수 구하는 함수 정의\n",
        "def isPrime(num):\n",
        "  if num == 1:\n",
        "    return False\n",
        "  else:\n",
        "    for i in range(2, int(num**0.5)+1):\n",
        "      if num % i == 0:\n",
        "        return False\n",
        "    else:\n",
        "      return True"
      ],
      "metadata": {
        "id": "e56nO6qjcm4S"
      },
      "execution_count": 17,
      "outputs": []
    },
    {
      "cell_type": "code",
      "source": [
        "T = int(input())\n",
        "\n",
        "for i in range(T):\n",
        "  n = int(input())\n",
        "\n",
        "  prime_list = []\n",
        "\n",
        "  # 주어진 숫자의 구간에서 소수 리스트 뽑기\n",
        "  for num in range(2, int(n/2)+1):\n",
        "    if isPrime(num):\n",
        "      prime_list.append(num)\n",
        "\n",
        "  prime_list = list(reversed(prime_list))\n",
        "\n",
        "  # 두 수의 차이가 최소가 되는 골드바흐 파티션 찾기\n",
        "  for prime in prime_list:\n",
        "    if isPrime(n-prime):\n",
        "      print(prime, n-prime)\n",
        "      break"
      ],
      "metadata": {
        "id": "YSzmbA63er82",
        "colab": {
          "base_uri": "https://localhost:8080/"
        },
        "outputId": "c13241a9-3935-437e-c883-ce0b8257e648"
      },
      "execution_count": 32,
      "outputs": [
        {
          "output_type": "stream",
          "name": "stdout",
          "text": [
            "3\n",
            "8\n",
            "3 5\n",
            "10\n",
            "5 5\n",
            "16\n",
            "5 11\n"
          ]
        }
      ]
    },
    {
      "cell_type": "markdown",
      "source": [
        "2) 수정 코드"
      ],
      "metadata": {
        "id": "k-2OaID5q3Hu"
      }
    },
    {
      "cell_type": "code",
      "source": [
        "# 소수 구하는 함수 정의\n",
        "def isPrime(num):\n",
        "  if num == 1:\n",
        "    return False\n",
        "  else:\n",
        "    for i in range(2, int(num**0.5)+1):\n",
        "      if num % i == 0:\n",
        "        return False\n",
        "    else:\n",
        "      return True"
      ],
      "metadata": {
        "id": "3_VXFIWQhAIo"
      },
      "execution_count": null,
      "outputs": []
    },
    {
      "cell_type": "code",
      "source": [
        "T = int(input())\n",
        "\n",
        "for i in range(T):\n",
        "  n = int(input())\n",
        "\n",
        "  a, b = int(n/2), int(n/2)\n",
        "\n",
        "  # 두 수의 차이가 최소가 되는 골드바흐 파티션 찾기\n",
        "  while not (isPrime(a) and isPrime(b)):\n",
        "    a -= 1\n",
        "    b += 1\n",
        "\n",
        "  print(a,b)"
      ],
      "metadata": {
        "colab": {
          "base_uri": "https://localhost:8080/"
        },
        "id": "40W3xD4Rq5by",
        "outputId": "eb756261-b363-4bec-d80f-98565883826e"
      },
      "execution_count": 33,
      "outputs": [
        {
          "output_type": "stream",
          "name": "stdout",
          "text": [
            "3\n",
            "8\n",
            "3 5\n",
            "10\n",
            "5 5\n",
            "16\n",
            "5 11\n"
          ]
        }
      ]
    }
  ]
}