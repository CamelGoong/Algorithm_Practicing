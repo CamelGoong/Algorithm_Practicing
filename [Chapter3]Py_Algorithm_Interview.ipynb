{
  "nbformat": 4,
  "nbformat_minor": 0,
  "metadata": {
    "colab": {
      "name": "[Chapter3]Py_Algorithm Interview.ipynb",
      "provenance": [],
      "authorship_tag": "ABX9TyNgAQZL6ImCuXJubfSf9TS8",
      "include_colab_link": true
    },
    "kernelspec": {
      "name": "python3",
      "display_name": "Python 3"
    },
    "language_info": {
      "name": "python"
    }
  },
  "cells": [
    {
      "cell_type": "markdown",
      "metadata": {
        "id": "view-in-github",
        "colab_type": "text"
      },
      "source": [
        "<a href=\"https://colab.research.google.com/github/CamelGoong/Algorithm_Practicing/blob/main/%5BChapter3%5DPy_Algorithm_Interview.ipynb\" target=\"_parent\"><img src=\"https://colab.research.google.com/assets/colab-badge.svg\" alt=\"Open In Colab\"/></a>"
      ]
    },
    {
      "cell_type": "markdown",
      "source": [
        "# enumerate"
      ],
      "metadata": {
        "id": "zkSPfYJm-2Ov"
      }
    },
    {
      "cell_type": "code",
      "execution_count": 1,
      "metadata": {
        "colab": {
          "base_uri": "https://localhost:8080/"
        },
        "id": "qz78Q4vT9-PU",
        "outputId": "9ff50717-b7f3-4878-c4b0-fc60392ced6b"
      },
      "outputs": [
        {
          "output_type": "stream",
          "name": "stdout",
          "text": [
            "0 a\n",
            "1 b\n",
            "2 c\n",
            "3 d\n",
            "4 e\n"
          ]
        }
      ],
      "source": [
        "a = [\"a\", \"b\", \"c\", \"d\", \"e\"]\n",
        "\n",
        "for i, j in enumerate(a):\n",
        "  print(i, j)"
      ]
    },
    {
      "cell_type": "markdown",
      "source": [
        "# f-string"
      ],
      "metadata": {
        "id": "aWVxfjmL_W0-"
      }
    },
    {
      "cell_type": "code",
      "source": [
        "idx = 1\n",
        "fruit = \"Apple\"\n",
        "\n",
        "print(f'{idx+1}: {fruit}')"
      ],
      "metadata": {
        "colab": {
          "base_uri": "https://localhost:8080/"
        },
        "id": "HxUniQwz_WTP",
        "outputId": "d41649e7-c8f4-43d7-e992-a8d37871d89c"
      },
      "execution_count": 2,
      "outputs": [
        {
          "output_type": "stream",
          "name": "stdout",
          "text": [
            "2: Apple\n"
          ]
        }
      ]
    },
    {
      "cell_type": "markdown",
      "source": [
        "# locals"
      ],
      "metadata": {
        "id": "0q7xqd9zAMSo"
      }
    },
    {
      "cell_type": "code",
      "source": [
        "import pprint\n",
        "pprint.pprint(locals())"
      ],
      "metadata": {
        "colab": {
          "base_uri": "https://localhost:8080/"
        },
        "id": "IfYxtXcA_Ht4",
        "outputId": "c7c57a8a-0dba-41bb-8764-218d1b67c67c"
      },
      "execution_count": 4,
      "outputs": [
        {
          "output_type": "stream",
          "name": "stdout",
          "text": [
            "{'In': ['',\n",
            "        'a = [\"a\", \"b\", \"c\", \"d\", \"e\"]\\n'\n",
            "        '\\n'\n",
            "        'for i, j in enumerate(a):\\n'\n",
            "        '  print(i, j)',\n",
            "        'idx = 1\\nfruit = \"Apple\"\\n\\nprint(f\\'{idx+1}: {fruit}\\')',\n",
            "        'import pprint\\npprint.pprint(locals())',\n",
            "        'import pprint\\npprint.pprint(locals())'],\n",
            " 'Out': {},\n",
            " '_': '',\n",
            " '__': '',\n",
            " '___': '',\n",
            " '__builtin__': <module 'builtins' (built-in)>,\n",
            " '__builtins__': <module 'builtins' (built-in)>,\n",
            " '__doc__': 'Automatically created module for IPython interactive environment',\n",
            " '__loader__': None,\n",
            " '__name__': '__main__',\n",
            " '__package__': None,\n",
            " '__spec__': None,\n",
            " '_dh': ['/content'],\n",
            " '_i': 'import pprint\\npprint.pprint(locals())',\n",
            " '_i1': 'a = [\"a\", \"b\", \"c\", \"d\", \"e\"]\\n'\n",
            "        '\\n'\n",
            "        'for i, j in enumerate(a):\\n'\n",
            "        '  print(i, j)',\n",
            " '_i2': 'idx = 1\\nfruit = \"Apple\"\\n\\nprint(f\\'{idx+1}: {fruit}\\')',\n",
            " '_i3': 'import pprint\\npprint.pprint(locals())',\n",
            " '_i4': 'import pprint\\npprint.pprint(locals())',\n",
            " '_ih': ['',\n",
            "         'a = [\"a\", \"b\", \"c\", \"d\", \"e\"]\\n'\n",
            "         '\\n'\n",
            "         'for i, j in enumerate(a):\\n'\n",
            "         '  print(i, j)',\n",
            "         'idx = 1\\nfruit = \"Apple\"\\n\\nprint(f\\'{idx+1}: {fruit}\\')',\n",
            "         'import pprint\\npprint.pprint(locals())',\n",
            "         'import pprint\\npprint.pprint(locals())'],\n",
            " '_ii': 'idx = 1\\nfruit = \"Apple\"\\n\\nprint(f\\'{idx+1}: {fruit}\\')',\n",
            " '_iii': 'a = [\"a\", \"b\", \"c\", \"d\", \"e\"]\\n'\n",
            "         '\\n'\n",
            "         'for i, j in enumerate(a):\\n'\n",
            "         '  print(i, j)',\n",
            " '_oh': {},\n",
            " '_sh': <module 'IPython.core.shadowns' from '/usr/local/lib/python3.7/dist-packages/IPython/core/shadowns.py'>,\n",
            " 'a': ['a', 'b', 'c', 'd', 'e'],\n",
            " 'exit': <IPython.core.autocall.ZMQExitAutocall object at 0x7fd768857890>,\n",
            " 'fruit': 'Apple',\n",
            " 'get_ipython': <bound method InteractiveShell.get_ipython of <google.colab._shell.Shell object at 0x7fd769063210>>,\n",
            " 'i': 4,\n",
            " 'idx': 1,\n",
            " 'j': 'e',\n",
            " 'pprint': <module 'pprint' from '/usr/lib/python3.7/pprint.py'>,\n",
            " 'quit': <IPython.core.autocall.ZMQExitAutocall object at 0x7fd768857890>}\n"
          ]
        }
      ]
    },
    {
      "cell_type": "code",
      "source": [
        ""
      ],
      "metadata": {
        "id": "xHk3GLSaAQn_"
      },
      "execution_count": null,
      "outputs": []
    }
  ]
}